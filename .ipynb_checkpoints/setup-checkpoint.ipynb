{
 "cells": [
  {
   "cell_type": "code",
   "execution_count": null,
   "metadata": {},
   "outputs": [],
   "source": [
    "from setuptools import setup\n",
    "setup(name='Testing_Disentangler_Draft',\n",
    "version='0.1',\n",
    "description='Testing of Package',\n",
    "url='#',\n",
    "author='Michael Higgns',\n",
    "author_email='michael.higgins@duke.edi',\n",
    "license='MIT',\n",
    "packages=['Disentangler_Draft'],\n",
    "zip_safe=False)"
   ]
  }
 ],
 "metadata": {
  "kernelspec": {
   "display_name": "Python 3",
   "language": "python",
   "name": "python3"
  },
  "language_info": {
   "codemirror_mode": {
    "name": "ipython",
    "version": 3
   },
   "file_extension": ".py",
   "mimetype": "text/x-python",
   "name": "python",
   "nbconvert_exporter": "python",
   "pygments_lexer": "ipython3",
   "version": "3.6.8"
  }
 },
 "nbformat": 4,
 "nbformat_minor": 2
}
