{
 "cells": [
  {
   "cell_type": "code",
   "execution_count": 108,
   "metadata": {},
   "outputs": [],
   "source": [
    "import numpy as np\n",
    "import matplotlib.pyplot as plt\n",
    "import pandas as pd\n",
    "import scipy as sp\n",
    "import lightkurve as lk\n",
    "from scipy import stats\n",
    "from photutils import centroids as cent\n",
    "import scipy.optimize as opt\n",
    "from tqdm import tqdm_notebook\n",
    "import pandas as pd\n",
    "from astropy import units as u"
   ]
  },
  {
   "cell_type": "code",
   "execution_count": 462,
   "metadata": {},
   "outputs": [],
   "source": [
    "def Simulate_Image(imageshape=(11,11),star1pos = [5,5],star1flux = 1000 , freq=10):\n",
    "\n",
    "    time = np.arange(1000)*1./48.\n",
    "    relamp = 1\n",
    "    signal = relamp * np.sin(time*freq*2*np.pi)\n",
    "\n",
    "    #Images\n",
    "    seeingsigma = 1.\n",
    "\n",
    "    imagestack = np.zeros((imageshape[0],imageshape[1],len(time)))\n",
    "    xcoord,ycoord = np.meshgrid(np.arange(imageshape[1]),np.arange(imageshape[0])) #strange order\n",
    "\n",
    "\n",
    "\n",
    "    backgroundnoise = 10.\n",
    "\n",
    "    #add starlight\n",
    "    distance1 = np.sqrt((xcoord-star1pos[0])**2 + (ycoord-star1pos[1])**2)\n",
    "\n",
    "    for i in range(len(time)):\n",
    "        #star 1\n",
    "        imagestack[:,:,i] += stats.norm.pdf(distance1,scale=seeingsigma) * star1flux * (1. + signal[i])\n",
    "\n",
    "\n",
    "        #add measurement noise\n",
    "        #should probably be Poisson\n",
    "        imagestack[:,:,i] += stats.norm.rvs(size=imagestack[:,:,i].size).reshape(imageshape) * np.sqrt(imagestack[:,:,i])\n",
    "\n",
    "        #background\n",
    "        #imagestack[:,:,i] += backgroundnoise\n",
    "        imagestack[:,:,i] += stats.norm.rvs(size=imagestack[:,:,i].size).reshape(imageshape) * np.sqrt(backgroundnoise)\n",
    "    stars = imagestack[:,:,:].T\n",
    "    \n",
    "    \n",
    "    diction = {\n",
    "        'stars':stars,\n",
    "        'frequency':freq,\n",
    "        'starposition':star1pos,\n",
    "        'starflux':star1flux,\n",
    "        'time':time,\n",
    "        'imageshape':imageshape\n",
    "    }\n",
    "    return diction"
   ]
  },
  {
   "cell_type": "code",
   "execution_count": 9,
   "metadata": {},
   "outputs": [],
   "source": [
    "\n",
    "def Simulate_Random_Image(imageshape=(11,11),separation=None,backgroundnoise=10,star1flux = 1000,star2flux = 1000):\n",
    "    time = np.arange(1000)*1./48.\n",
    "    freq1 = 10 #per day\n",
    "    freq2 = 5 #per day\n",
    "    relamp = .05\n",
    "    signal1 = relamp * np.sin(time*2*np.pi*freq1)\n",
    "    signal2 = relamp * np.sin(time*2*np.pi*freq2) #+ stats.norm.rvs(len(time))*.01\n",
    "    \n",
    "    \n",
    "\n",
    "    #Images\n",
    "    if(separation == None):\n",
    "        star1pos = [np.random.uniform()*imageshape[0],np.random.uniform()*imageshape[1]]\n",
    "        star2pos = [np.random.uniform()*imageshape[0],np.random.uniform()*imageshape[1]]\n",
    "        star1flux = np.random.randint(300,2000)\n",
    "        star2flux = np.random.randint(300,2000)\n",
    "        seeingsigma = 1.\n",
    "        \n",
    "        imagestack = np.zeros((imageshape[0],imageshape[1],len(time)))\n",
    "        xcoord,ycoord = np.meshgrid(np.arange(imageshape[1]),np.arange(imageshape[0])) #strange order\n",
    "\n",
    "\n",
    "\n",
    "        \n",
    "\n",
    "        #add starlight\n",
    "\n",
    "        distance1 = np.sqrt((xcoord-star1pos[0])**2 + (ycoord-star1pos[1])**2)\n",
    "        distance2 = np.sqrt((xcoord-star2pos[0])**2 + (ycoord-star2pos[1])**2)\n",
    "\n",
    "        for i in range(len(time)):\n",
    "            #star 1\n",
    "            imagestack[:,:,i] += stats.norm.pdf(distance1,scale=seeingsigma) * star1flux * (1. + signal1[i])\n",
    "\n",
    "            #star 2\n",
    "            imagestack[:,:,i] += stats.norm.pdf(distance2,scale=seeingsigma) * star2flux * (1. + signal2[i])\n",
    "\n",
    "            #add measurement noise\n",
    "            #should probably be Poisson\n",
    "            imagestack[:,:,i] += stats.norm.rvs(size=imagestack[:,:,i].size).reshape(imageshape) * np.sqrt(imagestack[:,:,i])\n",
    "\n",
    "            #background\n",
    "            imagestack[:,:,i] += backgroundnoise\n",
    "            imagestack[:,:,i] += stats.norm.rvs(size=imagestack[:,:,i].size).reshape(imageshape) * np.sqrt(backgroundnoise)\n",
    "\n",
    "        stars = imagestack[:,:,:].T\n",
    "        return [stars,freq1,freq2,star1pos,star2pos,star1flux,star2flux,time,imageshape,separation]\n",
    "        \n",
    "        \n",
    "    else:\n",
    "        star1pos = [5,5]#[np.random.uniform()*imageshape[0],np.random.uniform()*imageshape[1]]\n",
    "        star2pos = [star1pos[0],star1pos[1]+separation]#[np.random.uniform(star1pos[0]-separation,star1pos[0]+separation,size=1)]\n",
    "        #star2pos.extend(np.random.choice((-1,1))*np.sqrt(separation**2 - (star2pos[0]-star1pos[0])**2)+star1pos[1])\n",
    "        #star1flux = 1000#np.random.randint(300,2000)\n",
    "        #star2flux = 1000#np.random.randint(300,2000)\n",
    "        seeingsigma = .75\n",
    "\n",
    "        imagestack = np.zeros((imageshape[0],imageshape[1],len(time)))\n",
    "        ycoord,xcoord = np.meshgrid(np.arange(imageshape[1]),np.arange(imageshape[0])) #strange order\n",
    "\n",
    "\n",
    "\n",
    "\n",
    "        #add starlight\n",
    "\n",
    "        distance1 = np.sqrt((xcoord-star1pos[0])**2 + (ycoord-star1pos[1])**2)\n",
    "        distance2 = np.sqrt((xcoord-star2pos[0])**2 + (ycoord-star2pos[1])**2)\n",
    "\n",
    "        for i in range(len(time)):\n",
    "            #star 1\n",
    "            imagestack[:,:,i] += stats.norm.pdf(distance1,scale=seeingsigma) * star1flux * (1. + signal1[i])\n",
    "\n",
    "            #star 2\n",
    "            imagestack[:,:,i] += stats.norm.pdf(distance2,scale=seeingsigma) * star2flux * (1. + signal2[i])\n",
    "\n",
    "            #add measurement noise\n",
    "            #should probably be Poisson\n",
    "            imagestack[:,:,i] += stats.norm.rvs(size=imagestack[:,:,i].size).reshape(imageshape) * np.sqrt(imagestack[:,:,i])\n",
    "\n",
    "            #background\n",
    "            imagestack[:,:,i] += backgroundnoise\n",
    "            imagestack[:,:,i] += stats.norm.rvs(size=imagestack[:,:,i].size).reshape(imageshape) * np.sqrt(backgroundnoise)\n",
    "        \n",
    "        stars = imagestack[:,:,:].T\n",
    "        \n",
    "        \n",
    "\n",
    "        \n",
    "\n",
    "    diction = {\n",
    "        'stars':stars,\n",
    "        'Frequencystar1':freq1,\n",
    "        'Frequencystar2':freq2,\n",
    "        'star1position':star1pos,\n",
    "        'star2position':star2pos,\n",
    "        'star1flux':star1flux,\n",
    "        'star2flux':star2flux,\n",
    "        'time':time,\n",
    "        'imageshape':imageshape,\n",
    "        'separation':separation\n",
    "    }\n",
    "    return diction"
   ]
  },
  {
   "cell_type": "code",
   "execution_count": 102,
   "metadata": {},
   "outputs": [],
   "source": [
    "def frequency_heatmap(pg,timeserieslength,frequency):\n",
    "    heat_stamp = []\n",
    "        \n",
    "    for i in np.arange(0,len(pg)):\n",
    "        for j in np.arange(0,len(pg[0])):\n",
    "            mask = np.zeros((len(pg),len(pg[0])), dtype=bool)\n",
    "            mask[i][j] = True\n",
    "                \n",
    "            period = pg[mask][0]\n",
    "            normperiod = period.power#np.asarray(period.power)/np.nanmedian(np.asarray(period.power))#\n",
    "            freq = np.asarray(period.frequency)\n",
    "            sums = 0 \n",
    "            background = 0\n",
    "            for k in np.arange(len(frequency)):\n",
    "                sums += np.asarray(normperiod[np.where((freq < frequency[k]+(1/timeserieslength) ) & (freq > frequency[k]-(1/timeserieslength)))]).sum()\n",
    "                \n",
    "                #background += len(np.where((freq < frequency[k]+(1/timeserieslength)/2 ) & (freq > frequency[k]-(1/timeserieslength)/2))[0])*np.nanmedian(np.asarray(period.power))\n",
    "            heat_stamp.extend([sums-background])\n",
    "        \n",
    "    heat_stamp = np.reshape(np.asarray(heat_stamp),(len(pg),len(pg[0])))\n",
    "    return heat_stamp"
   ]
  },
  {
   "cell_type": "code",
   "execution_count": 5,
   "metadata": {},
   "outputs": [],
   "source": [
    "def tdg_fit(heatmap_data):\n",
    "    \n",
    "    def two_dGaussian( shape , amplitude, xo, yo, sigma):\n",
    "        x,y = np.meshgrid(shape[0],shape[1])\n",
    "        xo = float(xo)\n",
    "        yo = float(yo)    \n",
    "        b = 1/(2*sigma**2)\n",
    "        g = np.abs(amplitude)*np.exp( - (b*((x-xo)**2) + b*((y-yo)**2)))\n",
    "        return g.flatten()\n",
    "    \n",
    "    c = cent.centroid_2dg(heatmap_data)\n",
    "    x = np.arange(0,np.shape(heatmap_data)[0])\n",
    "    y = np.arange(0,np.shape(heatmap_data)[1])\n",
    "\n",
    "    initial_guess = (heatmap_data.max(),c[0],c[1],1)\n",
    "    popt, pcov = opt.curve_fit(two_dGaussian, (x,y),heatmap_data.flatten(), p0=initial_guess)\n",
    "    \n",
    "    return popt,np.sqrt(np.diagonal(pcov))"
   ]
  },
  {
   "cell_type": "code",
   "execution_count": 6,
   "metadata": {},
   "outputs": [],
   "source": [
    "def Create_LightCurve(*simulatedimage):\n",
    "    imageshape = simulatedimage[0]['imageshape']\n",
    "    time = simulatedimage[0]['time']\n",
    "    lc_array = np.zeros(imageshape,dtype=object)\n",
    "    fluxtype = simulatedimage[0]['stars']\n",
    "    for i in np.arange(0,imageshape[0]):\n",
    "        for j in np.arange(0,imageshape[1]):\n",
    "            lc_array[j][i] = lk.LightCurve(time = time, flux = fluxtype.T[i,j,:])\n",
    "            #lc_array[j][i] = lc_array[j][i].normalize()\n",
    "    return lc_array"
   ]
  },
  {
   "cell_type": "code",
   "execution_count": 828,
   "metadata": {},
   "outputs": [],
   "source": [
    "def Create_Periodogram(lc):\n",
    "    pg = np.zeros(shape = (len(lc[0]),len(lc[1])),dtype=object)\n",
    "    for i in np.arange(0,len(lc[0])):\n",
    "        for j in np.arange(0,len(lc[1])):\n",
    "            pg[i][j] = lc[i][j].to_periodogram(normalization='psd',freq_unit=1/u.day)#, frequency=[5,10])\n",
    "    return pg"
   ]
  },
  {
   "cell_type": "code",
   "execution_count": 563,
   "metadata": {
    "scrolled": true
   },
   "outputs": [
    {
     "data": {
      "application/vnd.jupyter.widget-view+json": {
       "model_id": "123ae781d29348b0bc24890468edbc71",
       "version_major": 2,
       "version_minor": 0
      },
      "text/plain": [
       "HBox(children=(IntProgress(value=0), HTML(value='')))"
      ]
     },
     "metadata": {},
     "output_type": "display_data"
    },
    {
     "data": {
      "application/vnd.jupyter.widget-view+json": {
       "model_id": "5f3d000d583a4749a2c0bdbf3167f1f6",
       "version_major": 2,
       "version_minor": 0
      },
      "text/plain": [
       "HBox(children=(IntProgress(value=0), HTML(value='')))"
      ]
     },
     "metadata": {},
     "output_type": "display_data"
    },
    {
     "data": {
      "application/vnd.jupyter.widget-view+json": {
       "model_id": "94b29751186f4ac187b1eea263030c40",
       "version_major": 2,
       "version_minor": 0
      },
      "text/plain": [
       "HBox(children=(IntProgress(value=0), HTML(value='')))"
      ]
     },
     "metadata": {},
     "output_type": "display_data"
    },
    {
     "data": {
      "application/vnd.jupyter.widget-view+json": {
       "model_id": "131736f0c0f14f1cb72777fc27210732",
       "version_major": 2,
       "version_minor": 0
      },
      "text/plain": [
       "HBox(children=(IntProgress(value=0), HTML(value='')))"
      ]
     },
     "metadata": {},
     "output_type": "display_data"
    },
    {
     "data": {
      "application/vnd.jupyter.widget-view+json": {
       "model_id": "056c4dcd77da4a02abbf46fa90939c53",
       "version_major": 2,
       "version_minor": 0
      },
      "text/plain": [
       "HBox(children=(IntProgress(value=0), HTML(value='')))"
      ]
     },
     "metadata": {},
     "output_type": "display_data"
    },
    {
     "data": {
      "application/vnd.jupyter.widget-view+json": {
       "model_id": "bb5b29a6bd9545b3a53f61410913e2b4",
       "version_major": 2,
       "version_minor": 0
      },
      "text/plain": [
       "HBox(children=(IntProgress(value=0), HTML(value='')))"
      ]
     },
     "metadata": {},
     "output_type": "display_data"
    },
    {
     "data": {
      "application/vnd.jupyter.widget-view+json": {
       "model_id": "29dc23b712db4dd29a40981928c57612",
       "version_major": 2,
       "version_minor": 0
      },
      "text/plain": [
       "HBox(children=(IntProgress(value=0), HTML(value='')))"
      ]
     },
     "metadata": {},
     "output_type": "display_data"
    },
    {
     "data": {
      "application/vnd.jupyter.widget-view+json": {
       "model_id": "db76ea88eeef4ff9809f9e61f466e5d9",
       "version_major": 2,
       "version_minor": 0
      },
      "text/plain": [
       "HBox(children=(IntProgress(value=0), HTML(value='')))"
      ]
     },
     "metadata": {},
     "output_type": "display_data"
    },
    {
     "data": {
      "application/vnd.jupyter.widget-view+json": {
       "model_id": "ee8c99d43fd84871b8d28fdcf34c8441",
       "version_major": 2,
       "version_minor": 0
      },
      "text/plain": [
       "HBox(children=(IntProgress(value=0), HTML(value='')))"
      ]
     },
     "metadata": {},
     "output_type": "display_data"
    },
    {
     "data": {
      "application/vnd.jupyter.widget-view+json": {
       "model_id": "8a07b7869bd34a2888a04f3e7fe5d5d6",
       "version_major": 2,
       "version_minor": 0
      },
      "text/plain": [
       "HBox(children=(IntProgress(value=0), HTML(value='')))"
      ]
     },
     "metadata": {},
     "output_type": "display_data"
    },
    {
     "data": {
      "application/vnd.jupyter.widget-view+json": {
       "model_id": "5fc27fafceee444b97258ce740158950",
       "version_major": 2,
       "version_minor": 0
      },
      "text/plain": [
       "HBox(children=(IntProgress(value=0), HTML(value='')))"
      ]
     },
     "metadata": {},
     "output_type": "display_data"
    },
    {
     "data": {
      "application/vnd.jupyter.widget-view+json": {
       "model_id": "8bfc6cdd5cc84bd88f6323931baf1dd8",
       "version_major": 2,
       "version_minor": 0
      },
      "text/plain": [
       "HBox(children=(IntProgress(value=0), HTML(value='')))"
      ]
     },
     "metadata": {},
     "output_type": "display_data"
    },
    {
     "data": {
      "application/vnd.jupyter.widget-view+json": {
       "model_id": "297a04caaaab4a89977ece96c6f8f26e",
       "version_major": 2,
       "version_minor": 0
      },
      "text/plain": [
       "HBox(children=(IntProgress(value=0), HTML(value='')))"
      ]
     },
     "metadata": {},
     "output_type": "display_data"
    },
    {
     "data": {
      "application/vnd.jupyter.widget-view+json": {
       "model_id": "12512caab4d44dd1a5cd613bf20e1192",
       "version_major": 2,
       "version_minor": 0
      },
      "text/plain": [
       "HBox(children=(IntProgress(value=0), HTML(value='')))"
      ]
     },
     "metadata": {},
     "output_type": "display_data"
    },
    {
     "data": {
      "application/vnd.jupyter.widget-view+json": {
       "model_id": "4e7c7dcc904b4727805c2bdf7105c6ad",
       "version_major": 2,
       "version_minor": 0
      },
      "text/plain": [
       "HBox(children=(IntProgress(value=0), HTML(value='')))"
      ]
     },
     "metadata": {},
     "output_type": "display_data"
    },
    {
     "data": {
      "application/vnd.jupyter.widget-view+json": {
       "model_id": "39063bd06fce4364882cc5ca35397fb7",
       "version_major": 2,
       "version_minor": 0
      },
      "text/plain": [
       "HBox(children=(IntProgress(value=0), HTML(value='')))"
      ]
     },
     "metadata": {},
     "output_type": "display_data"
    },
    {
     "data": {
      "application/vnd.jupyter.widget-view+json": {
       "model_id": "ba07e6a2143845c2a4c2b335ccf63d5a",
       "version_major": 2,
       "version_minor": 0
      },
      "text/plain": [
       "HBox(children=(IntProgress(value=0), HTML(value='')))"
      ]
     },
     "metadata": {},
     "output_type": "display_data"
    },
    {
     "data": {
      "application/vnd.jupyter.widget-view+json": {
       "model_id": "018a2c0eba044f0b918e67d7e7107ec3",
       "version_major": 2,
       "version_minor": 0
      },
      "text/plain": [
       "HBox(children=(IntProgress(value=0), HTML(value='')))"
      ]
     },
     "metadata": {},
     "output_type": "display_data"
    },
    {
     "data": {
      "application/vnd.jupyter.widget-view+json": {
       "model_id": "13d91feb05e34661946d8b74a5ae4d1f",
       "version_major": 2,
       "version_minor": 0
      },
      "text/plain": [
       "HBox(children=(IntProgress(value=0), HTML(value='')))"
      ]
     },
     "metadata": {},
     "output_type": "display_data"
    },
    {
     "data": {
      "application/vnd.jupyter.widget-view+json": {
       "model_id": "10eae023050a4d85a4bad8c421b847cd",
       "version_major": 2,
       "version_minor": 0
      },
      "text/plain": [
       "HBox(children=(IntProgress(value=0), HTML(value='')))"
      ]
     },
     "metadata": {},
     "output_type": "display_data"
    },
    {
     "data": {
      "application/vnd.jupyter.widget-view+json": {
       "model_id": "b503e0e16b434765a2005e1a5ec25e4a",
       "version_major": 2,
       "version_minor": 0
      },
      "text/plain": [
       "HBox(children=(IntProgress(value=0), HTML(value='')))"
      ]
     },
     "metadata": {},
     "output_type": "display_data"
    },
    {
     "data": {
      "application/vnd.jupyter.widget-view+json": {
       "model_id": "829efe23e1f64ea7a814d4dedbac62fc",
       "version_major": 2,
       "version_minor": 0
      },
      "text/plain": [
       "HBox(children=(IntProgress(value=0), HTML(value='')))"
      ]
     },
     "metadata": {},
     "output_type": "display_data"
    },
    {
     "data": {
      "application/vnd.jupyter.widget-view+json": {
       "model_id": "05a080628f2746fb916d60dff677946c",
       "version_major": 2,
       "version_minor": 0
      },
      "text/plain": [
       "HBox(children=(IntProgress(value=0), HTML(value='')))"
      ]
     },
     "metadata": {},
     "output_type": "display_data"
    },
    {
     "data": {
      "application/vnd.jupyter.widget-view+json": {
       "model_id": "f5a7c7a837454beeb6f5c790d154f666",
       "version_major": 2,
       "version_minor": 0
      },
      "text/plain": [
       "HBox(children=(IntProgress(value=0), HTML(value='')))"
      ]
     },
     "metadata": {},
     "output_type": "display_data"
    },
    {
     "data": {
      "application/vnd.jupyter.widget-view+json": {
       "model_id": "1ac53e4d70ac4426864e8bfe67f18076",
       "version_major": 2,
       "version_minor": 0
      },
      "text/plain": [
       "HBox(children=(IntProgress(value=0), HTML(value='')))"
      ]
     },
     "metadata": {},
     "output_type": "display_data"
    },
    {
     "data": {
      "application/vnd.jupyter.widget-view+json": {
       "model_id": "5bc8d49d6c064a68907d7fa5fa837bf1",
       "version_major": 2,
       "version_minor": 0
      },
      "text/plain": [
       "HBox(children=(IntProgress(value=0), HTML(value='')))"
      ]
     },
     "metadata": {},
     "output_type": "display_data"
    },
    {
     "data": {
      "application/vnd.jupyter.widget-view+json": {
       "model_id": "4752e331060b4a6fab8bfd31c7427a70",
       "version_major": 2,
       "version_minor": 0
      },
      "text/plain": [
       "HBox(children=(IntProgress(value=0), HTML(value='')))"
      ]
     },
     "metadata": {},
     "output_type": "display_data"
    },
    {
     "data": {
      "application/vnd.jupyter.widget-view+json": {
       "model_id": "3d98393a657b442ba9a0068de1d33329",
       "version_major": 2,
       "version_minor": 0
      },
      "text/plain": [
       "HBox(children=(IntProgress(value=0), HTML(value='')))"
      ]
     },
     "metadata": {},
     "output_type": "display_data"
    },
    {
     "data": {
      "application/vnd.jupyter.widget-view+json": {
       "model_id": "d19cfa3f24f5494ab7878b87956bf701",
       "version_major": 2,
       "version_minor": 0
      },
      "text/plain": [
       "HBox(children=(IntProgress(value=0), HTML(value='')))"
      ]
     },
     "metadata": {},
     "output_type": "display_data"
    },
    {
     "data": {
      "application/vnd.jupyter.widget-view+json": {
       "model_id": "3c029411660846b199b9a94711d1a7b0",
       "version_major": 2,
       "version_minor": 0
      },
      "text/plain": [
       "HBox(children=(IntProgress(value=0), HTML(value='')))"
      ]
     },
     "metadata": {},
     "output_type": "display_data"
    },
    {
     "data": {
      "application/vnd.jupyter.widget-view+json": {
       "model_id": "db66b9386eaa44aab13ff6f914a4c7e0",
       "version_major": 2,
       "version_minor": 0
      },
      "text/plain": [
       "HBox(children=(IntProgress(value=0), HTML(value='')))"
      ]
     },
     "metadata": {},
     "output_type": "display_data"
    },
    {
     "data": {
      "application/vnd.jupyter.widget-view+json": {
       "model_id": "9de276db8cd7490ab2f055e7edfdf455",
       "version_major": 2,
       "version_minor": 0
      },
      "text/plain": [
       "HBox(children=(IntProgress(value=0), HTML(value='')))"
      ]
     },
     "metadata": {},
     "output_type": "display_data"
    },
    {
     "data": {
      "application/vnd.jupyter.widget-view+json": {
       "model_id": "b56594e0fb6e4612b980c4d93b04df41",
       "version_major": 2,
       "version_minor": 0
      },
      "text/plain": [
       "HBox(children=(IntProgress(value=0), HTML(value='')))"
      ]
     },
     "metadata": {},
     "output_type": "display_data"
    },
    {
     "data": {
      "application/vnd.jupyter.widget-view+json": {
       "model_id": "b8f2d41d2c194e218b02b9ac25450876",
       "version_major": 2,
       "version_minor": 0
      },
      "text/plain": [
       "HBox(children=(IntProgress(value=0), HTML(value='')))"
      ]
     },
     "metadata": {},
     "output_type": "display_data"
    },
    {
     "data": {
      "application/vnd.jupyter.widget-view+json": {
       "model_id": "e5b7c2ab19ee4649b946d2927fd2d479",
       "version_major": 2,
       "version_minor": 0
      },
      "text/plain": [
       "HBox(children=(IntProgress(value=0), HTML(value='')))"
      ]
     },
     "metadata": {},
     "output_type": "display_data"
    },
    {
     "data": {
      "application/vnd.jupyter.widget-view+json": {
       "model_id": "6141d2dcc8da449ea31d57547a3de5fc",
       "version_major": 2,
       "version_minor": 0
      },
      "text/plain": [
       "HBox(children=(IntProgress(value=0), HTML(value='')))"
      ]
     },
     "metadata": {},
     "output_type": "display_data"
    },
    {
     "data": {
      "application/vnd.jupyter.widget-view+json": {
       "model_id": "56f3c69eddad4b4fb03a03df62171b48",
       "version_major": 2,
       "version_minor": 0
      },
      "text/plain": [
       "HBox(children=(IntProgress(value=0), HTML(value='')))"
      ]
     },
     "metadata": {},
     "output_type": "display_data"
    },
    {
     "data": {
      "application/vnd.jupyter.widget-view+json": {
       "model_id": "e8e9d6e4eac8406186f5e12d6534d8b5",
       "version_major": 2,
       "version_minor": 0
      },
      "text/plain": [
       "HBox(children=(IntProgress(value=0), HTML(value='')))"
      ]
     },
     "metadata": {},
     "output_type": "display_data"
    },
    {
     "data": {
      "application/vnd.jupyter.widget-view+json": {
       "model_id": "bc75f6358e41409e9c334bc5ebca92fa",
       "version_major": 2,
       "version_minor": 0
      },
      "text/plain": [
       "HBox(children=(IntProgress(value=0), HTML(value='')))"
      ]
     },
     "metadata": {},
     "output_type": "display_data"
    },
    {
     "data": {
      "application/vnd.jupyter.widget-view+json": {
       "model_id": "dfc1368799f14b25ae6833e8a70ce3cd",
       "version_major": 2,
       "version_minor": 0
      },
      "text/plain": [
       "HBox(children=(IntProgress(value=0), HTML(value='')))"
      ]
     },
     "metadata": {},
     "output_type": "display_data"
    },
    {
     "data": {
      "application/vnd.jupyter.widget-view+json": {
       "model_id": "5aa4dfa7ca4d4beebb4bdd96489c0cca",
       "version_major": 2,
       "version_minor": 0
      },
      "text/plain": [
       "HBox(children=(IntProgress(value=0), HTML(value='')))"
      ]
     },
     "metadata": {},
     "output_type": "display_data"
    },
    {
     "data": {
      "application/vnd.jupyter.widget-view+json": {
       "model_id": "b9e1ac24ff674bccadb1e144d89379f8",
       "version_major": 2,
       "version_minor": 0
      },
      "text/plain": [
       "HBox(children=(IntProgress(value=0), HTML(value='')))"
      ]
     },
     "metadata": {},
     "output_type": "display_data"
    },
    {
     "data": {
      "application/vnd.jupyter.widget-view+json": {
       "model_id": "447d908e38a74ea790ff5727790e9164",
       "version_major": 2,
       "version_minor": 0
      },
      "text/plain": [
       "HBox(children=(IntProgress(value=0), HTML(value='')))"
      ]
     },
     "metadata": {},
     "output_type": "display_data"
    },
    {
     "data": {
      "application/vnd.jupyter.widget-view+json": {
       "model_id": "715c4e8d5d714e278e47d64b56e0cd01",
       "version_major": 2,
       "version_minor": 0
      },
      "text/plain": [
       "HBox(children=(IntProgress(value=0), HTML(value='')))"
      ]
     },
     "metadata": {},
     "output_type": "display_data"
    },
    {
     "data": {
      "application/vnd.jupyter.widget-view+json": {
       "model_id": "1672d5295f084cda9913936db9f8daa7",
       "version_major": 2,
       "version_minor": 0
      },
      "text/plain": [
       "HBox(children=(IntProgress(value=0), HTML(value='')))"
      ]
     },
     "metadata": {},
     "output_type": "display_data"
    },
    {
     "data": {
      "application/vnd.jupyter.widget-view+json": {
       "model_id": "102c02df44644ea4a9f1408915e561f1",
       "version_major": 2,
       "version_minor": 0
      },
      "text/plain": [
       "HBox(children=(IntProgress(value=0), HTML(value='')))"
      ]
     },
     "metadata": {},
     "output_type": "display_data"
    },
    {
     "data": {
      "application/vnd.jupyter.widget-view+json": {
       "model_id": "6b9517bab0eb4b89966ff50de2434151",
       "version_major": 2,
       "version_minor": 0
      },
      "text/plain": [
       "HBox(children=(IntProgress(value=0), HTML(value='')))"
      ]
     },
     "metadata": {},
     "output_type": "display_data"
    },
    {
     "data": {
      "application/vnd.jupyter.widget-view+json": {
       "model_id": "9491682caf0448bbadd3f7f2598e8003",
       "version_major": 2,
       "version_minor": 0
      },
      "text/plain": [
       "HBox(children=(IntProgress(value=0), HTML(value='')))"
      ]
     },
     "metadata": {},
     "output_type": "display_data"
    },
    {
     "data": {
      "application/vnd.jupyter.widget-view+json": {
       "model_id": "2044e4a1de3c479baf46ca57455b72cf",
       "version_major": 2,
       "version_minor": 0
      },
      "text/plain": [
       "HBox(children=(IntProgress(value=0), HTML(value='')))"
      ]
     },
     "metadata": {},
     "output_type": "display_data"
    },
    {
     "data": {
      "application/vnd.jupyter.widget-view+json": {
       "model_id": "d3d051478f1d44afaf72c11c3c5f709e",
       "version_major": 2,
       "version_minor": 0
      },
      "text/plain": [
       "HBox(children=(IntProgress(value=0), HTML(value='')))"
      ]
     },
     "metadata": {},
     "output_type": "display_data"
    },
    {
     "data": {
      "application/vnd.jupyter.widget-view+json": {
       "model_id": "f144deccd65a46b89bb1093f8c8a85bf",
       "version_major": 2,
       "version_minor": 0
      },
      "text/plain": [
       "HBox(children=(IntProgress(value=0), HTML(value='')))"
      ]
     },
     "metadata": {},
     "output_type": "display_data"
    },
    {
     "data": {
      "application/vnd.jupyter.widget-view+json": {
       "model_id": "d401700fc5dc49b4ac0832bb0923d79f",
       "version_major": 2,
       "version_minor": 0
      },
      "text/plain": [
       "HBox(children=(IntProgress(value=0), HTML(value='')))"
      ]
     },
     "metadata": {},
     "output_type": "display_data"
    },
    {
     "data": {
      "application/vnd.jupyter.widget-view+json": {
       "model_id": "e92fdb76bae5405a82ba7502faf6b1d9",
       "version_major": 2,
       "version_minor": 0
      },
      "text/plain": [
       "HBox(children=(IntProgress(value=0), HTML(value='')))"
      ]
     },
     "metadata": {},
     "output_type": "display_data"
    },
    {
     "data": {
      "application/vnd.jupyter.widget-view+json": {
       "model_id": "2563612ae41b4d18b8f6d7f72f92bb67",
       "version_major": 2,
       "version_minor": 0
      },
      "text/plain": [
       "HBox(children=(IntProgress(value=0), HTML(value='')))"
      ]
     },
     "metadata": {},
     "output_type": "display_data"
    },
    {
     "data": {
      "application/vnd.jupyter.widget-view+json": {
       "model_id": "81cbb74799f84045b65534b29f59edda",
       "version_major": 2,
       "version_minor": 0
      },
      "text/plain": [
       "HBox(children=(IntProgress(value=0), HTML(value='')))"
      ]
     },
     "metadata": {},
     "output_type": "display_data"
    },
    {
     "data": {
      "application/vnd.jupyter.widget-view+json": {
       "model_id": "e9ad2295c7ac4bc480dc1f82358a9653",
       "version_major": 2,
       "version_minor": 0
      },
      "text/plain": [
       "HBox(children=(IntProgress(value=0), HTML(value='')))"
      ]
     },
     "metadata": {},
     "output_type": "display_data"
    },
    {
     "data": {
      "application/vnd.jupyter.widget-view+json": {
       "model_id": "bcca3797011041d3a77cd9bba8c4eaf8",
       "version_major": 2,
       "version_minor": 0
      },
      "text/plain": [
       "HBox(children=(IntProgress(value=0), HTML(value='')))"
      ]
     },
     "metadata": {},
     "output_type": "display_data"
    },
    {
     "data": {
      "application/vnd.jupyter.widget-view+json": {
       "model_id": "c40359e289cc414c9e2fa12ec47f8d96",
       "version_major": 2,
       "version_minor": 0
      },
      "text/plain": [
       "HBox(children=(IntProgress(value=0), HTML(value='')))"
      ]
     },
     "metadata": {},
     "output_type": "display_data"
    },
    {
     "data": {
      "application/vnd.jupyter.widget-view+json": {
       "model_id": "7fac6c76c28a4b4597d9968df8d728c8",
       "version_major": 2,
       "version_minor": 0
      },
      "text/plain": [
       "HBox(children=(IntProgress(value=0), HTML(value='')))"
      ]
     },
     "metadata": {},
     "output_type": "display_data"
    },
    {
     "data": {
      "application/vnd.jupyter.widget-view+json": {
       "model_id": "568ccae90f50424f80f0c5083ac14cbb",
       "version_major": 2,
       "version_minor": 0
      },
      "text/plain": [
       "HBox(children=(IntProgress(value=0), HTML(value='')))"
      ]
     },
     "metadata": {},
     "output_type": "display_data"
    },
    {
     "data": {
      "application/vnd.jupyter.widget-view+json": {
       "model_id": "fa906448b34b4bfcbc295ebd429feb56",
       "version_major": 2,
       "version_minor": 0
      },
      "text/plain": [
       "HBox(children=(IntProgress(value=0), HTML(value='')))"
      ]
     },
     "metadata": {},
     "output_type": "display_data"
    },
    {
     "data": {
      "application/vnd.jupyter.widget-view+json": {
       "model_id": "d737062461f14639bc528ed12da88861",
       "version_major": 2,
       "version_minor": 0
      },
      "text/plain": [
       "HBox(children=(IntProgress(value=0), HTML(value='')))"
      ]
     },
     "metadata": {},
     "output_type": "display_data"
    },
    {
     "data": {
      "application/vnd.jupyter.widget-view+json": {
       "model_id": "aac6cecf09e74704a3f1230f5ba306cb",
       "version_major": 2,
       "version_minor": 0
      },
      "text/plain": [
       "HBox(children=(IntProgress(value=0), HTML(value='')))"
      ]
     },
     "metadata": {},
     "output_type": "display_data"
    },
    {
     "data": {
      "application/vnd.jupyter.widget-view+json": {
       "model_id": "8ac1ba54bfac409a853d472f5fe55155",
       "version_major": 2,
       "version_minor": 0
      },
      "text/plain": [
       "HBox(children=(IntProgress(value=0), HTML(value='')))"
      ]
     },
     "metadata": {},
     "output_type": "display_data"
    },
    {
     "data": {
      "application/vnd.jupyter.widget-view+json": {
       "model_id": "b1917a6614c74d0bb34ae81c33e9ccb9",
       "version_major": 2,
       "version_minor": 0
      },
      "text/plain": [
       "HBox(children=(IntProgress(value=0), HTML(value='')))"
      ]
     },
     "metadata": {},
     "output_type": "display_data"
    },
    {
     "data": {
      "application/vnd.jupyter.widget-view+json": {
       "model_id": "722c61b9cdd94d0184e91dabb419d330",
       "version_major": 2,
       "version_minor": 0
      },
      "text/plain": [
       "HBox(children=(IntProgress(value=0), HTML(value='')))"
      ]
     },
     "metadata": {},
     "output_type": "display_data"
    },
    {
     "data": {
      "application/vnd.jupyter.widget-view+json": {
       "model_id": "4a0fb9e2d9454af78380568df1e46901",
       "version_major": 2,
       "version_minor": 0
      },
      "text/plain": [
       "HBox(children=(IntProgress(value=0), HTML(value='')))"
      ]
     },
     "metadata": {},
     "output_type": "display_data"
    },
    {
     "data": {
      "application/vnd.jupyter.widget-view+json": {
       "model_id": "cde5e21639b44fb18764d4c67c4d7261",
       "version_major": 2,
       "version_minor": 0
      },
      "text/plain": [
       "HBox(children=(IntProgress(value=0), HTML(value='')))"
      ]
     },
     "metadata": {},
     "output_type": "display_data"
    },
    {
     "data": {
      "application/vnd.jupyter.widget-view+json": {
       "model_id": "5a05a92caaad42e8b16002b255634dfc",
       "version_major": 2,
       "version_minor": 0
      },
      "text/plain": [
       "HBox(children=(IntProgress(value=0), HTML(value='')))"
      ]
     },
     "metadata": {},
     "output_type": "display_data"
    },
    {
     "data": {
      "application/vnd.jupyter.widget-view+json": {
       "model_id": "8883f0fee4664037974dc237025c9663",
       "version_major": 2,
       "version_minor": 0
      },
      "text/plain": [
       "HBox(children=(IntProgress(value=0), HTML(value='')))"
      ]
     },
     "metadata": {},
     "output_type": "display_data"
    },
    {
     "data": {
      "application/vnd.jupyter.widget-view+json": {
       "model_id": "47450354dc7c458283ec749018c29f17",
       "version_major": 2,
       "version_minor": 0
      },
      "text/plain": [
       "HBox(children=(IntProgress(value=0), HTML(value='')))"
      ]
     },
     "metadata": {},
     "output_type": "display_data"
    },
    {
     "data": {
      "application/vnd.jupyter.widget-view+json": {
       "model_id": "aee1492f9ef44856b794081faee85915",
       "version_major": 2,
       "version_minor": 0
      },
      "text/plain": [
       "HBox(children=(IntProgress(value=0), HTML(value='')))"
      ]
     },
     "metadata": {},
     "output_type": "display_data"
    },
    {
     "data": {
      "application/vnd.jupyter.widget-view+json": {
       "model_id": "e30c97e29dcd4acfa76d67393d64f85c",
       "version_major": 2,
       "version_minor": 0
      },
      "text/plain": [
       "HBox(children=(IntProgress(value=0), HTML(value='')))"
      ]
     },
     "metadata": {},
     "output_type": "display_data"
    },
    {
     "data": {
      "application/vnd.jupyter.widget-view+json": {
       "model_id": "0eeb1f604be14cc09bbfa8c4da142fae",
       "version_major": 2,
       "version_minor": 0
      },
      "text/plain": [
       "HBox(children=(IntProgress(value=0), HTML(value='')))"
      ]
     },
     "metadata": {},
     "output_type": "display_data"
    },
    {
     "data": {
      "application/vnd.jupyter.widget-view+json": {
       "model_id": "20ebf4e338114786a907ba8c602767f1",
       "version_major": 2,
       "version_minor": 0
      },
      "text/plain": [
       "HBox(children=(IntProgress(value=0), HTML(value='')))"
      ]
     },
     "metadata": {},
     "output_type": "display_data"
    },
    {
     "data": {
      "application/vnd.jupyter.widget-view+json": {
       "model_id": "4568432e1b6a4a11a6a3cc7c5adcf4a3",
       "version_major": 2,
       "version_minor": 0
      },
      "text/plain": [
       "HBox(children=(IntProgress(value=0), HTML(value='')))"
      ]
     },
     "metadata": {},
     "output_type": "display_data"
    },
    {
     "data": {
      "application/vnd.jupyter.widget-view+json": {
       "model_id": "c19b07e403684c5198bfd73e851c7c31",
       "version_major": 2,
       "version_minor": 0
      },
      "text/plain": [
       "HBox(children=(IntProgress(value=0), HTML(value='')))"
      ]
     },
     "metadata": {},
     "output_type": "display_data"
    },
    {
     "data": {
      "application/vnd.jupyter.widget-view+json": {
       "model_id": "70f42d03ed7d4826a9e1aa06a2e90697",
       "version_major": 2,
       "version_minor": 0
      },
      "text/plain": [
       "HBox(children=(IntProgress(value=0), HTML(value='')))"
      ]
     },
     "metadata": {},
     "output_type": "display_data"
    },
    {
     "data": {
      "application/vnd.jupyter.widget-view+json": {
       "model_id": "b60a1bea7e594cf99cde3020a08a4873",
       "version_major": 2,
       "version_minor": 0
      },
      "text/plain": [
       "HBox(children=(IntProgress(value=0), HTML(value='')))"
      ]
     },
     "metadata": {},
     "output_type": "display_data"
    },
    {
     "data": {
      "application/vnd.jupyter.widget-view+json": {
       "model_id": "bb6edfd7f0a94ead9eec6ec6b97f7ee9",
       "version_major": 2,
       "version_minor": 0
      },
      "text/plain": [
       "HBox(children=(IntProgress(value=0), HTML(value='')))"
      ]
     },
     "metadata": {},
     "output_type": "display_data"
    },
    {
     "data": {
      "application/vnd.jupyter.widget-view+json": {
       "model_id": "b0ae1f9986f8494eb0360a874a0274f1",
       "version_major": 2,
       "version_minor": 0
      },
      "text/plain": [
       "HBox(children=(IntProgress(value=0), HTML(value='')))"
      ]
     },
     "metadata": {},
     "output_type": "display_data"
    },
    {
     "data": {
      "application/vnd.jupyter.widget-view+json": {
       "model_id": "94a8831d612c45a9bb52a67a6bb9467d",
       "version_major": 2,
       "version_minor": 0
      },
      "text/plain": [
       "HBox(children=(IntProgress(value=0), HTML(value='')))"
      ]
     },
     "metadata": {},
     "output_type": "display_data"
    },
    {
     "data": {
      "application/vnd.jupyter.widget-view+json": {
       "model_id": "f801ba500fda4b1986a83d2ad071b9e7",
       "version_major": 2,
       "version_minor": 0
      },
      "text/plain": [
       "HBox(children=(IntProgress(value=0), HTML(value='')))"
      ]
     },
     "metadata": {},
     "output_type": "display_data"
    },
    {
     "data": {
      "application/vnd.jupyter.widget-view+json": {
       "model_id": "7dc71488c0ac436dbcd1504df25e8d5e",
       "version_major": 2,
       "version_minor": 0
      },
      "text/plain": [
       "HBox(children=(IntProgress(value=0), HTML(value='')))"
      ]
     },
     "metadata": {},
     "output_type": "display_data"
    },
    {
     "data": {
      "application/vnd.jupyter.widget-view+json": {
       "model_id": "78faa6eade994393913a3ba62436780f",
       "version_major": 2,
       "version_minor": 0
      },
      "text/plain": [
       "HBox(children=(IntProgress(value=0), HTML(value='')))"
      ]
     },
     "metadata": {},
     "output_type": "display_data"
    },
    {
     "data": {
      "application/vnd.jupyter.widget-view+json": {
       "model_id": "09f7a35cd7d34cffa89b2bfc25813d98",
       "version_major": 2,
       "version_minor": 0
      },
      "text/plain": [
       "HBox(children=(IntProgress(value=0), HTML(value='')))"
      ]
     },
     "metadata": {},
     "output_type": "display_data"
    },
    {
     "data": {
      "application/vnd.jupyter.widget-view+json": {
       "model_id": "68e625dbc4d54a5987d331b37507ba4a",
       "version_major": 2,
       "version_minor": 0
      },
      "text/plain": [
       "HBox(children=(IntProgress(value=0), HTML(value='')))"
      ]
     },
     "metadata": {},
     "output_type": "display_data"
    },
    {
     "data": {
      "application/vnd.jupyter.widget-view+json": {
       "model_id": "3b6bf4149e57481aa3a7621184f0818d",
       "version_major": 2,
       "version_minor": 0
      },
      "text/plain": [
       "HBox(children=(IntProgress(value=0), HTML(value='')))"
      ]
     },
     "metadata": {},
     "output_type": "display_data"
    },
    {
     "data": {
      "application/vnd.jupyter.widget-view+json": {
       "model_id": "8ab5d262cbfc415993333269c919a3b0",
       "version_major": 2,
       "version_minor": 0
      },
      "text/plain": [
       "HBox(children=(IntProgress(value=0), HTML(value='')))"
      ]
     },
     "metadata": {},
     "output_type": "display_data"
    },
    {
     "data": {
      "application/vnd.jupyter.widget-view+json": {
       "model_id": "c2c22b6d2b8f4b4d8e3a485f952c5abd",
       "version_major": 2,
       "version_minor": 0
      },
      "text/plain": [
       "HBox(children=(IntProgress(value=0), HTML(value='')))"
      ]
     },
     "metadata": {},
     "output_type": "display_data"
    },
    {
     "data": {
      "application/vnd.jupyter.widget-view+json": {
       "model_id": "9e177e6c7eee436eba1fc33add0f1c17",
       "version_major": 2,
       "version_minor": 0
      },
      "text/plain": [
       "HBox(children=(IntProgress(value=0), HTML(value='')))"
      ]
     },
     "metadata": {},
     "output_type": "display_data"
    },
    {
     "data": {
      "application/vnd.jupyter.widget-view+json": {
       "model_id": "572b42c3574a4e918553734c625cfd83",
       "version_major": 2,
       "version_minor": 0
      },
      "text/plain": [
       "HBox(children=(IntProgress(value=0), HTML(value='')))"
      ]
     },
     "metadata": {},
     "output_type": "display_data"
    },
    {
     "data": {
      "application/vnd.jupyter.widget-view+json": {
       "model_id": "291789e84637411c81db6c98019521a1",
       "version_major": 2,
       "version_minor": 0
      },
      "text/plain": [
       "HBox(children=(IntProgress(value=0), HTML(value='')))"
      ]
     },
     "metadata": {},
     "output_type": "display_data"
    },
    {
     "data": {
      "application/vnd.jupyter.widget-view+json": {
       "model_id": "0d9fc47dcf4d4a5fbd930b5845fe6a5a",
       "version_major": 2,
       "version_minor": 0
      },
      "text/plain": [
       "HBox(children=(IntProgress(value=0), HTML(value='')))"
      ]
     },
     "metadata": {},
     "output_type": "display_data"
    },
    {
     "data": {
      "application/vnd.jupyter.widget-view+json": {
       "model_id": "4a0f03ecaf4742078693220a1cd824b1",
       "version_major": 2,
       "version_minor": 0
      },
      "text/plain": [
       "HBox(children=(IntProgress(value=0), HTML(value='')))"
      ]
     },
     "metadata": {},
     "output_type": "display_data"
    },
    {
     "data": {
      "application/vnd.jupyter.widget-view+json": {
       "model_id": "d2398e5b1af14743b84a41df8033b4eb",
       "version_major": 2,
       "version_minor": 0
      },
      "text/plain": [
       "HBox(children=(IntProgress(value=0), HTML(value='')))"
      ]
     },
     "metadata": {},
     "output_type": "display_data"
    },
    {
     "data": {
      "application/vnd.jupyter.widget-view+json": {
       "model_id": "eff9f6d299e240349d749f8aff68949d",
       "version_major": 2,
       "version_minor": 0
      },
      "text/plain": [
       "HBox(children=(IntProgress(value=0), HTML(value='')))"
      ]
     },
     "metadata": {},
     "output_type": "display_data"
    },
    {
     "data": {
      "application/vnd.jupyter.widget-view+json": {
       "model_id": "bfc31e64f0d349d985fadf0d9d4a9e2d",
       "version_major": 2,
       "version_minor": 0
      },
      "text/plain": [
       "HBox(children=(IntProgress(value=0), HTML(value='')))"
      ]
     },
     "metadata": {},
     "output_type": "display_data"
    },
    {
     "data": {
      "application/vnd.jupyter.widget-view+json": {
       "model_id": "442c22a7a9094763971ad00b39a7b54a",
       "version_major": 2,
       "version_minor": 0
      },
      "text/plain": [
       "HBox(children=(IntProgress(value=0), HTML(value='')))"
      ]
     },
     "metadata": {},
     "output_type": "display_data"
    },
    {
     "data": {
      "application/vnd.jupyter.widget-view+json": {
       "model_id": "6a9d9ec7245342f09acf6e45b1faae9d",
       "version_major": 2,
       "version_minor": 0
      },
      "text/plain": [
       "HBox(children=(IntProgress(value=0), HTML(value='')))"
      ]
     },
     "metadata": {},
     "output_type": "display_data"
    },
    {
     "data": {
      "application/vnd.jupyter.widget-view+json": {
       "model_id": "629a0ae32c624f819e94c900df398ec4",
       "version_major": 2,
       "version_minor": 0
      },
      "text/plain": [
       "HBox(children=(IntProgress(value=0), HTML(value='')))"
      ]
     },
     "metadata": {},
     "output_type": "display_data"
    }
   ],
   "source": [
    "info = []\n",
    "for j in tqdm_notebook(np.arange(1,1001,10)):\n",
    "    fits1 = []\n",
    "    fits2 = []\n",
    "    covariance1 = []\n",
    "    covariance2 = []\n",
    "    flux = []\n",
    "    for i in tqdm_notebook(np.arange(0,100)):\n",
    "        image = Simulate_Random_Image(separation=.5,star1flux=j,star2flux=j)\n",
    "        lc = Create_LightCurve(image)\n",
    "        pg = Create_Periodogram(lc)\n",
    "        fhp1 = frequency_heatmap(pg,1000/48,[10])\n",
    "        fhp2 = frequency_heatmap(pg,1000/48,[5])\n",
    "        loc1 = tdg_fit(fhp1)\n",
    "        loc2 = tdg_fit(fhp2)\n",
    "        fits1[0:0]=[loc1[0]]\n",
    "        covariance1[0:0]=[loc1[1]]\n",
    "        fits2[0:0]=[loc2[0]]\n",
    "        covariance2[0:0]=[loc2[1]]\n",
    "        flux[0:0] = [j]\n",
    "    data_frame =  pd.DataFrame({'flux': flux,\n",
    "                                'x values 10': np.asarray(fits1)[:,1],\n",
    "                                'y values 10': np.asarray(fits1)[:,2],\n",
    "                                'sigma 10': np.asarray(fits1)[:,3],\n",
    "                                'x std. from fit 10': np.asarray(covariance1)[:,1],\n",
    "                                'y std. from fit 10': np.asarray(covariance1)[:,2],\n",
    "                                'sigma std. from fit 10': np.asarray(covariance1)[:,3],\n",
    "                                'x values 5': np.asarray(fits2)[:,1],\n",
    "                                'y values 5': np.asarray(fits2)[:,2],\n",
    "                                'sigma 5': np.asarray(fits2)[:,3],\n",
    "                                'x std. from fit 5': np.asarray(covariance2)[:,1],\n",
    "                                'y std. from fit 5': np.asarray(covariance2)[:,2],\n",
    "                                'sigma std. from fit 5': np.asarray(covariance2)[:,3]})\n",
    "    \n",
    "    info[0:0] = [data_frame]\n",
    "    #data_frame.to_csv('1000simulatedfits{0:d}equalflux.csv'.format(j))"
   ]
  },
  {
   "cell_type": "code",
   "execution_count": 571,
   "metadata": {},
   "outputs": [
    {
     "data": {
      "text/html": [
       "<div>\n",
       "<style scoped>\n",
       "    .dataframe tbody tr th:only-of-type {\n",
       "        vertical-align: middle;\n",
       "    }\n",
       "\n",
       "    .dataframe tbody tr th {\n",
       "        vertical-align: top;\n",
       "    }\n",
       "\n",
       "    .dataframe thead th {\n",
       "        text-align: right;\n",
       "    }\n",
       "</style>\n",
       "<table border=\"1\" class=\"dataframe\">\n",
       "  <thead>\n",
       "    <tr style=\"text-align: right;\">\n",
       "      <th></th>\n",
       "      <th>flux</th>\n",
       "      <th>x values 10</th>\n",
       "      <th>y values 10</th>\n",
       "      <th>sigma 10</th>\n",
       "      <th>x std. from fit 10</th>\n",
       "      <th>y std. from fit 10</th>\n",
       "      <th>sigma std. from fit 10</th>\n",
       "      <th>x values 5</th>\n",
       "      <th>y values 5</th>\n",
       "      <th>sigma 5</th>\n",
       "      <th>x std. from fit 5</th>\n",
       "      <th>y std. from fit 5</th>\n",
       "      <th>sigma std. from fit 5</th>\n",
       "    </tr>\n",
       "  </thead>\n",
       "  <tbody>\n",
       "    <tr>\n",
       "      <th>0</th>\n",
       "      <td>1</td>\n",
       "      <td>4.969848</td>\n",
       "      <td>5.028060</td>\n",
       "      <td>0.526418</td>\n",
       "      <td>0.003175</td>\n",
       "      <td>0.003176</td>\n",
       "      <td>0.001232</td>\n",
       "      <td>5.021692</td>\n",
       "      <td>5.525168</td>\n",
       "      <td>0.545533</td>\n",
       "      <td>0.002752</td>\n",
       "      <td>0.001407</td>\n",
       "      <td>0.001500</td>\n",
       "    </tr>\n",
       "    <tr>\n",
       "      <th>1</th>\n",
       "      <td>1</td>\n",
       "      <td>4.953600</td>\n",
       "      <td>4.999354</td>\n",
       "      <td>0.525797</td>\n",
       "      <td>0.003147</td>\n",
       "      <td>0.003180</td>\n",
       "      <td>0.001230</td>\n",
       "      <td>5.015129</td>\n",
       "      <td>5.533810</td>\n",
       "      <td>0.516457</td>\n",
       "      <td>0.005617</td>\n",
       "      <td>0.002423</td>\n",
       "      <td>0.002898</td>\n",
       "    </tr>\n",
       "    <tr>\n",
       "      <th>2</th>\n",
       "      <td>1</td>\n",
       "      <td>4.992126</td>\n",
       "      <td>4.987743</td>\n",
       "      <td>0.515948</td>\n",
       "      <td>0.005166</td>\n",
       "      <td>0.005163</td>\n",
       "      <td>0.001931</td>\n",
       "      <td>4.990300</td>\n",
       "      <td>5.553145</td>\n",
       "      <td>0.551586</td>\n",
       "      <td>0.002005</td>\n",
       "      <td>0.001085</td>\n",
       "      <td>0.001096</td>\n",
       "    </tr>\n",
       "    <tr>\n",
       "      <th>3</th>\n",
       "      <td>1</td>\n",
       "      <td>5.041727</td>\n",
       "      <td>4.932538</td>\n",
       "      <td>0.500738</td>\n",
       "      <td>0.002603</td>\n",
       "      <td>0.002561</td>\n",
       "      <td>0.000993</td>\n",
       "      <td>5.003262</td>\n",
       "      <td>5.557496</td>\n",
       "      <td>0.551687</td>\n",
       "      <td>0.003978</td>\n",
       "      <td>0.002165</td>\n",
       "      <td>0.002171</td>\n",
       "    </tr>\n",
       "    <tr>\n",
       "      <th>4</th>\n",
       "      <td>1</td>\n",
       "      <td>4.981972</td>\n",
       "      <td>4.998580</td>\n",
       "      <td>0.539336</td>\n",
       "      <td>0.004160</td>\n",
       "      <td>0.004166</td>\n",
       "      <td>0.001642</td>\n",
       "      <td>5.000075</td>\n",
       "      <td>5.503815</td>\n",
       "      <td>0.520837</td>\n",
       "      <td>0.004002</td>\n",
       "      <td>0.001745</td>\n",
       "      <td>0.002079</td>\n",
       "    </tr>\n",
       "    <tr>\n",
       "      <th>...</th>\n",
       "      <td>...</td>\n",
       "      <td>...</td>\n",
       "      <td>...</td>\n",
       "      <td>...</td>\n",
       "      <td>...</td>\n",
       "      <td>...</td>\n",
       "      <td>...</td>\n",
       "      <td>...</td>\n",
       "      <td>...</td>\n",
       "      <td>...</td>\n",
       "      <td>...</td>\n",
       "      <td>...</td>\n",
       "      <td>...</td>\n",
       "    </tr>\n",
       "    <tr>\n",
       "      <th>95</th>\n",
       "      <td>1</td>\n",
       "      <td>4.976683</td>\n",
       "      <td>5.001648</td>\n",
       "      <td>0.501122</td>\n",
       "      <td>0.001753</td>\n",
       "      <td>0.001759</td>\n",
       "      <td>0.000637</td>\n",
       "      <td>4.971763</td>\n",
       "      <td>5.426184</td>\n",
       "      <td>0.507413</td>\n",
       "      <td>0.002709</td>\n",
       "      <td>0.001184</td>\n",
       "      <td>0.001377</td>\n",
       "    </tr>\n",
       "    <tr>\n",
       "      <th>96</th>\n",
       "      <td>1</td>\n",
       "      <td>5.002621</td>\n",
       "      <td>4.946367</td>\n",
       "      <td>0.545212</td>\n",
       "      <td>0.003667</td>\n",
       "      <td>0.003624</td>\n",
       "      <td>0.001485</td>\n",
       "      <td>5.029613</td>\n",
       "      <td>5.414315</td>\n",
       "      <td>0.521248</td>\n",
       "      <td>0.003572</td>\n",
       "      <td>0.001738</td>\n",
       "      <td>0.001857</td>\n",
       "    </tr>\n",
       "    <tr>\n",
       "      <th>97</th>\n",
       "      <td>1</td>\n",
       "      <td>4.995284</td>\n",
       "      <td>4.937448</td>\n",
       "      <td>0.548807</td>\n",
       "      <td>0.002115</td>\n",
       "      <td>0.002082</td>\n",
       "      <td>0.000868</td>\n",
       "      <td>5.017708</td>\n",
       "      <td>5.488441</td>\n",
       "      <td>0.535430</td>\n",
       "      <td>0.007140</td>\n",
       "      <td>0.003420</td>\n",
       "      <td>0.003821</td>\n",
       "    </tr>\n",
       "    <tr>\n",
       "      <th>98</th>\n",
       "      <td>1</td>\n",
       "      <td>4.979176</td>\n",
       "      <td>5.062770</td>\n",
       "      <td>0.552695</td>\n",
       "      <td>0.001286</td>\n",
       "      <td>0.001269</td>\n",
       "      <td>0.000534</td>\n",
       "      <td>4.957687</td>\n",
       "      <td>5.509729</td>\n",
       "      <td>0.534244</td>\n",
       "      <td>0.003145</td>\n",
       "      <td>0.001494</td>\n",
       "      <td>0.001707</td>\n",
       "    </tr>\n",
       "    <tr>\n",
       "      <th>99</th>\n",
       "      <td>1</td>\n",
       "      <td>5.019104</td>\n",
       "      <td>5.012261</td>\n",
       "      <td>0.526508</td>\n",
       "      <td>0.002715</td>\n",
       "      <td>0.002718</td>\n",
       "      <td>0.001043</td>\n",
       "      <td>4.963054</td>\n",
       "      <td>5.542302</td>\n",
       "      <td>0.544990</td>\n",
       "      <td>0.005320</td>\n",
       "      <td>0.002750</td>\n",
       "      <td>0.002918</td>\n",
       "    </tr>\n",
       "  </tbody>\n",
       "</table>\n",
       "<p>100 rows × 13 columns</p>\n",
       "</div>"
      ],
      "text/plain": [
       "    flux  x values 10  y values 10  sigma 10  x std. from fit 10  \\\n",
       "0      1     4.969848     5.028060  0.526418            0.003175   \n",
       "1      1     4.953600     4.999354  0.525797            0.003147   \n",
       "2      1     4.992126     4.987743  0.515948            0.005166   \n",
       "3      1     5.041727     4.932538  0.500738            0.002603   \n",
       "4      1     4.981972     4.998580  0.539336            0.004160   \n",
       "..   ...          ...          ...       ...                 ...   \n",
       "95     1     4.976683     5.001648  0.501122            0.001753   \n",
       "96     1     5.002621     4.946367  0.545212            0.003667   \n",
       "97     1     4.995284     4.937448  0.548807            0.002115   \n",
       "98     1     4.979176     5.062770  0.552695            0.001286   \n",
       "99     1     5.019104     5.012261  0.526508            0.002715   \n",
       "\n",
       "    y std. from fit 10  sigma std. from fit 10  x values 5  y values 5  \\\n",
       "0             0.003176                0.001232    5.021692    5.525168   \n",
       "1             0.003180                0.001230    5.015129    5.533810   \n",
       "2             0.005163                0.001931    4.990300    5.553145   \n",
       "3             0.002561                0.000993    5.003262    5.557496   \n",
       "4             0.004166                0.001642    5.000075    5.503815   \n",
       "..                 ...                     ...         ...         ...   \n",
       "95            0.001759                0.000637    4.971763    5.426184   \n",
       "96            0.003624                0.001485    5.029613    5.414315   \n",
       "97            0.002082                0.000868    5.017708    5.488441   \n",
       "98            0.001269                0.000534    4.957687    5.509729   \n",
       "99            0.002718                0.001043    4.963054    5.542302   \n",
       "\n",
       "     sigma 5  x std. from fit 5  y std. from fit 5  sigma std. from fit 5  \n",
       "0   0.545533           0.002752           0.001407               0.001500  \n",
       "1   0.516457           0.005617           0.002423               0.002898  \n",
       "2   0.551586           0.002005           0.001085               0.001096  \n",
       "3   0.551687           0.003978           0.002165               0.002171  \n",
       "4   0.520837           0.004002           0.001745               0.002079  \n",
       "..       ...                ...                ...                    ...  \n",
       "95  0.507413           0.002709           0.001184               0.001377  \n",
       "96  0.521248           0.003572           0.001738               0.001857  \n",
       "97  0.535430           0.007140           0.003420               0.003821  \n",
       "98  0.534244           0.003145           0.001494               0.001707  \n",
       "99  0.544990           0.005320           0.002750               0.002918  \n",
       "\n",
       "[100 rows x 13 columns]"
      ]
     },
     "execution_count": 571,
     "metadata": {},
     "output_type": "execute_result"
    }
   ],
   "source": [
    "info[99]"
   ]
  },
  {
   "cell_type": "code",
   "execution_count": 243,
   "metadata": {},
   "outputs": [],
   "source": [
    "\n",
    "x_values = np.asarray(fits)[:,1]"
   ]
  },
  {
   "cell_type": "code",
   "execution_count": 244,
   "metadata": {},
   "outputs": [],
   "source": [
    "y_values = np.asarray(fits)[:,2]"
   ]
  },
  {
   "cell_type": "code",
   "execution_count": 124,
   "metadata": {},
   "outputs": [],
   "source": [
    "offset = np.asarray(fits)[:,4]"
   ]
  },
  {
   "cell_type": "code",
   "execution_count": 47,
   "metadata": {},
   "outputs": [],
   "source": [
    "x_err = np.asarray(covariance)[:,1]"
   ]
  },
  {
   "cell_type": "code",
   "execution_count": 48,
   "metadata": {
    "scrolled": true
   },
   "outputs": [],
   "source": [
    "y_err = np.asarray(covariance)[:,2]"
   ]
  },
  {
   "cell_type": "code",
   "execution_count": 245,
   "metadata": {},
   "outputs": [
    {
     "data": {
      "image/png": "[encoded data removed]",
      "text/plain": [
       "<Figure size 432x288 with 1 Axes>"
      ]
     },
     "metadata": {
      "needs_background": "light"
     },
     "output_type": "display_data"
    }
   ],
   "source": [
    "plt.hist(x_values,bins=75);"
   ]
  },
  {
   "cell_type": "code",
   "execution_count": 246,
   "metadata": {},
   "outputs": [
    {
     "data": {
      "image/png": "[encoded data removed]",
      "text/plain": [
       "<Figure size 432x288 with 1 Axes>"
      ]
     },
     "metadata": {
      "needs_background": "light"
     },
     "output_type": "display_data"
    }
   ],
   "source": [
    "plt.hist(y_values,bins=75);"
   ]
  },
  {
   "cell_type": "code",
   "execution_count": 247,
   "metadata": {},
   "outputs": [
    {
     "data": {
      "text/plain": [
       "<matplotlib.collections.PathCollection at 0x1e48d8a7518>"
      ]
     },
     "execution_count": 247,
     "metadata": {},
     "output_type": "execute_result"
    },
    {
     "data": {
      "image/png": "[encoded data removed]",
      "text/plain": [
       "<Figure size 432x288 with 1 Axes>"
      ]
     },
     "metadata": {
      "needs_background": "light"
     },
     "output_type": "display_data"
    }
   ],
   "source": [
    "plt.scatter(x_values, y_values, s=1)"
   ]
  },
  {
   "cell_type": "code",
   "execution_count": 256,
   "metadata": {},
   "outputs": [
    {
     "data": {
      "text/plain": [
       "0.014377951237823408"
      ]
     },
     "execution_count": 256,
     "metadata": {},
     "output_type": "execute_result"
    }
   ],
   "source": [
    "np.std(y_values)"
   ]
  },
  {
   "cell_type": "code",
   "execution_count": 257,
   "metadata": {},
   "outputs": [
    {
     "data": {
      "text/plain": [
       "0.0015032703581854274"
      ]
     },
     "execution_count": 257,
     "metadata": {},
     "output_type": "execute_result"
    }
   ],
   "source": [
    "np.mean(y_err)"
   ]
  },
  {
   "cell_type": "code",
   "execution_count": 15,
   "metadata": {},
   "outputs": [],
   "source": [
    "data_frame =  pd.DataFrame({'x values': x_values,\n",
    "                            'y values': y_values,\n",
    "                            'x std. from fit': x_err,\n",
    "                            'y std. from fit': y_err})"
   ]
  },
  {
   "cell_type": "code",
   "execution_count": 16,
   "metadata": {},
   "outputs": [],
   "source": [
    "data_frame.to_csv('1000simulatedfitsseparation2pixelsequalflux.csv')"
   ]
  },
  {
   "cell_type": "code",
   "execution_count": 10,
   "metadata": {},
   "outputs": [],
   "source": [
    "x_values = np.asarray(fits)[:,1]\n",
    "y_values = np.asarray(fits)[:,2]\n",
    "x_err = np.asarray(covariance)[:,1]\n",
    "y_err = np.asarray(covariance)[:,2]"
   ]
  },
  {
   "cell_type": "code",
   "execution_count": 11,
   "metadata": {},
   "outputs": [
    {
     "data": {
      "image/png": "[encoded data removed]",
      "text/plain": [
       "<Figure size 432x288 with 1 Axes>"
      ]
     },
     "metadata": {
      "needs_background": "light"
     },
     "output_type": "display_data"
    }
   ],
   "source": [
    "plt.hist(x_values,bins=75);"
   ]
  },
  {
   "cell_type": "code",
   "execution_count": 12,
   "metadata": {},
   "outputs": [
    {
     "data": {
      "image/png": "[encoded data removed]",
      "text/plain": [
       "<Figure size 432x288 with 1 Axes>"
      ]
     },
     "metadata": {
      "needs_background": "light"
     },
     "output_type": "display_data"
    }
   ],
   "source": [
    "plt.hist(y_values,bins=75);"
   ]
  },
  {
   "cell_type": "code",
   "execution_count": 12,
   "metadata": {},
   "outputs": [
    {
     "data": {
      "text/plain": [
       "0.07513687161220235"
      ]
     },
     "execution_count": 12,
     "metadata": {},
     "output_type": "execute_result"
    }
   ],
   "source": [
    "np.std(np.sqrt(np.square(x_values)+np.square(y_values)))"
   ]
  },
  {
   "cell_type": "code",
   "execution_count": 16,
   "metadata": {},
   "outputs": [
    {
     "data": {
      "text/plain": [
       "0.017022383588544042"
      ]
     },
     "execution_count": 16,
     "metadata": {},
     "output_type": "execute_result"
    }
   ],
   "source": [
    "np.mean(np.sqrt(np.square(x_err)+np.square(y_err)))"
   ]
  },
  {
   "cell_type": "code",
   "execution_count": 149,
   "metadata": {},
   "outputs": [
    {
     "data": {
      "text/plain": [
       "<matplotlib.axes._subplots.AxesSubplot at 0x25ab0bf0320>"
      ]
     },
     "execution_count": 149,
     "metadata": {},
     "output_type": "execute_result"
    },
    {
     "data": {
      "image/png": "[encoded data removed]",
      "text/plain": [
       "<Figure size 848.5x400 with 1 Axes>"
      ]
     },
     "metadata": {},
     "output_type": "display_data"
    }
   ],
   "source": [
    "pg[5][5].plot()"
   ]
  },
  {
   "cell_type": "code",
   "execution_count": 148,
   "metadata": {},
   "outputs": [
    {
     "data": {
      "text/plain": [
       "[<matplotlib.lines.Line2D at 0x25ab0bc4c88>]"
      ]
     },
     "execution_count": 148,
     "metadata": {},
     "output_type": "execute_result"
    },
    {
     "data": {
      "image/png": "[encoded data removed]",
      "text/plain": [
       "<Figure size 720x360 with 1 Axes>"
      ]
     },
     "metadata": {
      "needs_background": "light"
     },
     "output_type": "display_data"
    }
   ],
   "source": [
    "plt.figure(figsize=(10,5))\n",
    "plt.plot(np.asarray(pg[5][5].frequency), np.asarray(pg[5][5].power)/np.nanmedian(np.asarray(pg[5][5].power)))"
   ]
  },
  {
   "cell_type": "code",
   "execution_count": 139,
   "metadata": {},
   "outputs": [
    {
     "data": {
      "text/plain": [
       "<matplotlib.axes._subplots.AxesSubplot at 0x25aaeea8b00>"
      ]
     },
     "execution_count": 139,
     "metadata": {},
     "output_type": "execute_result"
    },
    {
     "data": {
      "image/png": "[encoded data removed]",
      "text/plain": [
       "<Figure size 848.5x400 with 1 Axes>"
      ]
     },
     "metadata": {},
     "output_type": "display_data"
    }
   ],
   "source": [
    "lc[5][5].plot()"
   ]
  },
  {
   "cell_type": "markdown",
   "metadata": {},
   "source": [
    "---break"
   ]
  },
  {
   "cell_type": "code",
   "execution_count": 835,
   "metadata": {},
   "outputs": [],
   "source": [
    "image = Simulate_Random_Image(separation=.5,star1flux=100, star2flux=100)\n",
    "lc = Create_LightCurve(image)\n",
    "pg = Create_Periodogram(lc)\n"
   ]
  },
  {
   "cell_type": "code",
   "execution_count": 845,
   "metadata": {},
   "outputs": [
    {
     "ename": "AttributeError",
     "evalue": "module 'lightkurve' has no attribute 'RegressionCorrector'",
     "output_type": "error",
     "traceback": [
      "\u001b[1;31m---------------------------------------------------------------------------\u001b[0m",
      "\u001b[1;31mAttributeError\u001b[0m                            Traceback (most recent call last)",
      "\u001b[1;32m<ipython-input-845-8a1eaa2ed902>\u001b[0m in \u001b[0;36m<module>\u001b[1;34m\u001b[0m\n\u001b[1;32m----> 1\u001b[1;33m \u001b[0mcorrector\u001b[0m \u001b[1;33m=\u001b[0m \u001b[0mlk\u001b[0m\u001b[1;33m.\u001b[0m\u001b[0mRegressionCorrector\u001b[0m\u001b[1;33m(\u001b[0m\u001b[0mlc\u001b[0m\u001b[1;33m)\u001b[0m\u001b[1;33m\u001b[0m\u001b[1;33m\u001b[0m\u001b[0m\n\u001b[0m",
      "\u001b[1;31mAttributeError\u001b[0m: module 'lightkurve' has no attribute 'RegressionCorrector'"
     ]
    }
   ],
   "source": [
    "corrector = lk.RegressionCorrector(lc)"
   ]
  },
  {
   "cell_type": "code",
   "execution_count": null,
   "metadata": {},
   "outputs": [],
   "source": []
  },
  {
   "cell_type": "code",
   "execution_count": 843,
   "metadata": {
    "scrolled": true
   },
   "outputs": [
    {
     "data": {
      "text/plain": [
       "array([[ 3.16247258,  3.15111808,  3.15899011,  3.18919083,  3.15801336,\n",
       "         3.15366332,  3.15982498,  3.15271874,  3.16506606,  3.16335296,\n",
       "         3.16977489],\n",
       "       [ 3.14355925,  3.16620059,  3.15656199,  3.14142139,  3.16962507,\n",
       "         3.17918358,  3.15424482,  3.13688897,  3.1518885 ,  3.17400918,\n",
       "         3.17824038],\n",
       "       [ 3.17933657,  3.17240294,  3.15714009,  3.19456536,  3.30467813,\n",
       "         3.44269944,  3.29802087,  3.16949373,  3.1951843 ,  3.18458799,\n",
       "         3.16661736],\n",
       "       [ 3.16955768,  3.16490055,  3.15278311,  3.80046163,  8.67333444,\n",
       "        13.16931898,  9.21171943,  4.02467306,  3.17519113,  3.19144131,\n",
       "         3.13330465],\n",
       "       [ 3.15715721,  3.14749395,  3.27671206,  8.55189356, 30.63832188,\n",
       "        48.69583357, 32.92790353, 10.08272267,  3.38807963,  3.16125282,\n",
       "         3.18800999],\n",
       "       [ 3.15681203,  3.1741247 ,  3.46135969, 12.81681007, 47.63937323,\n",
       "        75.85752374, 51.20038345, 15.30249308,  3.71534399,  3.16420258,\n",
       "         3.15594324],\n",
       "       [ 3.13995907,  3.17264867,  3.27844763,  8.54574056, 30.66173421,\n",
       "        48.69799486, 32.96151795, 10.09968478,  3.40335193,  3.16136889,\n",
       "         3.15756801],\n",
       "       [ 3.16662954,  3.17951822,  3.16195901,  3.79824262,  8.62911133,\n",
       "        13.1993    ,  9.16570417,  4.0332294 ,  3.15285388,  3.14936303,\n",
       "         3.14934286],\n",
       "       [ 3.13138916,  3.16551451,  3.18422716,  3.19456943,  3.28694798,\n",
       "         3.44774527,  3.32129828,  3.16866081,  3.1752094 ,  3.14080517,\n",
       "         3.15872672],\n",
       "       [ 3.15935652,  3.17378537,  3.16797783,  3.15221082,  3.14143908,\n",
       "         3.16827924,  3.15107773,  3.18095843,  3.15100798,  3.17369315,\n",
       "         3.16194631],\n",
       "       [ 3.1490837 ,  3.1708441 ,  3.173988  ,  3.17305294,  3.16201349,\n",
       "         3.18049118,  3.18474267,  3.16317089,  3.13259966,  3.16161871,\n",
       "         3.17553384]])"
      ]
     },
     "execution_count": 843,
     "metadata": {},
     "output_type": "execute_result"
    }
   ],
   "source": [
    "image['SNR']"
   ]
  },
  {
   "cell_type": "code",
   "execution_count": 756,
   "metadata": {},
   "outputs": [
    {
     "data": {
      "text/plain": [
       "9.991426634764267"
      ]
     },
     "execution_count": 756,
     "metadata": {},
     "output_type": "execute_result"
    }
   ],
   "source": [
    "np.var(lc[0][0].flux)"
   ]
  },
  {
   "cell_type": "code",
   "execution_count": 836,
   "metadata": {},
   "outputs": [
    {
     "data": {
      "text/plain": [
       "<matplotlib.image.AxesImage at 0x1f559451358>"
      ]
     },
     "execution_count": 836,
     "metadata": {},
     "output_type": "execute_result"
    },
    {
     "data": {
      "image/png": "[encoded data removed]",
      "text/plain": [
       "<Figure size 432x288 with 1 Axes>"
      ]
     },
     "metadata": {
      "needs_background": "light"
     },
     "output_type": "display_data"
    }
   ],
   "source": [
    "plt.imshow(image['stars'][0],origin=0)"
   ]
  },
  {
   "cell_type": "code",
   "execution_count": 837,
   "metadata": {
    "scrolled": false
   },
   "outputs": [
    {
     "data": {
      "text/plain": [
       "<matplotlib.collections.PathCollection at 0x1f55aab88d0>"
      ]
     },
     "execution_count": 837,
     "metadata": {},
     "output_type": "execute_result"
    },
    {
     "data": {
      "image/png": "[encoded data removed]",
      "text/plain": [
       "<Figure size 432x288 with 1 Axes>"
      ]
     },
     "metadata": {
      "needs_background": "light"
     },
     "output_type": "display_data"
    }
   ],
   "source": [
    "fhp = frequency_heatmap(pg,1000/48,[5])\n",
    "plt.imshow(fhp,origin=0)\n",
    "plt.scatter(loc[0][1],loc[0][2])"
   ]
  },
  {
   "cell_type": "code",
   "execution_count": 759,
   "metadata": {},
   "outputs": [
    {
     "data": {
      "text/plain": [
       "0.7645565297670209"
      ]
     },
     "execution_count": 759,
     "metadata": {},
     "output_type": "execute_result"
    }
   ],
   "source": [
    "fhp[0][0]"
   ]
  },
  {
   "cell_type": "code",
   "execution_count": 760,
   "metadata": {},
   "outputs": [
    {
     "data": {
      "text/plain": [
       "<matplotlib.axes._subplots.AxesSubplot at 0x1f5563b4b38>"
      ]
     },
     "execution_count": 760,
     "metadata": {},
     "output_type": "execute_result"
    },
    {
     "data": {
      "image/png": "[encoded data removed]",
      "text/plain": [
       "<Figure size 848.5x400 with 1 Axes>"
      ]
     },
     "metadata": {},
     "output_type": "display_data"
    }
   ],
   "source": [
    "lc[0][0].plot()"
   ]
  },
  {
   "cell_type": "code",
   "execution_count": 794,
   "metadata": {},
   "outputs": [
    {
     "data": {
      "text/latex": [
       "$[7.5978634,~842.24103] \\; \\mathrm{d}$"
      ],
      "text/plain": [
       "<Quantity [  7.59786337, 842.24103164] d>"
      ]
     },
     "execution_count": 794,
     "metadata": {},
     "output_type": "execute_result"
    }
   ],
   "source": [
    "(pg[5][5].power)*scalingf"
   ]
  },
  {
   "cell_type": "code",
   "execution_count": 793,
   "metadata": {},
   "outputs": [],
   "source": [
    "scalingf = 2/(np.var(lc[5][5].flux)/24)"
   ]
  },
  {
   "cell_type": "code",
   "execution_count": 827,
   "metadata": {},
   "outputs": [
    {
     "data": {
      "text/plain": [
       "983.6259599031896"
      ]
     },
     "execution_count": 827,
     "metadata": {},
     "output_type": "execute_result"
    }
   ],
   "source": [
    "(np.var(lc[5][5].flux)/24)"
   ]
  },
  {
   "cell_type": "markdown",
   "metadata": {},
   "source": [
    "sample variance as the mean over a bunch of small increments in the time series?"
   ]
  },
  {
   "cell_type": "markdown",
   "metadata": {},
   "source": []
  },
  {
   "cell_type": "code",
   "execution_count": 814,
   "metadata": {},
   "outputs": [
    {
     "data": {
      "text/plain": [
       "955.4999269604917"
      ]
     },
     "execution_count": 814,
     "metadata": {},
     "output_type": "execute_result"
    }
   ],
   "source": [
    "(np.var(lc[5][5].flux[21:24])/24)"
   ]
  },
  {
   "cell_type": "code",
   "execution_count": 336,
   "metadata": {},
   "outputs": [
    {
     "data": {
      "text/plain": [
       "1.6246754435760903e-33"
      ]
     },
     "execution_count": 336,
     "metadata": {},
     "output_type": "execute_result"
    }
   ],
   "source": [
    "stats.chi2.sf(151,2)"
   ]
  },
  {
   "cell_type": "code",
   "execution_count": 773,
   "metadata": {},
   "outputs": [
    {
     "data": {
      "text/plain": [
       "7.566368667364064"
      ]
     },
     "execution_count": 773,
     "metadata": {},
     "output_type": "execute_result"
    }
   ],
   "source": [
    "stats.chi2.isf(0.022750131948179195,2)"
   ]
  },
  {
   "cell_type": "code",
   "execution_count": 772,
   "metadata": {},
   "outputs": [
    {
     "data": {
      "text/plain": [
       "0.022750131948179195"
      ]
     },
     "execution_count": 772,
     "metadata": {},
     "output_type": "execute_result"
    }
   ],
   "source": [
    "stats.norm.sf(2)"
   ]
  },
  {
   "cell_type": "code",
   "execution_count": 841,
   "metadata": {},
   "outputs": [
    {
     "data": {
      "text/plain": [
       "[<matplotlib.lines.Line2D at 0x1f55bd2b400>]"
      ]
     },
     "execution_count": 841,
     "metadata": {},
     "output_type": "execute_result"
    },
    {
     "data": {
      "image/png": "[encoded data removed]",
      "text/plain": [
       "<Figure size 432x288 with 1 Axes>"
      ]
     },
     "metadata": {
      "needs_background": "light"
     },
     "output_type": "display_data"
    }
   ],
   "source": [
    "periodogrampixel = pg[5][6]\n",
    "plt.plot(periodogrampixel.frequency,periodogrampixel.power)\n",
    "\n",
    "plt.plot(periodogrampixel.frequency,np.ones(499)*np.mean(periodogrampixel.power))\n",
    "plt.plot(periodogrampixel.frequency,np.ones(499)*np.median(periodogrampixel.power))\n",
    "plt.plot(periodogrampixel.frequency,np.ones(499)*(np.var(lc[5][6].flux)/24))\n",
    "\n",
    "#plt.yscale('log')"
   ]
  },
  {
   "cell_type": "code",
   "execution_count": 719,
   "metadata": {},
   "outputs": [
    {
     "data": {
      "text/plain": [
       "(5.035310042328445, 5.503738685938177)"
      ]
     },
     "execution_count": 719,
     "metadata": {},
     "output_type": "execute_result"
    }
   ],
   "source": [
    "loc = tdg_fit(fhp)\n",
    "loc[0][1],loc[0][2]"
   ]
  },
  {
   "cell_type": "code",
   "execution_count": 768,
   "metadata": {},
   "outputs": [
    {
     "data": {
      "text/plain": [
       "(<Quantity 1727.06603731 d>, <Quantity 177.26960927 d>)"
      ]
     },
     "execution_count": 768,
     "metadata": {},
     "output_type": "execute_result"
    }
   ],
   "source": [
    "np.mean(periodogrampixel.power),np.median(periodogrampixel.power)"
   ]
  },
  {
   "cell_type": "code",
   "execution_count": null,
   "metadata": {},
   "outputs": [],
   "source": []
  },
  {
   "cell_type": "code",
   "execution_count": null,
   "metadata": {},
   "outputs": [],
   "source": []
  },
  {
   "cell_type": "markdown",
   "metadata": {},
   "source": [
    "# NEW METHOD:"
   ]
  },
  {
   "cell_type": "markdown",
   "metadata": {},
   "source": [
    "## Functions:"
   ]
  },
  {
   "cell_type": "code",
   "execution_count": 1,
   "metadata": {},
   "outputs": [],
   "source": [
    "import warnings\n",
    "import numpy as np\n",
    "from astropy.stats import sigma_clip\n",
    "import os\n",
    "from astropy.coordinates import SkyCoord, Angle\n",
    "import astropy.units as u\n",
    "import matplotlib.pyplot as plt\n",
    "import pandas as pd\n",
    "import scipy as sp\n",
    "import lightkurve as lk\n",
    "from scipy import stats\n",
    "from astropy import units as u\n",
    "import scipy.optimize as opt\n",
    "from photutils import centroids as cent\n",
    "import lmfit as lm\n",
    "from lmfit import Minimizer, Parameters, report_fit\n",
    "from tqdm import tqdm_notebook"
   ]
  },
  {
   "cell_type": "code",
   "execution_count": 32,
   "metadata": {},
   "outputs": [],
   "source": [
    "\n",
    "def Simulate_Random_Image(imageshape=(11,11),separation=None,backgroundnoise=10,star1flux = 1000,star2flux = 1000,star1pos=[5,5]):\n",
    "    time = np.arange(1000)*1./48.\n",
    "    freq1 = 10 #per day\n",
    "    freq2 = 5 #per day\n",
    "    relamp = .01\n",
    "    signal1 = relamp * np.sin(time*2*np.pi*freq1)\n",
    "    signal2 = .01 * np.sin(time*2*np.pi*freq2) #+ stats.norm.rvs(len(time))*.01\n",
    "    \n",
    "    \n",
    "\n",
    "    #Images\n",
    "    if(separation == None):\n",
    "        star1pos = [np.random.uniform()*imageshape[0],np.random.uniform()*imageshape[1]]\n",
    "        star2pos = [np.random.uniform()*imageshape[0],np.random.uniform()*imageshape[1]]\n",
    "        star1flux = np.random.randint(300,2000)\n",
    "        star2flux = np.random.randint(300,2000)\n",
    "        seeingsigma = 1.\n",
    "        \n",
    "        imagestack = np.zeros((imageshape[0],imageshape[1],len(time)))\n",
    "        xcoord,ycoord = np.meshgrid(np.arange(imageshape[1]),np.arange(imageshape[0])) #strange order\n",
    "\n",
    "\n",
    "\n",
    "        \n",
    "\n",
    "        #add starlight\n",
    "\n",
    "        distance1 = np.sqrt((xcoord-star1pos[0])**2 + (ycoord-star1pos[1])**2)\n",
    "        distance2 = np.sqrt((xcoord-star2pos[0])**2 + (ycoord-star2pos[1])**2)\n",
    "\n",
    "        for i in range(len(time)):\n",
    "            #star 1\n",
    "            imagestack[:,:,i] += stats.norm.pdf(distance1,scale=seeingsigma) * star1flux * (1. + signal1[i])\n",
    "\n",
    "            #star 2\n",
    "            imagestack[:,:,i] += stats.norm.pdf(distance2,scale=seeingsigma) * star2flux * (1. + signal2[i])\n",
    "\n",
    "            #add measurement noise\n",
    "            #should probably be Poisson\n",
    "            imagestack[:,:,i] += stats.norm.rvs(size=imagestack[:,:,i].size).reshape(imageshape) * np.sqrt(imagestack[:,:,i])\n",
    "\n",
    "            #background\n",
    "            imagestack[:,:,i] += backgroundnoise\n",
    "            imagestack[:,:,i] += stats.norm.rvs(size=imagestack[:,:,i].size).reshape(imageshape) * np.sqrt(backgroundnoise)\n",
    "\n",
    "        stars = imagestack[:,:,:].T\n",
    "        return [stars,freq1,freq2,star1pos,star2pos,star1flux,star2flux,time,imageshape,separation]\n",
    "        \n",
    "        \n",
    "    else:\n",
    "        #star1pos = [5,5]#[np.random.uniform()*imageshape[0],np.random.uniform()*imageshape[1]]\n",
    "        star2pos = [star1pos[0],star1pos[1]+separation]#[np.random.uniform(star1pos[0]-separation,star1pos[0]+separation,size=1)]\n",
    "        #star2pos.extend(np.random.choice((-1,1))*np.sqrt(separation**2 - (star2pos[0]-star1pos[0])**2)+star1pos[1])\n",
    "        #star1flux = 1000#np.random.randint(300,2000)\n",
    "        #star2flux = 1000#np.random.randint(300,2000)\n",
    "        seeingsigma = 1\n",
    "\n",
    "        imagestack = np.zeros((imageshape[0],imageshape[1],len(time)))\n",
    "        ycoord,xcoord = np.meshgrid(np.arange(imageshape[1]),np.arange(imageshape[0])) #strange order\n",
    "\n",
    "\n",
    "\n",
    "\n",
    "        #add starlight\n",
    "\n",
    "        distance1 = np.sqrt((xcoord-star1pos[0])**2 + (ycoord-star1pos[1])**2)\n",
    "        distance2 = np.sqrt((xcoord-star2pos[0])**2 + (ycoord-star2pos[1])**2)\n",
    "\n",
    "        for i in range(len(time)):\n",
    "            #star 1\n",
    "            imagestack[:,:,i] += stats.norm.pdf(distance1,scale=seeingsigma) * star1flux * (1. + signal1[i])\n",
    "\n",
    "            #star 2\n",
    "            imagestack[:,:,i] += stats.norm.pdf(distance2,scale=seeingsigma) * star2flux * (1. + signal2[i])\n",
    "\n",
    "            #add measurement noise\n",
    "            #should probably be Poisson\n",
    "            imagestack[:,:,i] += stats.norm.rvs(size=imagestack[:,:,i].size).reshape(imageshape) * np.sqrt(imagestack[:,:,i])\n",
    "\n",
    "            #background\n",
    "            imagestack[:,:,i] += backgroundnoise\n",
    "            imagestack[:,:,i] += stats.norm.rvs(size=imagestack[:,:,i].size).reshape(imageshape) * np.sqrt(backgroundnoise)\n",
    "        \n",
    "        stars = imagestack[:,:,:].T\n",
    "        \n",
    "        \n",
    "\n",
    "    diction = {\n",
    "        'stars':stars,\n",
    "        'Frequencystar1':freq1,\n",
    "        'Frequencystar2':freq2,\n",
    "        'star1position':star1pos,\n",
    "        'star2position':star2pos,\n",
    "        'star1flux':star1flux,\n",
    "        'star2flux':star2flux,\n",
    "        'time':time,\n",
    "        'imageshape':imageshape,\n",
    "        'separation':separation\n",
    "    }\n",
    "    return diction"
   ]
  },
  {
   "cell_type": "code",
   "execution_count": 3,
   "metadata": {},
   "outputs": [],
   "source": [
    "#not worried about PCA since there shouldnt be systematic trends to get rif of\n",
    "def Create_LightCurve(*simulatedimage):\n",
    "    imageshape = simulatedimage[0]['imageshape']\n",
    "    time = simulatedimage[0]['time']\n",
    "    lc_array = np.zeros(imageshape,dtype=object)\n",
    "    fluxtype = simulatedimage[0]['stars']\n",
    "    for i in np.arange(0,imageshape[0]):\n",
    "        for j in np.arange(0,imageshape[1]):\n",
    "            lc_array[j][i] = lk.LightCurve(time = time, flux = fluxtype.T[i,j,:])\n",
    "            #lc_array[j][i] = lc_array[j][i].normalize()\n",
    "    return lc_array"
   ]
  },
  {
   "cell_type": "code",
   "execution_count": 4,
   "metadata": {},
   "outputs": [],
   "source": [
    "def Obtain_Initial_Phase(corrected_lc,frequency_list):\n",
    "\n",
    "    flux = corrected_lc.flux\n",
    "    times = corrected_lc.time - np.mean(corrected_lc.time)\n",
    "    pg = corrected_lc.to_periodogram(frequency = frequency_list,ls_method='slow')\n",
    "    initial_flux= np.asarray(pg.power)\n",
    "\n",
    "    initial_phase = np.zeros(len(frequency_list))\n",
    "\n",
    "    def lc_model(time,amp,freq,phase):\n",
    "        return amp*np.sin(2*np.pi*freq*time + phase)\n",
    "\n",
    "    def background_model(time,height):\n",
    "        return time*height/time\n",
    "    for j in np.arange(len(frequency_list)):\n",
    "        for i in np.arange(len(frequency_list)):\n",
    "\n",
    "            if (i == 0):\n",
    "                model = lm.Model(lc_model,independent_vars=['time'],prefix='f{0:d}'.format(i)) \n",
    "                model += lm.Model(background_model, independent_vars=['time'])\n",
    "            else:\n",
    "                model += lm.Model(lc_model,independent_vars=['time'],prefix='f{0:d}'.format(i))\n",
    "\n",
    "\n",
    "            model.set_param_hint('f{0:d}phase'.format(i), min = -np.pi, max = np.pi ,value= initial_phase[i],vary = False)\n",
    "            model.set_param_hint('f{0:d}amp'.format(i), value = initial_flux[i],vary=False)\n",
    "            model.set_param_hint('height', value= np.mean(flux),vary=False)\n",
    "            model.set_param_hint('f{0:d}freq'.format(i),value = frequency_list[i], vary = False)\n",
    "\n",
    "\n",
    "        params = model.make_params()\n",
    "        params['f{0:d}phase'.format(j)].set(vary=True)\n",
    "        params['f{0:d}phase'.format(j)].set(value = initial_phase[j])\n",
    "        params['f{0:d}phase'.format(j)].set(brute_step=np.pi/10)\n",
    "        result = model.fit(corrected_lc.flux,params,time=times,method = 'brute')\n",
    "        initial_phase[j]=result.best_values['f{0:d}phase'.format(j)]\n",
    "\n",
    "    return initial_phase\n",
    "\n",
    "\n",
    "\n",
    "def Obtain_Final_Phase(corrected_lc,frequency_list,initial_phases):\n",
    "\n",
    "    flux = corrected_lc.flux\n",
    "    times = corrected_lc.time - np.mean(corrected_lc.time)\n",
    "    pg = corrected_lc.to_periodogram(frequency = frequency_list)\n",
    "    initial_flux= np.asarray(pg.power)\n",
    "\n",
    "\n",
    "    def lc_model(time,amp,freq,phase):\n",
    "        return amp*np.sin(2*np.pi*freq*time + phase)\n",
    "\n",
    "    def background_model(time,height):\n",
    "        return time*height/time\n",
    "\n",
    "    for i in np.arange(len(frequency_list)):\n",
    "\n",
    "        if (i == 0):\n",
    "            model = lm.Model(lc_model,independent_vars=['time'],prefix='f{0:d}'.format(i)) \n",
    "            model += lm.Model(background_model, independent_vars=['time'])\n",
    "        else:\n",
    "            model += lm.Model(lc_model,independent_vars=['time'],prefix='f{0:d}'.format(i))\n",
    "\n",
    "\n",
    "        model.set_param_hint('f{0:d}phase'.format(i), min = -np.pi, max = np.pi ,value= initial_phases[i],vary = True)\n",
    "        model.set_param_hint('f{0:d}amp'.format(i), value = initial_flux[i],vary=True)\n",
    "        model.set_param_hint('height', value= np.mean(flux),vary=True)\n",
    "        model.set_param_hint('f{0:d}freq'.format(i),value = frequency_list[i], vary = False)\n",
    "\n",
    "\n",
    "    params = model.make_params()\n",
    "\n",
    "    result = model.fit(corrected_lc.flux,params,time=times)\n",
    "\n",
    "    final_phases = [result.best_values['f{0:d}phase'.format(j)] for j in np.arange(len(frequency_list))]\n",
    "\n",
    "\n",
    "    return final_phases\n",
    "\n",
    "\n",
    "\n",
    "def Obtain_Final_Fit(corrected_lc,frequency_list,final_phases):\n",
    "\n",
    "    flux = corrected_lc.flux\n",
    "    times = corrected_lc.time - np.mean(corrected_lc.time)\n",
    "    pg = corrected_lc.to_periodogram(frequency = frequency_list)\n",
    "    initial_flux= np.asarray(pg.power)\n",
    "\n",
    "\n",
    "    def lc_model(time,amp,freq,phase):\n",
    "        return amp*np.sin(2*np.pi*freq*time + phase)\n",
    "\n",
    "    def background_model(time,height):\n",
    "        return time*height/time\n",
    "\n",
    "    for i in np.arange(len(frequency_list)):\n",
    "\n",
    "        if (i == 0):\n",
    "            model = lm.Model(lc_model,independent_vars=['time'],prefix='f{0:d}'.format(i)) \n",
    "            model += lm.Model(background_model, independent_vars=['time'])\n",
    "        else:\n",
    "            model += lm.Model(lc_model,independent_vars=['time'],prefix='f{0:d}'.format(i))\n",
    "\n",
    "\n",
    "        model.set_param_hint('f{0:d}phase'.format(i), value= final_phases[i],vary = False)\n",
    "        model.set_param_hint('f{0:d}amp'.format(i), value = initial_flux[i],vary=True)\n",
    "        model.set_param_hint('height', value= np.mean(flux),vary=True)\n",
    "        model.set_param_hint('f{0:d}freq'.format(i),value = frequency_list[i], vary = False)\n",
    "\n",
    "\n",
    "    params = model.make_params()\n",
    "\n",
    "    result = model.fit(corrected_lc.flux,params,time=times)\n",
    "\n",
    "    return result\n",
    "\n",
    "\n"
   ]
  },
  {
   "cell_type": "code",
   "execution_count": 5,
   "metadata": {},
   "outputs": [],
   "source": [
    "def centroid(image,heat_stamp,heatmap_error,frequencies):\n",
    "\n",
    "    size = image['imageshape']\n",
    "    #Residuals to minimize relative to the error bars\n",
    "    def residual(params, amp, amperr):\n",
    "\n",
    "        x = params['x']\n",
    "        y = params['y']\n",
    "        sigma = params['sigma']\n",
    "\n",
    "        xpix,ypix = np.meshgrid(np.arange(size[0]),np.arange(size[1]))\n",
    "\n",
    "        res = []\n",
    "        for i in np.arange(len(frequencies)):\n",
    "            height = params['height{0:d}'.format(i)]\n",
    "\n",
    "            model = height*np.exp(-(((x-xpix)/sigma)**2+((y-ypix)/sigma)**2)/2)\n",
    "\n",
    "            res.extend( [(amp[i].reshape(size)-model) / amperr[i].reshape(size)])\n",
    "\n",
    "\n",
    "        return np.asarray(res)\n",
    "\n",
    "    #Set starting values to converge from\n",
    "    c = cent.centroid_2dg(heat_stamp.sum(axis=0).reshape(size) / np.sqrt((heatmap_error**2).sum(axis=0)).reshape(size))\n",
    "    params = Parameters()\n",
    "    for i in np.arange(len(frequencies)):\n",
    "        params.add('height{0:d}'.format(i), value=np.max(heat_stamp[i]))\n",
    "    params.add('x', value=c[0]) \n",
    "    params.add('y', value=c[1])\n",
    "    params.add('sigma', value=1)\n",
    "\n",
    "    #Do the fit\n",
    "    minner = Minimizer(residual, params, fcn_args=(heat_stamp, heatmap_error))\n",
    "    \n",
    "    result = minner.minimize()\n",
    "    fit = result.params.valuesdict()\n",
    "    x = fit['x']\n",
    "    y = fit['y']\n",
    "    composite_heatmap = heat_stamp.sum(axis=0).reshape(size[0],size[1]) / np.sqrt((heatmap_error**2).sum(axis=0)).reshape(size[0],size[1])\n",
    "    diction ={\n",
    "        'result':result,\n",
    "        'fit':fit,\n",
    "        'centroid':(x,y),\n",
    "        'composite heatmap':composite_heatmap\n",
    "    }\n",
    "    return diction"
   ]
  },
  {
   "cell_type": "markdown",
   "metadata": {},
   "source": [
    "## Process"
   ]
  },
  {
   "cell_type": "code",
   "execution_count": 33,
   "metadata": {},
   "outputs": [],
   "source": [
    "#create image \n",
    "image = Simulate_Random_Image(separation=3)"
   ]
  },
  {
   "cell_type": "code",
   "execution_count": 34,
   "metadata": {},
   "outputs": [],
   "source": [
    "#create lightcurve\n",
    "lightcurve = Create_LightCurve(image)"
   ]
  },
  {
   "cell_type": "code",
   "execution_count": 35,
   "metadata": {},
   "outputs": [],
   "source": [
    "#phase fits\n",
    "frequency_list = [1,5]\n",
    "initial_phases = Obtain_Initial_Phase(sum(sum(lightcurve)),frequency_list)\n",
    "final_phases = Obtain_Final_Phase(sum(sum(lightcurve)),frequency_list, initial_phases)\n"
   ]
  },
  {
   "cell_type": "code",
   "execution_count": 36,
   "metadata": {},
   "outputs": [],
   "source": [
    "#obtain 'heats'\n",
    "heats = []\n",
    "heats_error =[]\n",
    "imageshape = image['imageshape']\n",
    "#Iterating through columns of pixels\n",
    "for i in np.arange(0,imageshape[0]):\n",
    "\n",
    "    #Iterating through rows of pixels\n",
    "    for j in np.arange(0,imageshape[1]):\n",
    "\n",
    "\n",
    "        #Making an empty 2-d array\n",
    "        mask = np.zeros((imageshape[0],imageshape[1]), dtype=bool)\n",
    "\n",
    "        #Iterating to isolate pixel by pixel to get light curves\n",
    "        mask[i][j] = True\n",
    "\n",
    "        #Getting the light curve for a pixel and excluding any flagged data\n",
    "        lc = lightcurve[mask][0]\n",
    "\n",
    "\n",
    "\n",
    "\n",
    "\n",
    "        bestfit = Obtain_Final_Fit(lc,frequency_list,final_phases)\n",
    "        heat = np.asarray([bestfit.best_values['f{0:d}amp'.format(n)] for n in np.arange(len(frequency_list))])\n",
    "        #heat = bestfit.best_values['f0amp']# / bestfit.params['f0amp'].stderr\n",
    "        heat_error =  np.asarray([bestfit.params['f{0:d}amp'.format(n)].stderr for n in np.arange(len(frequency_list))])\n",
    "\n",
    "        #Extending the list of fitting data for each pixel\n",
    "        heats.extend([heat])\n",
    "        heats_error.extend([heat_error])\n",
    "\n",
    "#Taking the final list and turning it into a 2-d numpy array with the same dimensions of the full postage stamp      \n",
    "#heats = np.reshape(np.asarray(heats),(len(self.aperture),len(self.aperture[0])))\n",
    "#heats_error = np.reshape(np.asarray(heats_error),(len(self.aperture),len(self.aperture[0])))\n",
    "heats = np.asarray(heats)\n",
    "heats_error = np.asarray(heats_error)\n",
    "\n",
    "#Defining self.periodogram as this 2-d array of periodogram data\n",
    "heatmap = heats.T\n",
    "heatmap_error = heats_error.T\n",
    "\n",
    "\n"
   ]
  },
  {
   "cell_type": "code",
   "execution_count": 37,
   "metadata": {},
   "outputs": [],
   "source": [
    "centroidfit = centroid(image,heatmap,heatmap_error,frequency_list)"
   ]
  },
  {
   "cell_type": "code",
   "execution_count": 45,
   "metadata": {},
   "outputs": [
    {
     "data": {
      "text/html": [
       "<table><tr><th> name </th><th> value </th><th> standard error </th><th> relative error </th><th> initial value </th><th> min </th><th> max </th><th> vary </th></tr><tr><td> height0 </td><td>  0.38075302 </td><td>  0.29716120 </td><td> (78.05%) </td><td> 1.2325878557572767 </td><td>        -inf </td><td>         inf </td><td> True </td></tr><tr><td> height1 </td><td>  3.35777012 </td><td>  0.45185192 </td><td> (13.46%) </td><td> 4.542120915059098 </td><td>        -inf </td><td>         inf </td><td> True </td></tr><tr><td> x </td><td>  4.98439438 </td><td>  0.09956295 </td><td> (2.00%) </td><td> 4.567717520550738 </td><td>        -inf </td><td>         inf </td><td> True </td></tr><tr><td> y </td><td>  8.07376030 </td><td>  0.12137086 </td><td> (1.50%) </td><td> 8.335696474763921 </td><td>        -inf </td><td>         inf </td><td> True </td></tr><tr><td> sigma </td><td>  1.16288850 </td><td>  0.06731819 </td><td> (5.79%) </td><td> 1 </td><td>        -inf </td><td>         inf </td><td> True </td></tr></table>"
      ],
      "text/plain": [
       "Parameters([('height0',\n",
       "             <Parameter 'height0', value=0.38075302072771544 +/- 0.297, bounds=[-inf:inf]>),\n",
       "            ('height1',\n",
       "             <Parameter 'height1', value=3.3577701219688083 +/- 0.452, bounds=[-inf:inf]>),\n",
       "            ('x',\n",
       "             <Parameter 'x', value=4.984394377502756 +/- 0.0996, bounds=[-inf:inf]>),\n",
       "            ('y',\n",
       "             <Parameter 'y', value=8.07376030480859 +/- 0.121, bounds=[-inf:inf]>),\n",
       "            ('sigma',\n",
       "             <Parameter 'sigma', value=1.1628885018757231 +/- 0.0673, bounds=[-inf:inf]>)])"
      ]
     },
     "execution_count": 45,
     "metadata": {},
     "output_type": "execute_result"
    }
   ],
   "source": [
    "centroidfit['result'].params"
   ]
  },
  {
   "cell_type": "code",
   "execution_count": 81,
   "metadata": {},
   "outputs": [
    {
     "data": {
      "text/plain": [
       "[<matplotlib.lines.Line2D at 0x1e55fb24a90>]"
      ]
     },
     "execution_count": 81,
     "metadata": {},
     "output_type": "execute_result"
    },
    {
     "data": {
      "image/png": "[encoded data removed]",
      "text/plain": [
       "<Figure size 432x288 with 1 Axes>"
      ]
     },
     "metadata": {
      "needs_background": "light"
     },
     "output_type": "display_data"
    }
   ],
   "source": [
    "plt.imshow(centroidfit['composite heatmap'],origin=0)\n",
    "plt.plot(centroidfit['centroid'][0],centroidfit['centroid'][1],marker='X')"
   ]
  },
  {
   "cell_type": "code",
   "execution_count": 82,
   "metadata": {},
   "outputs": [
    {
     "data": {
      "text/plain": [
       "<matplotlib.image.AxesImage at 0x1e55f58ee10>"
      ]
     },
     "execution_count": 82,
     "metadata": {},
     "output_type": "execute_result"
    },
    {
     "data": {
      "image/png": "[encoded data removed]",
      "text/plain": [
       "<Figure size 432x288 with 1 Axes>"
      ]
     },
     "metadata": {
      "needs_background": "light"
     },
     "output_type": "display_data"
    }
   ],
   "source": [
    "plt.imshow(image['stars'][0],origin=0)"
   ]
  },
  {
   "cell_type": "code",
   "execution_count": 83,
   "metadata": {},
   "outputs": [
    {
     "name": "stdout",
     "output_type": "stream",
     "text": [
      "[[Fit Statistics]]\n",
      "    # fitting method   = leastsq\n",
      "    # function evals   = 43\n",
      "    # data points      = 242\n",
      "    # variables        = 5\n",
      "    chi-square         = 206.768503\n",
      "    reduced chi-square = 0.87244094\n",
      "    Akaike info crit   = -28.0757721\n",
      "    Bayesian info crit = -10.6310835\n",
      "[[Variables]]\n",
      "    height0:  0.26728577 +/- 0.50772351 (189.96%) (init = 1.036278)\n",
      "    height1:  5.08952979 +/- 0.76702528 (15.07%) (init = 5.392311)\n",
      "    x:        5.01263772 +/- 0.07922213 (1.58%) (init = 5.134497)\n",
      "    y:        7.94711435 +/- 0.08544119 (1.08%) (init = 8.205188)\n",
      "    sigma:    0.77810478 +/- 0.04937526 (6.35%) (init = 1)\n",
      "[[Correlations]] (unreported correlations are < 0.100)\n",
      "    C(height1, sigma) = -0.750\n",
      "    C(y, sigma)       = -0.106\n"
     ]
    }
   ],
   "source": [
    "report_fit(centroidfit['result'])"
   ]
  },
  {
   "cell_type": "code",
   "execution_count": 28,
   "metadata": {
    "scrolled": true
   },
   "outputs": [
    {
     "data": {
      "text/plain": [
       "<matplotlib.axes._subplots.AxesSubplot at 0x1e55db91278>"
      ]
     },
     "execution_count": 28,
     "metadata": {},
     "output_type": "execute_result"
    },
    {
     "data": {
      "image/png": "[encoded data removed]",
      "text/plain": [
       "<Figure size 848.5x400 with 1 Axes>"
      ]
     },
     "metadata": {},
     "output_type": "display_data"
    }
   ],
   "source": [
    "sum(sum(lightcurve)).plot()"
   ]
  },
  {
   "cell_type": "markdown",
   "metadata": {},
   "source": [
    "Cases to test:\n",
    "1. different percent variability\n",
    "2. different brightnesses"
   ]
  },
  {
   "cell_type": "code",
   "execution_count": 77,
   "metadata": {},
   "outputs": [
    {
     "name": "stderr",
     "output_type": "stream",
     "text": [
      "<ipython-input-77-2c7d439babe2>:9: TqdmDeprecationWarning: This function will be removed in tqdm==5.0.0\n",
      "Please use `tqdm.notebook.tqdm` instead of `tqdm.tqdm_notebook`\n",
      "  for j in tqdm_notebook(np.arange(5,10,.5)):\n"
     ]
    },
    {
     "data": {
      "application/vnd.jupyter.widget-view+json": {
       "model_id": "44718af51dcf47868a0c14121b4410d8",
       "version_major": 2,
       "version_minor": 0
      },
      "text/plain": [
       "HBox(children=(HTML(value=''), FloatProgress(value=0.0, max=10.0), HTML(value='')))"
      ]
     },
     "metadata": {},
     "output_type": "display_data"
    },
    {
     "name": "stderr",
     "output_type": "stream",
     "text": [
      "<ipython-input-77-2c7d439babe2>:11: TqdmDeprecationWarning: This function will be removed in tqdm==5.0.0\n",
      "Please use `tqdm.notebook.tqdm` instead of `tqdm.tqdm_notebook`\n",
      "  for i in tqdm_notebook(np.arange(0,1000)):\n"
     ]
    },
    {
     "data": {
      "application/vnd.jupyter.widget-view+json": {
       "model_id": "5eed2beb65494079a27aba89a383b8e4",
       "version_major": 2,
       "version_minor": 0
      },
      "text/plain": [
       "HBox(children=(HTML(value=''), FloatProgress(value=0.0, max=1000.0), HTML(value='')))"
      ]
     },
     "metadata": {},
     "output_type": "display_data"
    },
    {
     "name": "stdout",
     "output_type": "stream",
     "text": [
      "\n",
      "\n"
     ]
    },
    {
     "ename": "KeyboardInterrupt",
     "evalue": "",
     "output_type": "error",
     "traceback": [
      "\u001b[1;31m---------------------------------------------------------------------------\u001b[0m",
      "\u001b[1;31mKeyboardInterrupt\u001b[0m                         Traceback (most recent call last)",
      "\u001b[1;32m<ipython-input-77-2c7d439babe2>\u001b[0m in \u001b[0;36m<module>\u001b[1;34m\u001b[0m\n\u001b[0;32m     10\u001b[0m \u001b[1;33m\u001b[0m\u001b[0m\n\u001b[0;32m     11\u001b[0m     \u001b[1;32mfor\u001b[0m \u001b[0mi\u001b[0m \u001b[1;32min\u001b[0m \u001b[0mtqdm_notebook\u001b[0m\u001b[1;33m(\u001b[0m\u001b[0mnp\u001b[0m\u001b[1;33m.\u001b[0m\u001b[0marange\u001b[0m\u001b[1;33m(\u001b[0m\u001b[1;36m0\u001b[0m\u001b[1;33m,\u001b[0m\u001b[1;36m1000\u001b[0m\u001b[1;33m)\u001b[0m\u001b[1;33m)\u001b[0m\u001b[1;33m:\u001b[0m\u001b[1;33m\u001b[0m\u001b[1;33m\u001b[0m\u001b[0m\n\u001b[1;32m---> 12\u001b[1;33m         \u001b[0mimage\u001b[0m \u001b[1;33m=\u001b[0m \u001b[0mSimulate_Random_Image\u001b[0m\u001b[1;33m(\u001b[0m\u001b[0mseparation\u001b[0m\u001b[1;33m=\u001b[0m\u001b[1;36m1\u001b[0m\u001b[1;33m,\u001b[0m\u001b[0mstar1flux\u001b[0m\u001b[1;33m=\u001b[0m\u001b[1;36m1000\u001b[0m\u001b[1;33m,\u001b[0m\u001b[0mstar2flux\u001b[0m\u001b[1;33m=\u001b[0m\u001b[1;36m0\u001b[0m\u001b[1;33m,\u001b[0m\u001b[0mstar1pos\u001b[0m\u001b[1;33m=\u001b[0m\u001b[1;33m[\u001b[0m\u001b[1;36m5\u001b[0m\u001b[1;33m,\u001b[0m\u001b[0mj\u001b[0m\u001b[1;33m]\u001b[0m\u001b[1;33m)\u001b[0m\u001b[1;33m\u001b[0m\u001b[1;33m\u001b[0m\u001b[0m\n\u001b[0m\u001b[0;32m     13\u001b[0m         \u001b[0mlc\u001b[0m \u001b[1;33m=\u001b[0m \u001b[0mCreate_LightCurve\u001b[0m\u001b[1;33m(\u001b[0m\u001b[0mimage\u001b[0m\u001b[1;33m)\u001b[0m\u001b[1;33m\u001b[0m\u001b[1;33m\u001b[0m\u001b[0m\n\u001b[0;32m     14\u001b[0m         \u001b[0minitial_phases\u001b[0m \u001b[1;33m=\u001b[0m \u001b[0mObtain_Initial_Phase\u001b[0m\u001b[1;33m(\u001b[0m\u001b[0msum\u001b[0m\u001b[1;33m(\u001b[0m\u001b[0msum\u001b[0m\u001b[1;33m(\u001b[0m\u001b[0mlightcurve\u001b[0m\u001b[1;33m)\u001b[0m\u001b[1;33m)\u001b[0m\u001b[1;33m,\u001b[0m\u001b[0mfrequency_list\u001b[0m\u001b[1;33m)\u001b[0m\u001b[1;33m\u001b[0m\u001b[1;33m\u001b[0m\u001b[0m\n",
      "\u001b[1;32m<ipython-input-32-38a58ca3ffbd>\u001b[0m in \u001b[0;36mSimulate_Random_Image\u001b[1;34m(imageshape, separation, backgroundnoise, star1flux, star2flux, star1pos)\u001b[0m\n\u001b[0;32m     72\u001b[0m \u001b[1;33m\u001b[0m\u001b[0m\n\u001b[0;32m     73\u001b[0m             \u001b[1;31m#star 2\u001b[0m\u001b[1;33m\u001b[0m\u001b[1;33m\u001b[0m\u001b[1;33m\u001b[0m\u001b[0m\n\u001b[1;32m---> 74\u001b[1;33m             \u001b[0mimagestack\u001b[0m\u001b[1;33m[\u001b[0m\u001b[1;33m:\u001b[0m\u001b[1;33m,\u001b[0m\u001b[1;33m:\u001b[0m\u001b[1;33m,\u001b[0m\u001b[0mi\u001b[0m\u001b[1;33m]\u001b[0m \u001b[1;33m+=\u001b[0m \u001b[0mstats\u001b[0m\u001b[1;33m.\u001b[0m\u001b[0mnorm\u001b[0m\u001b[1;33m.\u001b[0m\u001b[0mpdf\u001b[0m\u001b[1;33m(\u001b[0m\u001b[0mdistance2\u001b[0m\u001b[1;33m,\u001b[0m\u001b[0mscale\u001b[0m\u001b[1;33m=\u001b[0m\u001b[0mseeingsigma\u001b[0m\u001b[1;33m)\u001b[0m \u001b[1;33m*\u001b[0m \u001b[0mstar2flux\u001b[0m \u001b[1;33m*\u001b[0m \u001b[1;33m(\u001b[0m\u001b[1;36m1.\u001b[0m \u001b[1;33m+\u001b[0m \u001b[0msignal2\u001b[0m\u001b[1;33m[\u001b[0m\u001b[0mi\u001b[0m\u001b[1;33m]\u001b[0m\u001b[1;33m)\u001b[0m\u001b[1;33m\u001b[0m\u001b[1;33m\u001b[0m\u001b[0m\n\u001b[0m\u001b[0;32m     75\u001b[0m \u001b[1;33m\u001b[0m\u001b[0m\n\u001b[0;32m     76\u001b[0m             \u001b[1;31m#add measurement noise\u001b[0m\u001b[1;33m\u001b[0m\u001b[1;33m\u001b[0m\u001b[1;33m\u001b[0m\u001b[0m\n",
      "\u001b[1;32m~\\anaconda3\\lib\\site-packages\\scipy\\stats\\_distn_infrastructure.py\u001b[0m in \u001b[0;36mpdf\u001b[1;34m(self, x, *args, **kwds)\u001b[0m\n\u001b[0;32m   1767\u001b[0m             \u001b[0mgoodargs\u001b[0m \u001b[1;33m=\u001b[0m \u001b[0margsreduce\u001b[0m\u001b[1;33m(\u001b[0m\u001b[0mcond\u001b[0m\u001b[1;33m,\u001b[0m \u001b[1;33m*\u001b[0m\u001b[1;33m(\u001b[0m\u001b[1;33m(\u001b[0m\u001b[0mx\u001b[0m\u001b[1;33m,\u001b[0m\u001b[1;33m)\u001b[0m\u001b[1;33m+\u001b[0m\u001b[0margs\u001b[0m\u001b[1;33m+\u001b[0m\u001b[1;33m(\u001b[0m\u001b[0mscale\u001b[0m\u001b[1;33m,\u001b[0m\u001b[1;33m)\u001b[0m\u001b[1;33m)\u001b[0m\u001b[1;33m)\u001b[0m\u001b[1;33m\u001b[0m\u001b[1;33m\u001b[0m\u001b[0m\n\u001b[0;32m   1768\u001b[0m             \u001b[0mscale\u001b[0m\u001b[1;33m,\u001b[0m \u001b[0mgoodargs\u001b[0m \u001b[1;33m=\u001b[0m \u001b[0mgoodargs\u001b[0m\u001b[1;33m[\u001b[0m\u001b[1;33m-\u001b[0m\u001b[1;36m1\u001b[0m\u001b[1;33m]\u001b[0m\u001b[1;33m,\u001b[0m \u001b[0mgoodargs\u001b[0m\u001b[1;33m[\u001b[0m\u001b[1;33m:\u001b[0m\u001b[1;33m-\u001b[0m\u001b[1;36m1\u001b[0m\u001b[1;33m]\u001b[0m\u001b[1;33m\u001b[0m\u001b[1;33m\u001b[0m\u001b[0m\n\u001b[1;32m-> 1769\u001b[1;33m             \u001b[0mplace\u001b[0m\u001b[1;33m(\u001b[0m\u001b[0moutput\u001b[0m\u001b[1;33m,\u001b[0m \u001b[0mcond\u001b[0m\u001b[1;33m,\u001b[0m \u001b[0mself\u001b[0m\u001b[1;33m.\u001b[0m\u001b[0m_pdf\u001b[0m\u001b[1;33m(\u001b[0m\u001b[1;33m*\u001b[0m\u001b[0mgoodargs\u001b[0m\u001b[1;33m)\u001b[0m \u001b[1;33m/\u001b[0m \u001b[0mscale\u001b[0m\u001b[1;33m)\u001b[0m\u001b[1;33m\u001b[0m\u001b[1;33m\u001b[0m\u001b[0m\n\u001b[0m\u001b[0;32m   1770\u001b[0m         \u001b[1;32mif\u001b[0m \u001b[0moutput\u001b[0m\u001b[1;33m.\u001b[0m\u001b[0mndim\u001b[0m \u001b[1;33m==\u001b[0m \u001b[1;36m0\u001b[0m\u001b[1;33m:\u001b[0m\u001b[1;33m\u001b[0m\u001b[1;33m\u001b[0m\u001b[0m\n\u001b[0;32m   1771\u001b[0m             \u001b[1;32mreturn\u001b[0m \u001b[0moutput\u001b[0m\u001b[1;33m[\u001b[0m\u001b[1;33m(\u001b[0m\u001b[1;33m)\u001b[0m\u001b[1;33m]\u001b[0m\u001b[1;33m\u001b[0m\u001b[1;33m\u001b[0m\u001b[0m\n",
      "\u001b[1;32m<__array_function__ internals>\u001b[0m in \u001b[0;36mplace\u001b[1;34m(*args, **kwargs)\u001b[0m\n",
      "\u001b[1;32m~\\anaconda3\\lib\\site-packages\\numpy\\lib\\function_base.py\u001b[0m in \u001b[0;36mplace\u001b[1;34m(arr, mask, vals)\u001b[0m\n\u001b[0;32m   1740\u001b[0m                         \"not {name}\".format(name=type(arr).__name__))\n\u001b[0;32m   1741\u001b[0m \u001b[1;33m\u001b[0m\u001b[0m\n\u001b[1;32m-> 1742\u001b[1;33m     \u001b[1;32mreturn\u001b[0m \u001b[0m_insert\u001b[0m\u001b[1;33m(\u001b[0m\u001b[0marr\u001b[0m\u001b[1;33m,\u001b[0m \u001b[0mmask\u001b[0m\u001b[1;33m,\u001b[0m \u001b[0mvals\u001b[0m\u001b[1;33m)\u001b[0m\u001b[1;33m\u001b[0m\u001b[1;33m\u001b[0m\u001b[0m\n\u001b[0m\u001b[0;32m   1743\u001b[0m \u001b[1;33m\u001b[0m\u001b[0m\n\u001b[0;32m   1744\u001b[0m \u001b[1;33m\u001b[0m\u001b[0m\n",
      "\u001b[1;31mKeyboardInterrupt\u001b[0m: "
     ]
    }
   ],
   "source": [
    "frequency_list = [1,5]\n",
    "fitsx = []\n",
    "fitsy = []\n",
    "xerr = []\n",
    "yerr = []\n",
    "positionx = []\n",
    "positiony = []\n",
    "\n",
    "for j in tqdm_notebook(np.arange(5,10,.5)):\n",
    "\n",
    "    for i in tqdm_notebook(np.arange(0,1000)):\n",
    "        image = Simulate_Random_Image(separation=1,star1flux=1000,star2flux=0,star1pos=[5,j])\n",
    "        lc = Create_LightCurve(image)\n",
    "        initial_phases = Obtain_Initial_Phase(sum(sum(lightcurve)),frequency_list)\n",
    "        final_phases = Obtain_Final_Phase(sum(sum(lightcurve)),frequency_list, initial_phases)\n",
    "        #obtain 'heats'\n",
    "        heats = []\n",
    "        heats_error =[]\n",
    "        imageshape = image['imageshape']\n",
    "        #Iterating through columns of pixels\n",
    "        for i in np.arange(0,imageshape[0]):\n",
    "\n",
    "            #Iterating through rows of pixels\n",
    "            for j in np.arange(0,imageshape[1]):\n",
    "\n",
    "\n",
    "                #Making an empty 2-d array\n",
    "                mask = np.zeros((imageshape[0],imageshape[1]), dtype=bool)\n",
    "\n",
    "                #Iterating to isolate pixel by pixel to get light curves\n",
    "                mask[i][j] = True\n",
    "\n",
    "                #Getting the light curve for a pixel and excluding any flagged data\n",
    "                lc = lightcurve[mask][0]\n",
    "\n",
    "\n",
    "\n",
    "\n",
    "\n",
    "                bestfit = Obtain_Final_Fit(lc,frequency_list,final_phases)\n",
    "                heat = np.asarray([bestfit.best_values['f{0:d}amp'.format(n)] for n in np.arange(len(frequency_list))])\n",
    "                #heat = bestfit.best_values['f0amp']# / bestfit.params['f0amp'].stderr\n",
    "                heat_error =  np.asarray([bestfit.params['f{0:d}amp'.format(n)].stderr for n in np.arange(len(frequency_list))])\n",
    "\n",
    "                #Extending the list of fitting data for each pixel\n",
    "                heats.extend([heat])\n",
    "                heats_error.extend([heat_error])\n",
    "\n",
    "        #Taking the final list and turning it into a 2-d numpy array with the same dimensions of the full postage stamp      \n",
    "        #heats = np.reshape(np.asarray(heats),(len(self.aperture),len(self.aperture[0])))\n",
    "        #heats_error = np.reshape(np.asarray(heats_error),(len(self.aperture),len(self.aperture[0])))\n",
    "        heats = np.asarray(heats)\n",
    "        heats_error = np.asarray(heats_error)\n",
    "\n",
    "        #Defining self.periodogram as this 2-d array of periodogram data\n",
    "        heatmap = heats.T\n",
    "        heatmap_error = heats_error.T\n",
    "        centroidfit = centroid(image,heatmap,heatmap_error,frequency_list)\n",
    "\n",
    "        fitsx[0:0]=[centroidfit['result'].params['x'].value]\n",
    "        fitsy[0:0]=[centroidfit['result'].params['y'].value]\n",
    "        xerr[0:0]=[centroidfit['result'].params['x'].stderr]\n",
    "        yerr[0:0]=[centroidfit['result'].params['y'].stderr]\n",
    "        positionx[0:0] = [5]\n",
    "        positiony[0:0] = [j]\n",
    "\n",
    "data_frame =  pd.DataFrame({'real x':np.asarray(positionx),\n",
    "                            'real y':np.asarray(positiony),\n",
    "                            'x fit': np.asarray(fitsx),\n",
    "                            'y fit': np.asarray(fitsy),\n",
    "                            'x stderr': np.asarray(xerr),\n",
    "                            'y stderr': np.asarray(yerr)})\n",
    "    \n",
    "\n",
    "data_frame.to_csv('1000simulatedfits_1stardifferentpositions.csv')"
   ]
  },
  {
   "cell_type": "code",
   "execution_count": 65,
   "metadata": {},
   "outputs": [
    {
     "data": {
      "text/plain": [
       "0.09956294719709274"
      ]
     },
     "execution_count": 65,
     "metadata": {},
     "output_type": "execute_result"
    }
   ],
   "source": [
    "centroidfit['result'].params['x'].stderr"
   ]
  },
  {
   "cell_type": "code",
   "execution_count": 71,
   "metadata": {},
   "outputs": [],
   "source": [
    "bb = []"
   ]
  },
  {
   "cell_type": "code",
   "execution_count": 74,
   "metadata": {},
   "outputs": [],
   "source": [
    "bb[0:0] =[centroidfit['result'].params['x'].value]"
   ]
  },
  {
   "cell_type": "code",
   "execution_count": 75,
   "metadata": {},
   "outputs": [
    {
     "data": {
      "text/plain": [
       "[4.984394377502756]"
      ]
     },
     "execution_count": 75,
     "metadata": {},
     "output_type": "execute_result"
    }
   ],
   "source": [
    "bb"
   ]
  }
 ],
 "metadata": {
  "kernelspec": {
   "display_name": "Python 3",
   "language": "python",
   "name": "python3"
  },
  "language_info": {
   "codemirror_mode": {
    "name": "ipython",
    "version": 3
   },
   "file_extension": ".py",
   "mimetype": "text/x-python",
   "name": "python",
   "nbconvert_exporter": "python",
   "pygments_lexer": "ipython3",
   "version": "3.8.5"
  }
 },
 "nbformat": 4,
 "nbformat_minor": 2
}
