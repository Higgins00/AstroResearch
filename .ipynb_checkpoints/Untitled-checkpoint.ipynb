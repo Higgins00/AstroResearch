{
 "cells": [
  {
   "cell_type": "code",
   "execution_count": 6,
   "metadata": {},
   "outputs": [],
   "source": [
    "# coding: utf-8\n",
    "\n",
    "from __future__ import division, print_function\n",
    "import logging\n",
    "import warnings\n",
    "import numpy as np\n",
    "import os\n",
    "from astropy.coordinates import SkyCoord, Angle\n",
    "import astropy.units as u\n",
    "import matplotlib.pyplot as plt\n",
    "import pandas as pd\n",
    "import lightkurve as lk\n",
    "from astropy import units as u\n",
    "import lmfit as lm\n",
    "from lmfit import Minimizer, Parameters, report_fit\n",
    "import PRF\n",
    "\n",
    "\n",
    "class PixelMapFit:\n",
    "    \"\"\"Class designed to give users access to analysis functions.\n",
    "    \n",
    "    Parameters\n",
    "    ----------\n",
    "    targetpixelfile : targetpixelfile object\n",
    "    gaia : Boolean\n",
    "        True if internet access is available and user wants to display gaia information; User should enter False otherwise.\n",
    "    magnitude_limit: float\n",
    "        Lower limit of gaia magnitudes to search for.\n",
    "    frequencies: list\n",
    "        List of frequencies desired to localize the source location for.\n",
    "    frequnit: astropy.units.unit\n",
    "        Units of the frequencies in frequencies list.\n",
    "    principal_components: int\n",
    "        Number of components used in PCA for TPF lightcurve.\n",
    "    aperture: 2D Boolean array\n",
    "        If not specified user the TPF.pipeline_mask will be used, if a user specified aperture is used it must be the same shape as the TPF.\n",
    "\n",
    "    Returns\n",
    "    ----------\n",
    "    self.tpf\n",
    "        Targetpixelfile object.\n",
    "    self.aperture\n",
    "        Aperture used.\n",
    "    self.raw_lc\n",
    "        Lightcurve before PCA.\n",
    "    self.dm\n",
    "        Design matrix for PCA\n",
    "    self.corrected_lc\n",
    "        Lightcurve after PCA\n",
    "    self.frequency_list\n",
    "        List of frequencies used.\n",
    "    self.principal_components\n",
    "        Number of principal components removed.\n",
    "    self.initial_phases\n",
    "        Initial phases fit for the frequencies.\n",
    "    self.final_phases\n",
    "        Final phases fit for the frequencies.\n",
    "    self.heatmap = heats.T\n",
    "        3D array of amplitude for each frequency at every pixel in the TPF.\n",
    "    self.heatmap_error\n",
    "        3D array of amplitude erros for each frequency at every pixel in the TPF.\n",
    "    self.timeserieslength\n",
    "    self.gaiadata\n",
    "    self.location\n",
    "        Best fit source location.\n",
    "    self.heatmap\n",
    "        2D array of composite heatmap for all frequencies.\n",
    "    self.starfit\n",
    "        Gaia sources and their distances from the fitted location of the source.\n",
    "    self.result\n",
    "        Result paramters of the fit. Use report_fit(self.report) to view.\n",
    "    \n",
    "    \n",
    "    \"\"\"\n",
    "    \n",
    "    def __init__(self, targetpixelfile, gaia=True, magnitude_limit=18, \n",
    "                 frequencies=[], frequnit=u.uHz, principal_components = 5, \n",
    "                 aperture=None):\n",
    "        \n",
    "        self.tpf = targetpixelfile\n",
    "        #Defining an aperture that will be used in plotting and making empty 2-d arrays of the correct size for masks\n",
    "        self.aperture = aperture\n",
    "        if self.aperture is None:\n",
    "            self.aperture = targetpixelfile.pipeline_mask\n",
    "            if targetpixelfile.pipeline_mask.any() == False:\n",
    "                #will add a flag here if no aperture\n",
    "                self.aperture = self.tpf.create_threshold_mask()\n",
    "    \n",
    "        \n",
    "        # Make a design matrix and pass it to a linear regression corrector\n",
    "        self.raw_lc1 = self.tpf.to_lightcurve(aperture_mask=self.aperture)\n",
    "        self.quality_mask = [np.isfinite(self.raw_lc1['flux']*self.raw_lc1['flux_err'])]\n",
    "        self.dm = lk.DesignMatrix(self.tpf.flux[:,~self.tpf.pipeline_mask][np.isfinite(self.raw_lc1['flux']*self.raw_lc1['flux_err']),:][np.where(self.raw_lc1[self.quality_mask[0]].quality ==0)[0],:], name='regressors').pca(principal_components)\n",
    "        self.raw_lc = self.raw_lc1[self.quality_mask[0]]\n",
    "        self.raw_lc = self.raw_lc[np.where(self.raw_lc1[self.quality_mask[0]].quality ==0)]\n",
    "        \n",
    "        rc = lk.RegressionCorrector(self.raw_lc)\n",
    "        self.corrected_lc = rc.correct(self.dm.append_constant())\n",
    "        #self.corrected_lc = corrected_lc.remove_outliers()\n",
    "        self.frequency_list = np.asarray((frequencies*frequnit).to(1/u.d))\n",
    "        self.principal_components = principal_components\n",
    "        \n",
    "        def Obtain_Initial_Phase(tpf,corrected_lc,frequency_list):\n",
    "\n",
    "            flux = corrected_lc.flux.value\n",
    "            times = corrected_lc.time.value - np.nanmean(corrected_lc.time.value)\n",
    "            #appending a extra value here to ensure lightkurve doesn't call an error if length of frequencies =1\n",
    "            pg = corrected_lc.to_periodogram(frequency = np.append([0.0001],frequency_list),ls_method='slow')\n",
    "            initial_flux= np.asarray(pg.power[1:])\n",
    "\n",
    "            initial_phase = np.zeros(len(frequency_list))\n",
    "\n",
    "            def lc_model(time,amp,freq,phase):\n",
    "                return amp*np.sin(2*np.pi*freq*time + phase)\n",
    "\n",
    "            def background_model(time,height):\n",
    "                return np.ones(len(time))*height\n",
    "            for j in np.arange(len(frequency_list)):\n",
    "                for i in np.arange(len(frequency_list)):\n",
    "\n",
    "                    if (i == 0):\n",
    "                        model = lm.Model(lc_model,independent_vars=['time'],prefix='f{0:d}'.format(i)) \n",
    "                        model += lm.Model(background_model, independent_vars=['time'])\n",
    "                    else:\n",
    "                        model += lm.Model(lc_model,independent_vars=['time'],prefix='f{0:d}'.format(i))\n",
    "\n",
    "\n",
    "                    model.set_param_hint('f{0:d}phase'.format(i), min = -np.pi, max = np.pi ,value= initial_phase[i],vary = False)\n",
    "                    model.set_param_hint('f{0:d}amp'.format(i), value = initial_flux[i],vary=False)\n",
    "                    model.set_param_hint('height', value= np.nanmean(flux),vary=False)\n",
    "                    model.set_param_hint('f{0:d}freq'.format(i),value = frequency_list[i], vary = False)\n",
    "\n",
    "\n",
    "                params = model.make_params()\n",
    "                params['f{0:d}phase'.format(j)].set(vary=True)\n",
    "                params['f{0:d}phase'.format(j)].set(value = initial_phase[j])\n",
    "                params['f{0:d}phase'.format(j)].set(brute_step=np.pi/10)\n",
    "                result = model.fit(corrected_lc.flux.value,params,time=times,method = 'brute')\n",
    "                initial_phase[j]=result.best_values['f{0:d}phase'.format(j)]\n",
    "\n",
    "            return initial_phase\n",
    "        \n",
    "        self.initial_phases = Obtain_Initial_Phase(self.tpf,self.corrected_lc,self.frequency_list)\n",
    "        \n",
    "        def Obtain_Final_Phase(tpf,corrected_lc,frequency_list,initial_phases):\n",
    "\n",
    "            flux = corrected_lc.flux.value\n",
    "            times = corrected_lc.time.value - np.nanmean(corrected_lc.time.value)\n",
    "            pg = corrected_lc.to_periodogram(frequency = np.append([0.0001],frequency_list),ls_method='slow')\n",
    "            initial_flux= np.asarray(pg.power[1:])\n",
    "\n",
    "\n",
    "            def lc_model(time,amp,freq,phase):\n",
    "                return amp*np.sin(2*np.pi*freq*time + phase)\n",
    "\n",
    "            def background_model(time,height):\n",
    "                return np.ones(len(time))*height\n",
    "\n",
    "            for i in np.arange(len(frequency_list)):\n",
    "\n",
    "                if (i == 0):\n",
    "                    model = lm.Model(lc_model,independent_vars=['time'],prefix='f{0:d}'.format(i)) \n",
    "                    model += lm.Model(background_model, independent_vars=['time'])\n",
    "                else:\n",
    "                    model += lm.Model(lc_model,independent_vars=['time'],prefix='f{0:d}'.format(i))\n",
    "\n",
    "\n",
    "                model.set_param_hint('f{0:d}phase'.format(i), min = -np.pi, max = np.pi ,value= initial_phases[i],vary = True)\n",
    "                model.set_param_hint('f{0:d}amp'.format(i), value = initial_flux[i],vary=True)\n",
    "                model.set_param_hint('height', value= np.nanmean(flux),vary=True)\n",
    "                model.set_param_hint('f{0:d}freq'.format(i),value = frequency_list[i], vary = False)\n",
    "\n",
    "\n",
    "            params = model.make_params()\n",
    "\n",
    "            result = model.fit(corrected_lc.flux.value,params,time=times,weights=1/corrected_lc.flux_err.value)\n",
    "            \n",
    "            final_phases = [result.best_values['f{0:d}phase'.format(j)] for j in np.arange(len(frequency_list))]\n",
    "\n",
    "    \n",
    "            return final_phases\n",
    "\n",
    "        self.final_phases = Obtain_Final_Phase(self.tpf,self.corrected_lc,self.frequency_list,self.initial_phases)\n",
    "    \n",
    "        def Obtain_Final_Fit(tpf,corrected_lc,frequency_list,final_phases):\n",
    "\n",
    "            flux = corrected_lc.flux.value\n",
    "            times = corrected_lc.time.value - np.nanmean(corrected_lc.time.value)\n",
    "            pg = corrected_lc.to_periodogram(frequency = np.append([0.0001],frequency_list),ls_method='slow')\n",
    "            initial_flux= np.asarray(pg.power[1:])\n",
    "\n",
    "\n",
    "            def lc_model(time,amp,freq,phase):\n",
    "                return amp*np.sin(2*np.pi*freq*time + phase)\n",
    "\n",
    "            def background_model(time,height):\n",
    "                return np.ones(len(time))*height\n",
    "\n",
    "            for i in np.arange(len(frequency_list)):\n",
    "\n",
    "                if (i == 0):\n",
    "                    model = lm.Model(lc_model,independent_vars=['time'],prefix='f{0:d}'.format(i)) \n",
    "                    model += lm.Model(background_model, independent_vars=['time'])\n",
    "                else:\n",
    "                    model += lm.Model(lc_model,independent_vars=['time'],prefix='f{0:d}'.format(i))\n",
    "\n",
    "\n",
    "                model.set_param_hint('f{0:d}phase'.format(i), value= final_phases[i],vary = False)\n",
    "                model.set_param_hint('f{0:d}amp'.format(i), value = initial_flux[i],vary=True)\n",
    "                model.set_param_hint('height', value= np.nanmean(flux),vary=True)\n",
    "                model.set_param_hint('f{0:d}freq'.format(i),value = frequency_list[i], vary = False)\n",
    "\n",
    "\n",
    "            params = model.make_params()\n",
    "\n",
    "            result = model.fit(corrected_lc.flux.value,params,time=times,weights=1/corrected_lc.flux_err.value)\n",
    "            \n",
    "            return result\n",
    "        \n",
    "        \n",
    "        heats = []\n",
    "        heats_error =[]\n",
    "        #Iterating through columns of pixels\n",
    "        for i in np.arange(0,len(self.aperture)):\n",
    "            \n",
    "            #Iterating through rows of pixels\n",
    "            for j in np.arange(0,len(self.aperture[0])):\n",
    "                \n",
    "                \n",
    "                #Making an empty 2-d array\n",
    "                mask = np.zeros((len(self.aperture),len(self.aperture[0])), dtype=bool)\n",
    "                \n",
    "                #Iterating to isolate pixel by pixel to get light curves\n",
    "                mask[i][j] = True\n",
    "                \n",
    "                #Getting the light curve for a pixel and excluding any flagged data\n",
    "                lightcurve = self.tpf.to_lightcurve(aperture_mask=mask)\n",
    "                lightcurve = lightcurve[self.quality_mask[0]]\n",
    "                lightcurve = lightcurve[np.where(self.raw_lc1[self.quality_mask[0]].quality ==0)]\n",
    "\n",
    "\n",
    "                \n",
    "                rcc = lk.RegressionCorrector(lightcurve)\n",
    "                lc = rcc.correct(self.dm.append_constant())\n",
    "                #lc = lc.remove_outliers()\n",
    "                              \n",
    "                bestfit = Obtain_Final_Fit(self.tpf,lc,self.frequency_list,self.final_phases)\n",
    "                heat = np.asarray([bestfit.best_values['f{0:d}amp'.format(n)] for n in np.arange(len(self.frequency_list))])\n",
    "                heat_error =  np.asarray([bestfit.params['f{0:d}amp'.format(n)].stderr for n in np.arange(len(self.frequency_list))])\n",
    "                \n",
    "                #Extending the list of fitting data for each pixel\n",
    "                heats.extend([heat])\n",
    "                heats_error.extend([heat_error])\n",
    "                    \n",
    "        heats = np.asarray(heats)\n",
    "        heats_error = np.asarray(heats_error)\n",
    "        self.heats = heats.T\n",
    "        self.heats_error = heats_error.T\n",
    "        self.timeserieslength = (self.tpf.time.max()-self.tpf.time.min()).value\n",
    "        self.gaiadata = None\n",
    "        \n",
    "        if (gaia == True):\n",
    "            \"\"\"Make the Gaia Figure Elements\"\"\"\n",
    "            # Get the positions of the Gaia sources\n",
    "            c1 = SkyCoord(self.tpf.ra, self.tpf.dec, frame='icrs', unit='deg')\n",
    "            # Use pixel scale for query size\n",
    "            pix_scale = 4.0  # arcseconds / pixel for Kepler, default\n",
    "            if self.tpf.mission == 'TESS':\n",
    "                pix_scale = 21.0\n",
    "            # We are querying with a diameter as the radius, overfilling by 2x.\n",
    "            from astroquery.vizier import Vizier\n",
    "            Vizier.ROW_LIMIT = -1\n",
    "            result = Vizier.query_region(c1, catalog=[\"I/345/gaia2\"],radius=Angle(np.max(self.tpf.shape[1:]) * pix_scale, \"arcsec\"))\n",
    "\n",
    "            no_targets_found_message = ValueError('Either no sources were found in the query region '\n",
    "                                                      'or Vizier is unavailable')\n",
    "            too_few_found_message = ValueError('No sources found brighter than {:0.1f}'.format(magnitude_limit))\n",
    "            if result is None:\n",
    "                raise no_targets_found_message\n",
    "            elif len(result) == 0:\n",
    "                raise too_few_found_message\n",
    "            result = result[\"I/345/gaia2\"].to_pandas()\n",
    "\n",
    "            result = result[result.Gmag < magnitude_limit]\n",
    "            if len(result) == 0:\n",
    "                raise no_targets_found_message\n",
    "\n",
    "            year = ((self.tpf.time[0].jd - 2457206.375) * u.day).to(u.year)\n",
    "            pmra = ((np.nan_to_num(np.asarray(result.pmRA)) * u.milliarcsecond/u.year) * year).to(u.deg).value\n",
    "            pmdec = ((np.nan_to_num(np.asarray(result.pmDE)) * u.milliarcsecond/u.year) * year).to(u.deg).value\n",
    "            result.RA_ICRS += pmra\n",
    "            result.DE_ICRS += pmdec\n",
    "            radecs = np.vstack([result['RA_ICRS'], result['DE_ICRS']]).T\n",
    "            coords = self.tpf.wcs.all_world2pix(radecs, 0) \n",
    "\n",
    "\n",
    "\n",
    "            # Size the points by their Gaia magnitude\n",
    "            sizes = 64.0 / 2**(result['Gmag']/5.0)\n",
    "            one_over_parallax = 1.0 / (result['Plx']/1000.)\n",
    "            source = dict(ra=result['RA_ICRS'],\n",
    "                          dec=result['DE_ICRS'],\n",
    "                          source=result['Source'].astype(str),\n",
    "                          Gmag=result['Gmag'],\n",
    "                          plx=result['Plx'],\n",
    "                          one_over_plx=one_over_parallax,\n",
    "                          x=coords[:, 0],\n",
    "                          y=coords[:, 1],\n",
    "                          size=sizes)\n",
    "\n",
    "\n",
    "            self.gaiadata = source\n",
    "        class frequency_heatmap:\n",
    "\n",
    "            def __init__(self,tpf,heats,heats_error,frequencies,gaia_data):\n",
    "                self.heat_stamp = heats\n",
    "                self.gaiadata=gaia_data\n",
    "                self.heatmap_error = heats_error\n",
    "                self.size = tpf.pipeline_mask.shape\n",
    "                self.frequencies= frequencies\n",
    "                self.tpf = tpf\n",
    "            def location(self):\n",
    "                \n",
    "                #Residuals to minimize relative to the error bars\n",
    "                def residual(params, amp, amperr):\n",
    "\n",
    "                    x = params['x']\n",
    "                    y = params['y']\n",
    "                    sigma = params['sigma']\n",
    "                    \n",
    "                    #prf = PRF.TESS_PRF(cam = self.tpf.camera, ccd = self.tpf.ccd,\n",
    "                                           #sector = self.tpf.sector, colnum = self.tpf.column,\n",
    "                                           #rownum = self.tpf.row, localdatadir=None)\n",
    "\n",
    "                    prf = PRF.Gaussian_PRF(sigma)\n",
    "                    res = []\n",
    "                    for i in np.arange(len(frequencies)):\n",
    "                        height = params['height{0:d}'.format(i)]\n",
    "                        \n",
    "                        model = height*prf.locate(x+.5, y+.5, (self.size[0],self.size[1]))\n",
    "\n",
    "                        res.extend( [(amp[i].reshape(self.size)-model) / amperr[i].reshape(self.size)])\n",
    "\n",
    "\n",
    "                    return np.asarray(res)\n",
    "\n",
    "                #Set starting values to converge from\n",
    "                self.heatmap_error[np.where(self.heatmap_error==None)]=np.nan\n",
    "                self.heatmap_error[np.where(self.heatmap_error==0)]=np.nan\n",
    "                \n",
    "                #reshaping composite heatmap for user to plot\n",
    "                composite_heatmap = self.heat_stamp.sum(axis=0).reshape(self.size) / ((np.nansum(self.heatmap_error**2,axis=0))**(1/2)).reshape(self.size)#issue with numpy using sqrt?\n",
    "                c = np.where(composite_heatmap==composite_heatmap.max())\n",
    "\n",
    "\n",
    "                params = Parameters()\n",
    "                for i in np.arange(len(frequencies)):#\n",
    "                    params.add('height{0:d}'.format(i), value=np.max(self.heat_stamp[i]))\n",
    "                params.add('x', value=c[1][0])#c[0]) \n",
    "                params.add('y', value=c[0][0])#c[1])\n",
    "                params.add('sigma', value=1)\n",
    "                \n",
    "                \n",
    "                #Do the fit\n",
    "                minner = Minimizer(residual, params, fcn_args=(self.heat_stamp, self.heatmap_error))\n",
    "                self.result = minner.minimize()\n",
    "                fit = self.result.params.valuesdict()\n",
    "                self.x = fit['x']\n",
    "                self.y = fit['y']\n",
    "\n",
    "                \n",
    "            def star_list(self):\n",
    "                gaia_data = self.gaiadata\n",
    "                no_gaia_data_message = ValueError('No gaia data initialized in PixelMapPeriodogram class')\n",
    "                if gaia_data ==None :\n",
    "                    starlist = None\n",
    "\n",
    "                else:\n",
    "                    distances = np.square(self.x-gaia_data['x'])+np.square(self.y-gaia_data['y'])\n",
    "                    closest_star_mask = np.where(np.square(self.x-gaia_data['x'])+np.square(self.y-gaia_data['y'])==(np.square(self.x-gaia_data['x'])+np.square(self.y-gaia_data['y'])).min())\n",
    "                    stars = dict(ra = np.asarray(gaia_data['ra']),\n",
    "                                 dec = np.asarray(gaia_data['dec']),\n",
    "                                 source = np.asarray(gaia_data['source']),\n",
    "                                 x = np.asarray(gaia_data['x']),\n",
    "                                 y = np.asarray(gaia_data['y']),\n",
    "                                 distance = distances)\n",
    "                                 #include a probability metric here eventually \n",
    "                        \n",
    "                    starlist = pd.DataFrame.from_dict(stars)\n",
    "                    self.stars = starlist.sort_values(by=[r'distance'])\n",
    "                    \n",
    "        fh = frequency_heatmap(self.tpf,self.heats,self.heats_error,self.frequency_list,self.gaiadata) \n",
    "        fh.location()\n",
    "        self.location = [fh.x,fh.y]\n",
    "        self.heatmap = self.heats.sum(axis=0).reshape(self.aperture.shape[0],self.aperture.shape[1]) / np.sqrt((self.heats_error**2).sum(axis=0)).reshape(self.aperture.shape[0],self.aperture.shape[1])\n",
    "        self.result = fh.result\n",
    "        if (self.gaiadata !=None):\n",
    "            fh.star_list()\n",
    "            self.starfit= fh.stars.reset_index()\n",
    "\n",
    "    \n",
    "    def info(self):\n",
    "        plt.imshow(self.heatmap,origin='lower')\n",
    "        #plot the location\n",
    "        if (self.gaiadata != None):\n",
    "            plt.scatter(self.gaiadata['x'],self.gaiadata['y'],s=self.gaiadata['size']*5,c='white',alpha=.6)\n",
    "            plt.scatter(self.location[0],self.location[1],marker='X',c='black',s=70)\n",
    "            print(self.starfit)\n",
    "        plt.xlim(-.5,self.aperture.shape[1]-1+.5)\n",
    "        plt.ylim(-.5,self.aperture.shape[0]-1+.5)\n",
    "        report_fit(self.result)\n",
    "        if (np.asarray([self.result.params['height{0:d}'.format(j)].stderr for j in np.arange(len(self.frequency_list))]) / np.asarray([self.result.params['height{0:d}'.format(j)].value for j in np.arange(len(self.frequency_list))])>.2).any():\n",
    "            warnings.warn('Frequencies used may not all belong to the same source and provided fit could be unreliable')\n",
    "    \n",
    "    def pca(self):\n",
    "        plt.figure(figsize=(12,5))\n",
    "        plt.plot(self.tpf.time.value[self.quality_mask[0]][np.where(self.raw_lc1[self.quality_mask[0]].quality ==0)], self.dm.values + np.arange(self.principal_components)*0.2)\n",
    "        plt.title('Principal Components Contributions')\n",
    "        plt.xlabel('Offset')\n",
    "        g2 = self.raw_lc.plot(label='Raw light curve')\n",
    "        self.corrected_lc.plot(ax=g2, label='Corrected light curve')\n",
    "\n",
    "        plt.show()\n",
    "\n",
    "    def plot(self,save = None,figuresize = (10,10)):\n",
    "        plt.figure(figsize = (figuresize))\n",
    "        plt.imshow(self.heatmap,origin='lower')\n",
    "        \n",
    "        if (self.gaiadata != None):\n",
    "            plt.scatter(self.gaiadata['x'],self.gaiadata['y'],s=self.gaiadata['size']*5,c='white',alpha=.6)\n",
    "            plt.scatter(self.location[0],self.location[1],marker='X',c ='black',s=70)\n",
    "            \n",
    "        plt.xlim(-.5,self.aperture.shape[1]-1+.5)\n",
    "        plt.ylim(-.5,self.aperture.shape[0]-1+.5)\n",
    "        if save != None:\n",
    "            plt.savefig(save)\n"
   ]
  },
  {
   "cell_type": "code",
   "execution_count": 118,
   "metadata": {},
   "outputs": [],
   "source": [
    "low_frequency_list = [9.51112996, 19.02225993, 28.53338989, 38.04451986, 47.55564982, 57.06677979, 66.57790975, 76.08903972]"
   ]
  },
  {
   "cell_type": "code",
   "execution_count": 103,
   "metadata": {},
   "outputs": [],
   "source": [
    "high_frequency_list = [500.559, 506.057, 642.255, 740.266, 884.017, 889.556, 957.817, 963.28, 969.013, 1028.729, 1034.356, 1107.713, 1212.297, 1217.872, 1223.429]"
   ]
  },
  {
   "cell_type": "code",
   "execution_count": 292,
   "metadata": {},
   "outputs": [
    {
     "name": "stderr",
     "output_type": "stream",
     "text": [
      "C:\\Users\\higgi\\anaconda3\\lib\\site-packages\\lightkurve\\search.py:346: LightkurveWarning: Warning: 2 files available to download. Only the first file has been downloaded. Please use `download_all()` or specify additional criteria (e.g. quarter, campaign, or sector) to limit your search.\n",
      "  warnings.warn(\n"
     ]
    }
   ],
   "source": [
    "search_result = lk.search_targetpixelfile('TIC148920245',sector = 7)\n",
    "tpf = search_result.download(quality_bitmask='default')"
   ]
  },
  {
   "cell_type": "code",
   "execution_count": 170,
   "metadata": {},
   "outputs": [],
   "source": [
    "freq= [10.70972971, 21.41945943, 42.83891886, 64.25837829, 32.12918914,\n",
    "       53.54864857, 85.67783772, 74.968108  , 96.38756743]"
   ]
  },
  {
   "cell_type": "code",
   "execution_count": 171,
   "metadata": {},
   "outputs": [],
   "source": [
    "low = PixelMapFit(targetpixelfile=tpf, gaia=True,aperture = None, magnitude_limit=18, frequencies=freq, frequnit=1/u.d, principal_components = 3)"
   ]
  },
  {
   "cell_type": "code",
   "execution_count": 172,
   "metadata": {
    "scrolled": false
   },
   "outputs": [
    {
     "name": "stdout",
     "output_type": "stream",
     "text": [
      "    index         ra        dec               source          x          y  \\\n",
      "0      10  18.412885  22.960840  2791084432881749760   5.697885   5.556744   \n",
      "1       9  18.428198  22.974138  2791084467241556224   8.800596   6.701974   \n",
      "2       5  18.437924  22.960767  2791081512304056960   9.304211   3.993822   \n",
      "3       8  18.385332  22.949053  2791084089284366592   0.931172   5.408669   \n",
      "4       1  18.418651  22.925996  2791080996907982464   4.185759  -0.287305   \n",
      "5       0  18.417050  22.922579  2791080996907915648   3.725143  -0.726082   \n",
      "6       2  18.465941  22.937930  2791081168706714496  11.810379  -1.337895   \n",
      "7      12  18.418501  23.014955  2791084875263361920  10.147563  13.729864   \n",
      "8       4  18.460636  22.923427  2791081134346936192  10.070143  -3.293327   \n",
      "9      13  18.400348  23.017936  2791084909623101696   7.731242  15.323765   \n",
      "10      7  18.363111  22.923002  2791083883125938176  -4.027106   2.685340   \n",
      "11      6  18.475144  22.976332  2791081581023533440  15.718616   4.140141   \n",
      "12      3  18.473137  22.932722  2791081164411583872  12.498549  -2.603754   \n",
      "13     11  18.421861  23.023076  2791084943982842112  11.178098  14.800533   \n",
      "\n",
      "      distance  \n",
      "0     0.000775  \n",
      "1    11.077969  \n",
      "2    15.667763  \n",
      "3    22.499059  \n",
      "4    36.477247  \n",
      "5    43.388137  \n",
      "6    85.354128  \n",
      "7    86.670044  \n",
      "8    97.844051  \n",
      "9    99.442419  \n",
      "10  102.371832  \n",
      "11  102.972258  \n",
      "12  113.359148  \n",
      "13  115.583334  \n",
      "[[Fit Statistics]]\n",
      "    # fitting method   = leastsq\n",
      "    # function evals   = 74\n",
      "    # data points      = 1089\n",
      "    # variables        = 11\n",
      "    chi-square         = 1150.72122\n",
      "    reduced chi-square = 1.06745939\n",
      "    Akaike info crit   = 82.0355323\n",
      "    Bayesian info crit = 136.958699\n",
      "[[Variables]]\n",
      "    height0:  4.16633487 +/- 0.05377695 (1.29%) (init = 0.9834818)\n",
      "    height1:  1.78115185 +/- 0.05324788 (2.99%) (init = 0.4168654)\n",
      "    height2:  1.67205563 +/- 0.05323210 (3.18%) (init = 0.4167716)\n",
      "    height3:  1.30500086 +/- 0.05324493 (4.08%) (init = 0.3153147)\n",
      "    height4:  0.83359374 +/- 0.05319896 (6.38%) (init = 0.1780306)\n",
      "    height5:  0.82771469 +/- 0.05320756 (6.43%) (init = 0.1969951)\n",
      "    height6:  0.74868631 +/- 0.05319968 (7.11%) (init = 0.158362)\n",
      "    height7:  0.50338173 +/- 0.05317879 (10.56%) (init = 0.121936)\n",
      "    height8:  0.42312875 +/- 0.05317037 (12.57%) (init = 0.1510697)\n",
      "    x:        5.67185821 +/- 0.00808566 (0.14%) (init = 6)\n",
      "    y:        5.56664682 +/- 0.00770504 (0.14%) (init = 6)\n",
      "[[Correlations]] (unreported correlations are < 0.100)\n",
      "    C(height0, x) = -0.136\n"
     ]
    },
    {
     "data": {
      "image/png": "[encoded data removed]",
      "text/plain": [
       "<Figure size 432x288 with 1 Axes>"
      ]
     },
     "metadata": {
      "needs_background": "light"
     },
     "output_type": "display_data"
    }
   ],
   "source": [
    "low.info()"
   ]
  },
  {
   "cell_type": "markdown",
   "metadata": {},
   "source": [
    "Possible Problem:\n",
    "\n",
    "We are minimizing the entire frquency space heatmaps at the same time,\n",
    "\n",
    "Should we possibly minimize individually and then sum avg the x,y and compute the total errors from those fits. \n",
    "Only idea I can come up with something that can cause the errors to be underestimated."
   ]
  },
  {
   "cell_type": "code",
   "execution_count": 182,
   "metadata": {},
   "outputs": [
    {
     "data": {
      "text/plain": [
       "<matplotlib.image.AxesImage at 0x242fc88e640>"
      ]
     },
     "execution_count": 182,
     "metadata": {},
     "output_type": "execute_result"
    },
    {
     "data": {
      "image/png": "[encoded data removed]",
      "text/plain": [
       "<Figure size 432x288 with 1 Axes>"
      ]
     },
     "metadata": {
      "needs_background": "light"
     },
     "output_type": "display_data"
    }
   ],
   "source": [
    "m=8\n",
    "plt.imshow(low.heats[m].reshape(11,11)/low.heats_error[m].reshape(11,11),origin='lower')"
   ]
  },
  {
   "cell_type": "code",
   "execution_count": 180,
   "metadata": {},
   "outputs": [
    {
     "data": {
      "text/plain": [
       "<matplotlib.image.AxesImage at 0x242800917c0>"
      ]
     },
     "execution_count": 180,
     "metadata": {},
     "output_type": "execute_result"
    },
    {
     "data": {
      "image/png": "[encoded data removed]",
      "text/plain": [
       "<Figure size 432x288 with 1 Axes>"
      ]
     },
     "metadata": {
      "needs_background": "light"
     },
     "output_type": "display_data"
    }
   ],
   "source": [
    "plt.imshow(model,origin='lower')"
   ]
  },
  {
   "cell_type": "code",
   "execution_count": 168,
   "metadata": {},
   "outputs": [],
   "source": [
    "prf = PRF.TESS_PRF(cam = tpf.camera, ccd = tpf.ccd,\n",
    "                   sector = tpf.sector, colnum = tpf.column,\n",
    "                   rownum = tpf.row, localdatadir=None)\n",
    "\n",
    "\n",
    "\n",
    "model = prf.locate(5.697885 +.5, 5.556744+.5, (11,11))\n"
   ]
  },
  {
   "cell_type": "code",
   "execution_count": 55,
   "metadata": {},
   "outputs": [
    {
     "data": {
      "text/plain": [
       "<matplotlib.image.AxesImage at 0x242fc5b6160>"
      ]
     },
     "execution_count": 55,
     "metadata": {},
     "output_type": "execute_result"
    },
    {
     "data": {
      "image/png": "[encoded data removed]",
      "text/plain": [
       "<Figure size 432x288 with 1 Axes>"
      ]
     },
     "metadata": {
      "needs_background": "light"
     },
     "output_type": "display_data"
    }
   ],
   "source": [
    "plt.imshow((low.heats[m].reshape(11,11)-28.0429020*model)/low.heats_error[m].reshape(11,11),origin='lower')"
   ]
  },
  {
   "cell_type": "code",
   "execution_count": 63,
   "metadata": {},
   "outputs": [
    {
     "data": {
      "text/plain": [
       "16.699690816281308"
      ]
     },
     "execution_count": 63,
     "metadata": {},
     "output_type": "execute_result"
    }
   ],
   "source": [
    "np.sum(((low.heats[m].reshape(11,11)-28.0429020*model)**2/low.heats_error[m].reshape(11,11)))"
   ]
  },
  {
   "cell_type": "markdown",
   "metadata": {},
   "source": [
    "### Prior to change"
   ]
  },
  {
   "cell_type": "code",
   "execution_count": 168,
   "metadata": {},
   "outputs": [
    {
     "data": {
      "text/plain": [
       "<AxesSubplot:xlabel='Frequency [$\\\\mathrm{\\\\frac{1}{d}}$]', ylabel='Power [$\\\\mathrm{\\\\frac{e^{-}}{s}}$]'>"
      ]
     },
     "execution_count": 168,
     "metadata": {},
     "output_type": "execute_result"
    },
    {
     "data": {
      "image/png": "[encoded data removed]",
      "text/plain": [
       "<Figure size 848.5x400 with 1 Axes>"
      ]
     },
     "metadata": {},
     "output_type": "display_data"
    }
   ],
   "source": [
    "low.corrected_lc.to_periodogram().plot()"
   ]
  },
  {
   "cell_type": "markdown",
   "metadata": {},
   "source": [
    "### After changes"
   ]
  },
  {
   "cell_type": "code",
   "execution_count": 42,
   "metadata": {},
   "outputs": [],
   "source": [
    "low = PixelMapFit(targetpixelfile=tpf, gaia=True, magnitude_limit=18, frequencies=low_frequency_list, frequnit=u.uHz, principal_components = 3)"
   ]
  },
  {
   "cell_type": "code",
   "execution_count": 238,
   "metadata": {},
   "outputs": [
    {
     "name": "stdout",
     "output_type": "stream",
     "text": [
      "    index          ra        dec               source          x          y  \\\n",
      "0      42  212.800230 -30.848189  6172785310584309504   9.775373   0.778345   \n",
      "1      33  212.802308 -30.858810  6172784554670062208   8.813509   2.352230   \n",
      "2      41  212.791494 -30.855641  6172785276224569088  10.495722   2.432853   \n",
      "3      47  212.803368 -30.836353  6172785409367114240  10.100636  -1.270184   \n",
      "4      45  212.812929 -30.835058  6172785413663528320   8.874381  -1.991838   \n",
      "5      32  212.819395 -30.862101  6172784481654140672   6.264947   1.952922   \n",
      "6      44  212.808352 -30.828382  6172785413663530368   9.926757  -2.804657   \n",
      "7      46  212.801798 -30.825365  6172785409367130240  11.016515  -2.929833   \n",
      "8      34  212.830188 -30.837025  6172784692109020288   6.385988  -2.610604   \n",
      "9      43  212.777028 -30.841254  6172785344944050944  13.393749   0.929962   \n",
      "10     35  212.833575 -30.841039  6172784619093124864   5.666476  -2.155972   \n",
      "11     40  212.772485 -30.837920  6172785344944052864  14.228293   0.646011   \n",
      "12     39  212.770035 -30.864280  6172784898267445760  12.881206   4.962740   \n",
      "13     52  212.838290 -30.830901  6172790567624283648   5.667067  -4.020100   \n",
      "14     27  212.817346 -30.884393  6172784245432412544   5.124082   5.602729   \n",
      "15     31  212.848371 -30.851666  6172784417231108864   2.963591  -1.266574   \n",
      "16     26  212.771286 -30.877384  6172784103696998528  11.873723   6.975409   \n",
      "17     25  212.786890 -30.887851  6172784073633720832   9.070824   7.794714   \n",
      "18     28  212.838118 -30.882265  6172784211072674048   2.417227   4.144781   \n",
      "19     50  212.854857 -30.840360  6172790292746372608   2.795964  -3.411357   \n",
      "20     37  212.754585 -30.856127  6172784966986925312  15.515994   4.503163   \n",
      "21     29  212.829119 -30.888798  6172784211072673152   3.232287   5.667167   \n",
      "22     49  212.856915 -30.845446  6172790292746370944   2.190196  -2.714677   \n",
      "23     30  212.857948 -30.857798  6172784344215194112   1.261950  -0.809067   \n",
      "24     51  212.864456 -30.854092  6172790219730457984   0.607120  -1.748353   \n",
      "25     38  212.749623 -30.871528  6172784928330727424  15.211556   7.215889   \n",
      "26     36  212.745993 -30.873784  6172784825251508352  15.564118   7.770076   \n",
      "27     24  212.784666 -30.904126  6172784034977490944   8.336574  10.498466   \n",
      "28     48  212.871711 -30.856064  6172790224026891904  -0.511818  -1.826025   \n",
      "29     21  212.766292 -30.897657  6172784004914243328  11.262970  10.463214   \n",
      "30     17  212.823768 -30.905962  6172783794459321088   2.870315   8.680805   \n",
      "31     11  212.841109 -30.900680  6124745792140958720   0.834459   6.907464   \n",
      "32     12  212.855807 -30.891510  6124745895220174592  -0.592604   4.659492   \n",
      "33     10  212.829362 -30.906543  6124745753485795456   2.067879   8.471562   \n",
      "34     19  212.816345 -30.909616  6172783794459316096   3.652790   9.661221   \n",
      "35      9  212.846431 -30.900472  6124745787845536256   0.119401   6.587708   \n",
      "36     20  212.763635 -30.904434  6172784004914242560  11.193808  11.682344   \n",
      "37      1  212.825544 -30.914586  6124745379824096896   2.077509   9.954405   \n",
      "38     23  212.766456 -30.909147  6172783931898270336  10.507084  12.278265   \n",
      "39     13  212.880542 -30.874921  6124745925284502400  -2.921452   0.692686   \n",
      "40     22  212.752942 -30.906412  6172783970554503808  12.530141  12.573655   \n",
      "41     18  212.796735 -30.922035  6172783764396068096   5.543281  12.690391   \n",
      "42     14  212.883720 -30.876303  6124751736375698432  -3.444422   0.741038   \n",
      "43      2  212.814153 -30.927486  6124745345464357120   2.813260  12.616653   \n",
      "44     16  212.800005 -30.929225  6172783661316850816   4.637445  13.655501   \n",
      "45     15  212.797283 -30.931543  6172783657020339072   4.861776  14.170348   \n",
      "46      4  212.867307 -30.912581  6124745719126053376  -3.508306   7.385807   \n",
      "47      5  212.870596 -30.916574  6124745512967620864  -4.212667   7.842793   \n",
      "48      8  212.876985 -30.911895  6124745616046838912  -4.788836   6.755731   \n",
      "49      3  212.835926 -30.933921  6124745306809180928  -0.574929  12.464710   \n",
      "50      6  212.862635 -30.928401  6124745478607876096  -3.876751  10.149624   \n",
      "51      7  212.875376 -30.920734  6124745517263048448  -5.131466   8.246047   \n",
      "52      0  212.844531 -30.937572  6124745100650238848  -1.984625  12.580853   \n",
      "\n",
      "      distance  \n",
      "0     0.601888  \n",
      "1     2.595659  \n",
      "2     5.062579  \n",
      "3     5.300431  \n",
      "4     7.544185  \n",
      "5     8.922875  \n",
      "6    13.508358  \n",
      "7    17.621868  \n",
      "8    18.139905  \n",
      "9    19.336647  \n",
      "10   19.568473  \n",
      "11   27.346198  \n",
      "12   32.794414  \n",
      "13   33.881002  \n",
      "14   38.552808  \n",
      "15   40.512790  \n",
      "16   46.989614  \n",
      "17   49.605470  \n",
      "18   54.844268  \n",
      "19   55.823333  \n",
      "20   56.529646  \n",
      "21   57.425903  \n",
      "22   58.391072  \n",
      "23   62.314327  \n",
      "24   76.692104  \n",
      "25   80.365784  \n",
      "26   92.341567  \n",
      "27   95.434606  \n",
      "28   97.120807  \n",
      "29   99.429552  \n",
      "30  100.439789  \n",
      "31  104.566464  \n",
      "32  107.287039  \n",
      "33  107.646733  \n",
      "34  107.967750  \n",
      "35  112.921187  \n",
      "36  124.286158  \n",
      "37  132.606056  \n",
      "38  135.127089  \n",
      "39  142.124706  \n",
      "40  152.214428  \n",
      "41  154.475212  \n",
      "42  154.863940  \n",
      "43  179.046891  \n",
      "44  185.533444  \n",
      "45  197.178221  \n",
      "46  200.465909  \n",
      "47  224.854751  \n",
      "48  226.177534  \n",
      "49  228.868050  \n",
      "50  254.127083  \n",
      "51  255.859959  \n",
      "52  260.584969  \n",
      "[[Fit Statistics]]\n",
      "    # fitting method   = leastsq\n",
      "    # function evals   = 102\n",
      "    # data points      = 363\n",
      "    # variables        = 5\n",
      "    chi-square         = 315.489405\n",
      "    reduced chi-square = 0.88125532\n",
      "    Akaike info crit   = -40.9208171\n",
      "    Bayesian info crit = -21.4488030\n",
      "[[Variables]]\n",
      "    height0:  20.8909227 +/- 10.6405332 (50.93%) (init = 11.16585)\n",
      "    height1: -28.4043207 +/- 11.4574139 (40.34%) (init = 28.23759)\n",
      "    height2:  69.0657567 +/- 18.1795790 (26.32%) (init = 75.02052)\n",
      "    x:        9.00000748 +/- 0.12389869 (1.38%) (init = 10)\n",
      "    y:        0.75195527 +/- 0.12879746 (17.13%) (init = 1)\n",
      "[[Correlations]] (unreported correlations are < 0.100)\n",
      "    C(height2, x)       = -0.851\n",
      "    C(height1, x)       =  0.555\n",
      "    C(height1, height2) = -0.473\n",
      "    C(height0, x)       = -0.440\n",
      "    C(height0, height2) =  0.375\n",
      "    C(x, y)             = -0.327\n",
      "    C(height2, y)       =  0.264\n",
      "    C(height0, height1) = -0.244\n",
      "    C(height1, y)       = -0.172\n",
      "    C(height0, y)       =  0.136\n"
     ]
    },
    {
     "data": {
      "image/png": "[encoded data removed]",
      "text/plain": [
       "<Figure size 432x288 with 1 Axes>"
      ]
     },
     "metadata": {
      "needs_background": "light"
     },
     "output_type": "display_data"
    }
   ],
   "source": [
    "low.info()"
   ]
  },
  {
   "cell_type": "code",
   "execution_count": 39,
   "metadata": {},
   "outputs": [
    {
     "data": {
      "text/plain": [
       "<PRF.prf.TESS_PRF at 0x156a9cd9ac0>"
      ]
     },
     "execution_count": 39,
     "metadata": {},
     "output_type": "execute_result"
    }
   ],
   "source": [
    "\n",
    "\n",
    "PRF.TESS_PRF(cam = tpf.camera, ccd = tpf.ccd, \n",
    "             sector = tpf.sector, colnum = tpf.column,\n",
    "             rownum = tpf.row, localdatadir=None)"
   ]
  },
  {
   "cell_type": "code",
   "execution_count": 86,
   "metadata": {},
   "outputs": [],
   "source": [
    "import TESS_Localize as tl\n",
    "def xyinfo(tpf, freqlist, frequnit=u.uHz):\n",
    "    \n",
    "    fitinfo = tl.PixelMapFit(targetpixelfile=tpf, gaia=False, frequencies=freqlist, frequnit=frequnit, principal_components = 3)\n",
    "\n",
    "    header = tpf.get_header()\n",
    "    year = ((tpf.time[0].jd - 2457206.375) * u.day).to(u.year)\n",
    "    pmra = ((np.nan_to_num(header['PMRA']) * u.milliarcsecond/u.year) * year).to(u.deg).value\n",
    "    pmdec = ((np.nan_to_num(header['PMDEC']) * u.milliarcsecond/u.year) * year).to(u.deg).value    \n",
    "    radecs = np.vstack([tpf.ra+pmra, tpf.dec+pmdec]).T\n",
    "    coords = tpf.wcs.all_world2pix(radecs, 0) \n",
    "    \n",
    "    info = dict(source_location = coords[0], x_fit = fitinfo.result.params['x'].value, \n",
    "                y_fit = fitinfo.result.params['y'].value,\n",
    "                x_err = fitinfo.result.params['x'].stderr, \n",
    "                y_err = fitinfo.result.params['y'].stderr)\n",
    "    \n",
    "    return info"
   ]
  },
  {
   "cell_type": "code",
   "execution_count": 87,
   "metadata": {},
   "outputs": [
    {
     "data": {
      "text/plain": [
       "{'source_location': array([5.36932129, 5.39560926]),\n",
       " 'x_fit': 5.8128248613571625,\n",
       " 'y_fit': 2.9687767145398753,\n",
       " 'x_err': 0.021887141629796717,\n",
       " 'y_err': 0.027544391535951215}"
      ]
     },
     "execution_count": 87,
     "metadata": {},
     "output_type": "execute_result"
    }
   ],
   "source": [
    "xyinfo(tpf, low_frequency_list)"
   ]
  },
  {
   "cell_type": "code",
   "execution_count": 13,
   "metadata": {},
   "outputs": [
    {
     "data": {
      "text/latex": [
       "$319^\\circ17{}^\\prime04.2263{}^{\\prime\\prime}$"
      ],
      "text/plain": [
       "<Longitude 319.28450731 deg>"
      ]
     },
     "execution_count": 13,
     "metadata": {},
     "output_type": "execute_result"
    }
   ],
   "source": [
    "c1.ra"
   ]
  },
  {
   "cell_type": "code",
   "execution_count": 140,
   "metadata": {},
   "outputs": [],
   "source": [
    "radecs = np.vstack([tpf.ra+pmra, tpf.dec+pmdec]).T\n",
    "coords = tpf.wcs.all_world2pix(radecs, 0) "
   ]
  },
  {
   "cell_type": "code",
   "execution_count": 142,
   "metadata": {},
   "outputs": [
    {
     "data": {
      "text/plain": [
       "array([4.96702483, 5.01811699])"
      ]
     },
     "execution_count": 142,
     "metadata": {},
     "output_type": "execute_result"
    }
   ],
   "source": [
    "coords[0]"
   ]
  },
  {
   "cell_type": "code",
   "execution_count": 43,
   "metadata": {},
   "outputs": [
    {
     "data": {
      "text/plain": [
       "array([[5.36932129, 5.39560926]])"
      ]
     },
     "execution_count": 43,
     "metadata": {},
     "output_type": "execute_result"
    }
   ],
   "source": [
    "coords"
   ]
  },
  {
   "cell_type": "code",
   "execution_count": 21,
   "metadata": {},
   "outputs": [
    {
     "data": {
      "text/plain": [
       "<matplotlib.collections.PathCollection at 0x1d6a44ce940>"
      ]
     },
     "execution_count": 21,
     "metadata": {},
     "output_type": "execute_result"
    },
    {
     "data": {
      "image/png": "[encoded data removed]",
      "text/plain": [
       "<Figure size 432x288 with 1 Axes>"
      ]
     },
     "metadata": {
      "needs_background": "light"
     },
     "output_type": "display_data"
    }
   ],
   "source": [
    "plt.imshow(tpf.flux[0],origin ='lower')\n",
    "plt.scatter(coords[0][1],coords[0][1])"
   ]
  },
  {
   "cell_type": "code",
   "execution_count": 139,
   "metadata": {},
   "outputs": [],
   "source": [
    "header = tpf.get_header()\n",
    "year = ((tpf.time[0].jd - 2457206.375) * u.day).to(u.year)\n",
    "pmra = ((np.nan_to_num(header['PMRA']) * u.milliarcsecond/u.year) * year).to(u.deg).value\n",
    "pmdec = ((np.nan_to_num(header['PMDEC']) * u.milliarcsecond/u.year) * year).to(u.deg).value"
   ]
  },
  {
   "cell_type": "code",
   "execution_count": 34,
   "metadata": {},
   "outputs": [],
   "source": [
    "header = tpf.get_header()"
   ]
  },
  {
   "cell_type": "code",
   "execution_count": 222,
   "metadata": {},
   "outputs": [],
   "source": [
    "raw_lc = tpf.to_lightcurve(aperture_mask=tpf.pipeline_mask)"
   ]
  },
  {
   "cell_type": "code",
   "execution_count": 76,
   "metadata": {},
   "outputs": [
    {
     "data": {
      "text/plain": [
       "<AxesSubplot:xlabel='Time - 2457000 [BTJD days]', ylabel='Flux [$\\\\mathrm{e^{-}\\\\,s^{-1}}$]'>"
      ]
     },
     "execution_count": 76,
     "metadata": {},
     "output_type": "execute_result"
    },
    {
     "data": {
      "image/png": "[encoded data removed]",
      "text/plain": [
       "<Figure size 848.5x400 with 1 Axes>"
      ]
     },
     "metadata": {},
     "output_type": "display_data"
    }
   ],
   "source": [
    "raw_lc.plot()"
   ]
  },
  {
   "cell_type": "code",
   "execution_count": 86,
   "metadata": {},
   "outputs": [
    {
     "data": {
      "text/latex": [
       "$[[-2.7751369,~1.1054556,~2.9942677,~\\dots,~0.63433409,~-0.21802087,~0.1152167],~\n",
       " [-2.4212976,~0.084832706,~2.9575644,~\\dots,~-2.2359109,~-0.049629595,~0.85588962],~\n",
       " [-1.8635964,~0.41422731,~3.2080653,~\\dots,~0.038121283,~0.8209126,~-0.88652021],~\n",
       " \\dots,~\n",
       " [3.3876362,~3.4979515,~5.1769319,~\\dots,~-4.2669945,~-4.1669545,~-1.5428537],~\n",
       " [6.2751541,~-1.327155,~1.9016253,~\\dots,~-7.8021016,~-4.7275734,~-2.9861193],~\n",
       " [7.4327259,~1.318606,~7.2021484,~\\dots,~-2.4839458,~-2.1978822,~-6.3566575]] \\; \\mathrm{\\frac{e^{-}}{s}}$"
      ],
      "text/plain": [
       "<Quantity [[-2.775137  ,  1.1054556 ,  2.9942677 , ...,  0.6343341 ,\n",
       "            -0.21802087,  0.1152167 ],\n",
       "           [-2.4212976 ,  0.08483271,  2.9575644 , ..., -2.235911  ,\n",
       "            -0.0496296 ,  0.8558896 ],\n",
       "           [-1.8635964 ,  0.4142273 ,  3.2080653 , ...,  0.03812128,\n",
       "             0.8209126 , -0.8865202 ],\n",
       "           ...,\n",
       "           [ 3.3876362 ,  3.4979515 ,  5.176932  , ..., -4.2669945 ,\n",
       "            -4.1669545 , -1.5428537 ],\n",
       "           [ 6.275154  , -1.327155  ,  1.9016253 , ..., -7.8021016 ,\n",
       "            -4.7275734 , -2.9861193 ],\n",
       "           [ 7.432726  ,  1.318606  ,  7.2021484 , ..., -2.4839458 ,\n",
       "            -2.1978822 , -6.3566575 ]] electron / s>"
      ]
     },
     "execution_count": 86,
     "metadata": {},
     "output_type": "execute_result"
    }
   ],
   "source": [
    "tpf.flux[:,~tpf.pipeline_mask][~np.isnan(raw_lc['flux']),:]"
   ]
  },
  {
   "cell_type": "code",
   "execution_count": 270,
   "metadata": {},
   "outputs": [],
   "source": [
    "rr = raw_lc.remove_nans('flux_err')"
   ]
  },
  {
   "cell_type": "code",
   "execution_count": 232,
   "metadata": {},
   "outputs": [],
   "source": [
    "raw_lc['flux_err'][np.isnan(raw_lc['flux_err'].value)]=np.nanmean(raw_lc['flux_err'])"
   ]
  },
  {
   "cell_type": "code",
   "execution_count": 271,
   "metadata": {},
   "outputs": [
    {
     "data": {
      "text/html": [
       "<i>TessLightCurve length=18551 LABEL=&quot;TIC 107548305&quot; SECTOR=11</i>\n",
       "<table id=\"table2021615470336\" class=\"table-striped table-bordered table-condensed\">\n",
       "<thead><tr><th>time</th><th>flux</th><th>flux_err</th><th>centroid_col</th><th>centroid_row</th><th>cadenceno</th><th>quality</th></tr></thead>\n",
       "<thead><tr><th></th><th>electron / s</th><th>electron / s</th><th>pix</th><th>pix</th><th></th><th></th></tr></thead>\n",
       "<thead><tr><th>object</th><th>float32</th><th>float32</th><th>float64</th><th>float64</th><th>int32</th><th>int32</th></tr></thead>\n",
       "<tr><td>1596.7830520897612</td><td>5493.66064453125</td><td>5.407934188842773</td><td>753.6771162664672</td><td>1874.1187677078437</td><td>265912</td><td>2048</td></tr>\n",
       "<tr><td>1596.7844409897014</td><td>5481.7265625</td><td>5.407934188842773</td><td>753.6769142924788</td><td>1874.1181034404435</td><td>265913</td><td>2048</td></tr>\n",
       "<tr><td>1596.7858298891754</td><td>5486.39306640625</td><td>5.407934188842773</td><td>753.6778741182576</td><td>1874.117458481935</td><td>265914</td><td>2048</td></tr>\n",
       "<tr><td>1596.787218789116</td><td>5482.265625</td><td>5.407934188842773</td><td>753.6799804478752</td><td>1874.1169945839213</td><td>265915</td><td>2048</td></tr>\n",
       "<tr><td>1596.7886076890566</td><td>5486.357421875</td><td>5.407934188842773</td><td>753.6779322667377</td><td>1874.116701283635</td><td>265916</td><td>2048</td></tr>\n",
       "<tr><td>1596.7899965889967</td><td>5484.330078125</td><td>5.407934188842773</td><td>753.6794119040148</td><td>1874.1162505515538</td><td>265917</td><td>2048</td></tr>\n",
       "<tr><td>1596.7913854889364</td><td>5479.36083984375</td><td>5.407934188842773</td><td>753.6784045727883</td><td>1874.1162673677527</td><td>265918</td><td>2048</td></tr>\n",
       "<tr><td>1596.7927743888765</td><td>5479.240234375</td><td>5.407934188842773</td><td>753.6779332227806</td><td>1874.1174869061435</td><td>265919</td><td>2048</td></tr>\n",
       "<tr><td>1596.7941632888171</td><td>5481.8984375</td><td>5.407934188842773</td><td>753.6799574703339</td><td>1874.1150940789412</td><td>265920</td><td>2048</td></tr>\n",
       "<tr><td>...</td><td>...</td><td>...</td><td>...</td><td>...</td><td>...</td><td>...</td></tr>\n",
       "<tr><td>1623.8842730007084</td><td>991.5243530273438</td><td>5.286713600158691</td><td>753.6197044299724</td><td>1874.0483154879907</td><td>285425</td><td>0</td></tr>\n",
       "<tr><td>1623.8856618484945</td><td>984.9595947265625</td><td>5.2571516036987305</td><td>753.6295191454691</td><td>1874.0581450287955</td><td>285426</td><td>0</td></tr>\n",
       "<tr><td>1623.8870506967457</td><td>1013.2571411132812</td><td>5.301791191101074</td><td>753.6200591726624</td><td>1874.058184439774</td><td>285427</td><td>0</td></tr>\n",
       "<tr><td>1623.8884395449975</td><td>1025.80126953125</td><td>5.297341823577881</td><td>753.621879701986</td><td>1874.0561866875576</td><td>285428</td><td>0</td></tr>\n",
       "<tr><td>1623.889828392783</td><td>1030.5501708984375</td><td>5.304670810699463</td><td>753.6242085767661</td><td>1874.0547244485692</td><td>285429</td><td>0</td></tr>\n",
       "<tr><td>1623.8912172410348</td><td>1038.6234130859375</td><td>5.310368537902832</td><td>753.624412804759</td><td>1874.0490538698918</td><td>285430</td><td>0</td></tr>\n",
       "<tr><td>1623.8926060892861</td><td>1041.351806640625</td><td>5.311606407165527</td><td>753.6174067343578</td><td>1874.048337890912</td><td>285431</td><td>0</td></tr>\n",
       "<tr><td>1623.8939949370722</td><td>1033.3406982421875</td><td>5.308810234069824</td><td>753.6181464776016</td><td>1874.0501949498218</td><td>285432</td><td>0</td></tr>\n",
       "<tr><td>1623.895383785323</td><td>1028.9044189453125</td><td>5.31065559387207</td><td>753.6265855525144</td><td>1874.057473789965</td><td>285433</td><td>0</td></tr>\n",
       "<tr><td>1623.8967726331082</td><td>1009.3021850585938</td><td>5.297979354858398</td><td>753.6226347983271</td><td>1874.0508593818174</td><td>285434</td><td>0</td></tr>\n",
       "</table>"
      ],
      "text/plain": [
       "<TessLightCurve length=18551 LABEL=\"TIC 107548305\" SECTOR=11>\n",
       "       time               flux             flux_err      ... cadenceno quality\n",
       "                      electron / s       electron / s    ...                  \n",
       "      object            float32            float32       ...   int32    int32 \n",
       "------------------ ------------------ ------------------ ... --------- -------\n",
       "1596.7830520897612   5493.66064453125  5.407934188842773 ...    265912    2048\n",
       "1596.7844409897014       5481.7265625  5.407934188842773 ...    265913    2048\n",
       "1596.7858298891754   5486.39306640625  5.407934188842773 ...    265914    2048\n",
       " 1596.787218789116        5482.265625  5.407934188842773 ...    265915    2048\n",
       "1596.7886076890566     5486.357421875  5.407934188842773 ...    265916    2048\n",
       "1596.7899965889967     5484.330078125  5.407934188842773 ...    265917    2048\n",
       "1596.7913854889364   5479.36083984375  5.407934188842773 ...    265918    2048\n",
       "1596.7927743888765     5479.240234375  5.407934188842773 ...    265919    2048\n",
       "1596.7941632888171       5481.8984375  5.407934188842773 ...    265920    2048\n",
       "               ...                ...                ... ...       ...     ...\n",
       "1623.8842730007084  991.5243530273438  5.286713600158691 ...    285425       0\n",
       "1623.8856618484945  984.9595947265625 5.2571516036987305 ...    285426       0\n",
       "1623.8870506967457 1013.2571411132812  5.301791191101074 ...    285427       0\n",
       "1623.8884395449975   1025.80126953125  5.297341823577881 ...    285428       0\n",
       " 1623.889828392783 1030.5501708984375  5.304670810699463 ...    285429       0\n",
       "1623.8912172410348 1038.6234130859375  5.310368537902832 ...    285430       0\n",
       "1623.8926060892861  1041.351806640625  5.311606407165527 ...    285431       0\n",
       "1623.8939949370722 1033.3406982421875  5.308810234069824 ...    285432       0\n",
       " 1623.895383785323 1028.9044189453125   5.31065559387207 ...    285433       0\n",
       "1623.8967726331082 1009.3021850585938  5.297979354858398 ...    285434       0"
      ]
     },
     "execution_count": 271,
     "metadata": {},
     "output_type": "execute_result"
    }
   ],
   "source": [
    "rr"
   ]
  },
  {
   "cell_type": "code",
   "execution_count": 199,
   "metadata": {},
   "outputs": [
    {
     "data": {
      "text/plain": [
       "array([ True,  True,  True, ..., False, False, False])"
      ]
     },
     "execution_count": 199,
     "metadata": {},
     "output_type": "execute_result"
    }
   ],
   "source": [
    "np.isnan(raw_lc['flux_err'].value)"
   ]
  },
  {
   "cell_type": "code",
   "execution_count": 197,
   "metadata": {},
   "outputs": [
    {
     "data": {
      "text/plain": [
       "(array([ 2231,  2232,  2233, ..., 18548, 18549, 18550], dtype=int64),)"
      ]
     },
     "execution_count": 197,
     "metadata": {},
     "output_type": "execute_result"
    }
   ],
   "source": [
    "np.where(raw_lc['flux_err'].value>.001)"
   ]
  },
  {
   "cell_type": "code",
   "execution_count": null,
   "metadata": {},
   "outputs": [],
   "source": []
  },
  {
   "cell_type": "code",
   "execution_count": 272,
   "metadata": {},
   "outputs": [
    {
     "data": {
      "text/latex": [
       "$[[883.01208,~883.46863,~880.00464,~\\dots,~887.84448,~897.51257,~892.99225],~\n",
       " [890.18744,~886.39148,~890.53912,~\\dots,~895.23755,~892.21814,~895.32904],~\n",
       " [887.7417,~891.19843,~887.72778,~\\dots,~897.85681,~897.82886,~898.37842],~\n",
       " \\dots,~\n",
       " [-5.083879,~-0.80353707,~-3.9659493,~\\dots,~3.8195267,~-0.073858701,~1.6126434],~\n",
       " [-2.0662558,~-3.9298522,~-0.51358926,~\\dots,~3.4767125,~1.3921154,~0.098067261],~\n",
       " [-6.7256737,~-3.6250362,~-5.5095634,~\\dots,~2.2385004,~1.522149,~-0.11916241]] \\; \\mathrm{\\frac{e^{-}}{s}}$"
      ],
      "text/plain": [
       "<Quantity [[ 8.8301208e+02,  8.8346863e+02,  8.8000464e+02, ...,\n",
       "             8.8784448e+02,  8.9751257e+02,  8.9299225e+02],\n",
       "           [ 8.9018744e+02,  8.8639148e+02,  8.9053912e+02, ...,\n",
       "             8.9523755e+02,  8.9221814e+02,  8.9532904e+02],\n",
       "           [ 8.8774170e+02,  8.9119843e+02,  8.8772778e+02, ...,\n",
       "             8.9785681e+02,  8.9782886e+02,  8.9837842e+02],\n",
       "           ...,\n",
       "           [-5.0838790e+00, -8.0353707e-01, -3.9659493e+00, ...,\n",
       "             3.8195267e+00, -7.3858701e-02,  1.6126434e+00],\n",
       "           [-2.0662558e+00, -3.9298522e+00, -5.1358926e-01, ...,\n",
       "             3.4767125e+00,  1.3921154e+00,  9.8067261e-02],\n",
       "           [-6.7256737e+00, -3.6250362e+00, -5.5095634e+00, ...,\n",
       "             2.2385004e+00,  1.5221490e+00, -1.1916241e-01]] electron / s>"
      ]
     },
     "execution_count": 272,
     "metadata": {},
     "output_type": "execute_result"
    }
   ],
   "source": [
    "tpf.flux[:, ~tpf.pipeline_mask]"
   ]
  },
  {
   "cell_type": "code",
   "execution_count": 277,
   "metadata": {},
   "outputs": [
    {
     "data": {
      "text/latex": [
       "$[5493.6606,~5481.7266,~5486.3931,~\\dots,~1033.3407,~1028.9044,~1009.3022] \\; \\mathrm{\\frac{e^{-}}{s}}$"
      ],
      "text/plain": [
       "<Quantity [5493.6606, 5481.7266, 5486.393 , ..., 1033.3407, 1028.9044,\n",
       "           1009.3022] electron / s>"
      ]
     },
     "execution_count": 277,
     "metadata": {},
     "output_type": "execute_result"
    }
   ],
   "source": [
    "raw_lc['flux']"
   ]
  },
  {
   "cell_type": "code",
   "execution_count": 267,
   "metadata": {},
   "outputs": [
    {
     "ename": "ValueError",
     "evalue": "cannot reshape array of size 1680327 into shape (1,3,1680327)",
     "output_type": "error",
     "traceback": [
      "\u001b[1;31m---------------------------------------------------------------------------\u001b[0m",
      "\u001b[1;31mValueError\u001b[0m                                Traceback (most recent call last)",
      "\u001b[1;32m<ipython-input-267-82295812e687>\u001b[0m in \u001b[0;36m<module>\u001b[1;34m\u001b[0m\n\u001b[1;32m----> 1\u001b[1;33m \u001b[0mnp\u001b[0m\u001b[1;33m.\u001b[0m\u001b[0mreshape\u001b[0m\u001b[1;33m(\u001b[0m\u001b[0mtpf\u001b[0m\u001b[1;33m.\u001b[0m\u001b[0mflux\u001b[0m\u001b[1;33m[\u001b[0m\u001b[0mnp\u001b[0m\u001b[1;33m.\u001b[0m\u001b[0misfinite\u001b[0m\u001b[1;33m(\u001b[0m\u001b[0mtpf\u001b[0m\u001b[1;33m.\u001b[0m\u001b[0mflux_err\u001b[0m\u001b[1;33m)\u001b[0m\u001b[1;33m]\u001b[0m\u001b[1;33m,\u001b[0m\u001b[0mnp\u001b[0m\u001b[1;33m.\u001b[0m\u001b[0mshape\u001b[0m\u001b[1;33m(\u001b[0m\u001b[1;33m[\u001b[0m\u001b[0mnp\u001b[0m\u001b[1;33m.\u001b[0m\u001b[0mwhere\u001b[0m\u001b[1;33m(\u001b[0m\u001b[0mnp\u001b[0m\u001b[1;33m.\u001b[0m\u001b[0misfinite\u001b[0m\u001b[1;33m(\u001b[0m\u001b[0mtpf\u001b[0m\u001b[1;33m.\u001b[0m\u001b[0mflux_err\u001b[0m\u001b[1;33m)\u001b[0m\u001b[1;33m==\u001b[0m\u001b[1;32mTrue\u001b[0m\u001b[1;33m)\u001b[0m\u001b[1;33m]\u001b[0m\u001b[1;33m)\u001b[0m\u001b[1;33m)\u001b[0m\u001b[1;33m\u001b[0m\u001b[1;33m\u001b[0m\u001b[0m\n\u001b[0m",
      "\u001b[1;32m<__array_function__ internals>\u001b[0m in \u001b[0;36mreshape\u001b[1;34m(*args, **kwargs)\u001b[0m\n",
      "\u001b[1;32m~\\anaconda3\\lib\\site-packages\\astropy\\units\\quantity.py\u001b[0m in \u001b[0;36m__array_function__\u001b[1;34m(self, function, types, args, kwargs)\u001b[0m\n\u001b[0;32m   1510\u001b[0m         \u001b[1;31m# implementation.\u001b[0m\u001b[1;33m\u001b[0m\u001b[1;33m\u001b[0m\u001b[1;33m\u001b[0m\u001b[0m\n\u001b[0;32m   1511\u001b[0m         \u001b[1;32mif\u001b[0m \u001b[0mfunction\u001b[0m \u001b[1;32min\u001b[0m \u001b[0mSUBCLASS_SAFE_FUNCTIONS\u001b[0m\u001b[1;33m:\u001b[0m\u001b[1;33m\u001b[0m\u001b[1;33m\u001b[0m\u001b[0m\n\u001b[1;32m-> 1512\u001b[1;33m             \u001b[1;32mreturn\u001b[0m \u001b[0msuper\u001b[0m\u001b[1;33m(\u001b[0m\u001b[1;33m)\u001b[0m\u001b[1;33m.\u001b[0m\u001b[0m__array_function__\u001b[0m\u001b[1;33m(\u001b[0m\u001b[0mfunction\u001b[0m\u001b[1;33m,\u001b[0m \u001b[0mtypes\u001b[0m\u001b[1;33m,\u001b[0m \u001b[0margs\u001b[0m\u001b[1;33m,\u001b[0m \u001b[0mkwargs\u001b[0m\u001b[1;33m)\u001b[0m\u001b[1;33m\u001b[0m\u001b[1;33m\u001b[0m\u001b[0m\n\u001b[0m\u001b[0;32m   1513\u001b[0m \u001b[1;33m\u001b[0m\u001b[0m\n\u001b[0;32m   1514\u001b[0m         \u001b[1;32melif\u001b[0m \u001b[0mfunction\u001b[0m \u001b[1;32min\u001b[0m \u001b[0mFUNCTION_HELPERS\u001b[0m\u001b[1;33m:\u001b[0m\u001b[1;33m\u001b[0m\u001b[1;33m\u001b[0m\u001b[0m\n",
      "\u001b[1;32m~\\anaconda3\\lib\\site-packages\\numpy\\core\\fromnumeric.py\u001b[0m in \u001b[0;36mreshape\u001b[1;34m(a, newshape, order)\u001b[0m\n\u001b[0;32m    297\u001b[0m            [5, 6]])\n\u001b[0;32m    298\u001b[0m     \"\"\"\n\u001b[1;32m--> 299\u001b[1;33m     \u001b[1;32mreturn\u001b[0m \u001b[0m_wrapfunc\u001b[0m\u001b[1;33m(\u001b[0m\u001b[0ma\u001b[0m\u001b[1;33m,\u001b[0m \u001b[1;34m'reshape'\u001b[0m\u001b[1;33m,\u001b[0m \u001b[0mnewshape\u001b[0m\u001b[1;33m,\u001b[0m \u001b[0morder\u001b[0m\u001b[1;33m=\u001b[0m\u001b[0morder\u001b[0m\u001b[1;33m)\u001b[0m\u001b[1;33m\u001b[0m\u001b[1;33m\u001b[0m\u001b[0m\n\u001b[0m\u001b[0;32m    300\u001b[0m \u001b[1;33m\u001b[0m\u001b[0m\n\u001b[0;32m    301\u001b[0m \u001b[1;33m\u001b[0m\u001b[0m\n",
      "\u001b[1;32m~\\anaconda3\\lib\\site-packages\\numpy\\core\\fromnumeric.py\u001b[0m in \u001b[0;36m_wrapfunc\u001b[1;34m(obj, method, *args, **kwds)\u001b[0m\n\u001b[0;32m     56\u001b[0m \u001b[1;33m\u001b[0m\u001b[0m\n\u001b[0;32m     57\u001b[0m     \u001b[1;32mtry\u001b[0m\u001b[1;33m:\u001b[0m\u001b[1;33m\u001b[0m\u001b[1;33m\u001b[0m\u001b[0m\n\u001b[1;32m---> 58\u001b[1;33m         \u001b[1;32mreturn\u001b[0m \u001b[0mbound\u001b[0m\u001b[1;33m(\u001b[0m\u001b[1;33m*\u001b[0m\u001b[0margs\u001b[0m\u001b[1;33m,\u001b[0m \u001b[1;33m**\u001b[0m\u001b[0mkwds\u001b[0m\u001b[1;33m)\u001b[0m\u001b[1;33m\u001b[0m\u001b[1;33m\u001b[0m\u001b[0m\n\u001b[0m\u001b[0;32m     59\u001b[0m     \u001b[1;32mexcept\u001b[0m \u001b[0mTypeError\u001b[0m\u001b[1;33m:\u001b[0m\u001b[1;33m\u001b[0m\u001b[1;33m\u001b[0m\u001b[0m\n\u001b[0;32m     60\u001b[0m         \u001b[1;31m# A TypeError occurs if the object does have such a method in its\u001b[0m\u001b[1;33m\u001b[0m\u001b[1;33m\u001b[0m\u001b[1;33m\u001b[0m\u001b[0m\n",
      "\u001b[1;31mValueError\u001b[0m: cannot reshape array of size 1680327 into shape (1,3,1680327)"
     ]
    }
   ],
   "source": [
    "np.reshape(tpf.flux[np.isfinite(tpf.flux_err)],np.shape([np.where(np.isfinite(tpf.flux_err)==True)]))"
   ]
  },
  {
   "cell_type": "code",
   "execution_count": 266,
   "metadata": {},
   "outputs": [
    {
     "data": {
      "text/plain": [
       "(1, 3, 1680327)"
      ]
     },
     "execution_count": 266,
     "metadata": {},
     "output_type": "execute_result"
    }
   ],
   "source": [
    "np.shape([np.where(np.isfinite(tpf.flux_err)==True)])"
   ]
  },
  {
   "cell_type": "code",
   "execution_count": 74,
   "metadata": {},
   "outputs": [
    {
     "data": {
      "text/plain": [
       "array([[False, False, False, ..., False, False, False],\n",
       "       [False, False, False, ..., False, False, False],\n",
       "       [False, False, False, ..., False, False, False],\n",
       "       ...,\n",
       "       [False, False, False, ..., False, False, False],\n",
       "       [False, False, False, ..., False, False, False],\n",
       "       [False, False, False, ..., False, False, False]])"
      ]
     },
     "execution_count": 74,
     "metadata": {},
     "output_type": "execute_result"
    }
   ],
   "source": [
    "np.isnan(tpf.flux[:,~tpf.pipeline_mask])"
   ]
  },
  {
   "cell_type": "code",
   "execution_count": 107,
   "metadata": {},
   "outputs": [
    {
     "data": {
      "text/plain": [
       "[<matplotlib.lines.Line2D at 0x1d6973db340>,\n",
       " <matplotlib.lines.Line2D at 0x1d6973db310>]"
      ]
     },
     "execution_count": 107,
     "metadata": {},
     "output_type": "execute_result"
    },
    {
     "data": {
      "image/png": "[encoded data removed]",
      "text/plain": [
       "<Figure size 432x288 with 1 Axes>"
      ]
     },
     "metadata": {
      "needs_background": "light"
     },
     "output_type": "display_data"
    }
   ],
   "source": [
    "regressors = tpf.flux[:, ~tpf.pipeline_mask]\n",
    "plt.plot(regressors[:,:2])"
   ]
  },
  {
   "cell_type": "code",
   "execution_count": 125,
   "metadata": {},
   "outputs": [
    {
     "name": "stdout",
     "output_type": "stream",
     "text": [
      "16023\n",
      "16023\n",
      "16023\n",
      "16023\n",
      "16023\n",
      "16023\n",
      "16023\n",
      "16023\n",
      "16023\n",
      "16023\n",
      "16023\n",
      "16023\n",
      "16023\n",
      "16023\n",
      "16023\n"
     ]
    },
    {
     "ename": "KeyboardInterrupt",
     "evalue": "",
     "output_type": "error",
     "traceback": [
      "\u001b[1;31m---------------------------------------------------------------------------\u001b[0m",
      "\u001b[1;31mKeyboardInterrupt\u001b[0m                         Traceback (most recent call last)",
      "\u001b[1;32m<ipython-input-125-3cb555a3ae18>\u001b[0m in \u001b[0;36m<module>\u001b[1;34m\u001b[0m\n\u001b[0;32m     21\u001b[0m \u001b[1;33m\u001b[0m\u001b[0m\n\u001b[0;32m     22\u001b[0m                 \u001b[0mrcc\u001b[0m \u001b[1;33m=\u001b[0m \u001b[0mlk\u001b[0m\u001b[1;33m.\u001b[0m\u001b[0mRegressionCorrector\u001b[0m\u001b[1;33m(\u001b[0m\u001b[0mlightcurve\u001b[0m\u001b[1;33m.\u001b[0m\u001b[0mremove_nans\u001b[0m\u001b[1;33m(\u001b[0m\u001b[1;33m)\u001b[0m\u001b[1;33m)\u001b[0m\u001b[1;33m\u001b[0m\u001b[1;33m\u001b[0m\u001b[0m\n\u001b[1;32m---> 23\u001b[1;33m                 \u001b[0mlc\u001b[0m \u001b[1;33m=\u001b[0m \u001b[0mrcc\u001b[0m\u001b[1;33m.\u001b[0m\u001b[0mcorrect\u001b[0m\u001b[1;33m(\u001b[0m\u001b[0mdm\u001b[0m\u001b[1;33m.\u001b[0m\u001b[0mappend_constant\u001b[0m\u001b[1;33m(\u001b[0m\u001b[1;33m)\u001b[0m\u001b[1;33m)\u001b[0m\u001b[1;33m\u001b[0m\u001b[1;33m\u001b[0m\u001b[0m\n\u001b[0m\u001b[0;32m     24\u001b[0m                 \u001b[0mcorrected_lc\u001b[0m \u001b[1;33m=\u001b[0m \u001b[0mlc\u001b[0m\u001b[1;33m.\u001b[0m\u001b[0mremove_outliers\u001b[0m\u001b[1;33m(\u001b[0m\u001b[1;33m)\u001b[0m\u001b[1;33m\u001b[0m\u001b[1;33m\u001b[0m\u001b[0m\n\u001b[0;32m     25\u001b[0m                 \u001b[0mprint\u001b[0m\u001b[1;33m(\u001b[0m\u001b[0mlen\u001b[0m\u001b[1;33m(\u001b[0m\u001b[0mlightcurve\u001b[0m\u001b[1;33m.\u001b[0m\u001b[0mremove_nans\u001b[0m\u001b[1;33m(\u001b[0m\u001b[1;33m)\u001b[0m\u001b[1;33m)\u001b[0m\u001b[1;33m)\u001b[0m\u001b[1;33m\u001b[0m\u001b[1;33m\u001b[0m\u001b[0m\n",
      "\u001b[1;32m~\\anaconda3\\lib\\site-packages\\lightkurve\\correctors\\regressioncorrector.py\u001b[0m in \u001b[0;36mcorrect\u001b[1;34m(self, design_matrix_collection, cadence_mask, sigma, niters, propagate_errors)\u001b[0m\n\u001b[0;32m    244\u001b[0m         \u001b[1;32mfor\u001b[0m \u001b[0mcount\u001b[0m \u001b[1;32min\u001b[0m \u001b[0mrange\u001b[0m\u001b[1;33m(\u001b[0m\u001b[0mniters\u001b[0m\u001b[1;33m)\u001b[0m\u001b[1;33m:\u001b[0m\u001b[1;33m\u001b[0m\u001b[1;33m\u001b[0m\u001b[0m\n\u001b[0;32m    245\u001b[0m             \u001b[0mtmp_cadence_mask\u001b[0m \u001b[1;33m=\u001b[0m \u001b[0mself\u001b[0m\u001b[1;33m.\u001b[0m\u001b[0mcadence_mask\u001b[0m \u001b[1;33m&\u001b[0m \u001b[1;33m~\u001b[0m\u001b[0mself\u001b[0m\u001b[1;33m.\u001b[0m\u001b[0moutlier_mask\u001b[0m\u001b[1;33m\u001b[0m\u001b[1;33m\u001b[0m\u001b[0m\n\u001b[1;32m--> 246\u001b[1;33m             coefficients, coefficients_err = self._fit_coefficients(\n\u001b[0m\u001b[0;32m    247\u001b[0m                 \u001b[0mcadence_mask\u001b[0m\u001b[1;33m=\u001b[0m\u001b[0mtmp_cadence_mask\u001b[0m\u001b[1;33m,\u001b[0m\u001b[1;33m\u001b[0m\u001b[1;33m\u001b[0m\u001b[0m\n\u001b[0;32m    248\u001b[0m                 \u001b[0mprior_mu\u001b[0m\u001b[1;33m=\u001b[0m\u001b[0mself\u001b[0m\u001b[1;33m.\u001b[0m\u001b[0mdmc\u001b[0m\u001b[1;33m.\u001b[0m\u001b[0mprior_mu\u001b[0m\u001b[1;33m,\u001b[0m\u001b[1;33m\u001b[0m\u001b[1;33m\u001b[0m\u001b[0m\n",
      "\u001b[1;32m~\\anaconda3\\lib\\site-packages\\lightkurve\\correctors\\regressioncorrector.py\u001b[0m in \u001b[0;36m_fit_coefficients\u001b[1;34m(self, cadence_mask, prior_mu, prior_sigma, propagate_errors)\u001b[0m\n\u001b[0;32m    159\u001b[0m \u001b[1;33m\u001b[0m\u001b[0m\n\u001b[0;32m    160\u001b[0m         \u001b[1;31m# Retrieve the design matrix (X) as a numpy array\u001b[0m\u001b[1;33m\u001b[0m\u001b[1;33m\u001b[0m\u001b[1;33m\u001b[0m\u001b[0m\n\u001b[1;32m--> 161\u001b[1;33m         \u001b[0mX\u001b[0m \u001b[1;33m=\u001b[0m \u001b[0mself\u001b[0m\u001b[1;33m.\u001b[0m\u001b[0mdmc\u001b[0m\u001b[1;33m.\u001b[0m\u001b[0mX\u001b[0m\u001b[1;33m[\u001b[0m\u001b[0mcadence_mask\u001b[0m\u001b[1;33m]\u001b[0m\u001b[1;33m\u001b[0m\u001b[1;33m\u001b[0m\u001b[0m\n\u001b[0m\u001b[0;32m    162\u001b[0m         \u001b[1;32mif\u001b[0m \u001b[0misinstance\u001b[0m\u001b[1;33m(\u001b[0m\u001b[0mX\u001b[0m\u001b[1;33m,\u001b[0m \u001b[0mnp\u001b[0m\u001b[1;33m.\u001b[0m\u001b[0mndarray\u001b[0m\u001b[1;33m)\u001b[0m\u001b[1;33m:\u001b[0m\u001b[1;33m\u001b[0m\u001b[1;33m\u001b[0m\u001b[0m\n\u001b[0;32m    163\u001b[0m             \u001b[1;31m# Compute `X^T cov^-1 X + 1/prior_sigma^2`\u001b[0m\u001b[1;33m\u001b[0m\u001b[1;33m\u001b[0m\u001b[1;33m\u001b[0m\u001b[0m\n",
      "\u001b[1;31mKeyboardInterrupt\u001b[0m: "
     ]
    }
   ],
   "source": [
    "dm = lk.DesignMatrix(tpf.flux[:,~tpf.pipeline_mask][~np.isnan(raw_lc['flux']),:], name='regressors').pca(150)\n",
    "lm2 = []\n",
    "for i in np.arange(0,len(tpf.pipeline_mask)):\n",
    "            \n",
    "            #Iterating through rows of pixels\n",
    "            for j in np.arange(0,len(tpf.pipeline_mask[0])):\n",
    "                \n",
    "                \n",
    "                #Making an empty 2-d array\n",
    "                mask = np.zeros((len(tpf.pipeline_mask),len(tpf.pipeline_mask[0])), dtype=bool)\n",
    "                \n",
    "                #Iterating to isolate pixel by pixel to get light curves\n",
    "                mask[i][j] = True\n",
    "                \n",
    "                #Getting the light curve for a pixel and excluding any flagged data\n",
    "                lightcurve = tpf.to_lightcurve(aperture_mask=mask)\n",
    "                \n",
    "                #fixing bug where PCA cant occur if there is a nan in flux_err\n",
    "                lightcurve['flux_err'][np.isnan(lightcurve['flux_err'].value)] = np.nanmean(lightcurve['flux_err'])\n",
    "\n",
    "                \n",
    "                rcc = lk.RegressionCorrector(lightcurve.remove_nans())\n",
    "                lc = rcc.correct(dm.append_constant())\n",
    "                corrected_lc = lc.remove_outliers()\n",
    "                \n",
    "                \n",
    "                lm2.extend([corrected_lc])"
   ]
  },
  {
   "cell_type": "code",
   "execution_count": 112,
   "metadata": {},
   "outputs": [],
   "source": [
    "pg = lm[65].to_periodogram()"
   ]
  },
  {
   "cell_type": "code",
   "execution_count": 120,
   "metadata": {},
   "outputs": [],
   "source": [
    "pg2 = lm2[60].to_periodogram()"
   ]
  },
  {
   "cell_type": "code",
   "execution_count": 111,
   "metadata": {},
   "outputs": [
    {
     "data": {
      "text/plain": [
       "<AxesSubplot:xlabel='Frequency [$\\\\mathrm{\\\\frac{1}{d}}$]', ylabel='Power [$\\\\mathrm{\\\\frac{e^{-}}{s}}$]'>"
      ]
     },
     "execution_count": 111,
     "metadata": {},
     "output_type": "execute_result"
    },
    {
     "data": {
      "image/png": "[encoded data removed]",
      "text/plain": [
       "<Figure size 848.5x400 with 1 Axes>"
      ]
     },
     "metadata": {},
     "output_type": "display_data"
    }
   ],
   "source": [
    "pg.plot()"
   ]
  },
  {
   "cell_type": "code",
   "execution_count": 68,
   "metadata": {},
   "outputs": [],
   "source": [
    "new_aperture = tpf.pipeline_mask"
   ]
  },
  {
   "cell_type": "code",
   "execution_count": 88,
   "metadata": {},
   "outputs": [
    {
     "data": {
      "text/plain": [
       "array([[False, False, False, False, False, False, False, False, False,\n",
       "        False, False],\n",
       "       [False, False, False, False, False, False, False, False, False,\n",
       "        False, False],\n",
       "       [False, False, False, False, False, False, False, False, False,\n",
       "        False, False],\n",
       "       [False, False, False, False, False, False, False, False, False,\n",
       "        False, False],\n",
       "       [False, False, False, False, False, False, False, False, False,\n",
       "         True,  True],\n",
       "       [False, False, False, False, False, False, False, False, False,\n",
       "         True,  True],\n",
       "       [False, False, False, False, False, False, False, False, False,\n",
       "        False, False],\n",
       "       [False, False, False, False, False, False, False, False, False,\n",
       "        False, False],\n",
       "       [False, False, False, False, False, False, False, False, False,\n",
       "        False, False],\n",
       "       [False, False, False, False, False, False, False, False, False,\n",
       "        False, False],\n",
       "       [False, False, False, False, False, False, False, False, False,\n",
       "        False, False]])"
      ]
     },
     "execution_count": 88,
     "metadata": {},
     "output_type": "execute_result"
    }
   ],
   "source": [
    "new_aperture"
   ]
  },
  {
   "cell_type": "code",
   "execution_count": 113,
   "metadata": {},
   "outputs": [
    {
     "data": {
      "image/png": "[encoded data removed]",
      "text/plain": [
       "<Figure size 432x288 with 1 Axes>"
      ]
     },
     "metadata": {
      "needs_background": "light"
     },
     "output_type": "display_data"
    }
   ],
   "source": [
    "plt.plot(pg.frequency,pg.power)\n",
    "plt.xscale('log')\n",
    "plt.yscale('log')"
   ]
  },
  {
   "cell_type": "code",
   "execution_count": 121,
   "metadata": {},
   "outputs": [
    {
     "data": {
      "text/plain": [
       "[<matplotlib.lines.Line2D at 0x2b829f8d8e0>]"
      ]
     },
     "execution_count": 121,
     "metadata": {},
     "output_type": "execute_result"
    },
    {
     "data": {
      "image/png": "[encoded data removed]",
      "text/plain": [
       "<Figure size 432x288 with 1 Axes>"
      ]
     },
     "metadata": {
      "needs_background": "light"
     },
     "output_type": "display_data"
    }
   ],
   "source": [
    "plt.plot(pg2.frequency,pg2.power)\n"
   ]
  },
  {
   "cell_type": "code",
   "execution_count": 134,
   "metadata": {},
   "outputs": [
    {
     "data": {
      "text/plain": [
       "<matplotlib.collections.PathCollection at 0x2b829d42850>"
      ]
     },
     "execution_count": 134,
     "metadata": {},
     "output_type": "execute_result"
    },
    {
     "data": {
      "image/png": "[encoded data removed]",
      "text/plain": [
       "<Figure size 432x288 with 1 Axes>"
      ]
     },
     "metadata": {
      "needs_background": "light"
     },
     "output_type": "display_data"
    }
   ],
   "source": [
    "plt.plot(raw_lc.time.value,raw_lc.flux.value)\n",
    "plt.scatter(raw_lc.time.value[np.where(raw_lc['quality']>0)],raw_lc.flux.value[np.where(raw_lc['quality']>0)])"
   ]
  },
  {
   "cell_type": "code",
   "execution_count": 145,
   "metadata": {},
   "outputs": [
    {
     "data": {
      "text/plain": [
       "16023"
      ]
     },
     "execution_count": 145,
     "metadata": {},
     "output_type": "execute_result"
    }
   ],
   "source": [
    "len(tpf.flux[:,~tpf.pipeline_mask][np.isfinite(raw_lc['flux']),:])"
   ]
  },
  {
   "cell_type": "code",
   "execution_count": 151,
   "metadata": {},
   "outputs": [],
   "source": [
    "raw_lc = tpf.to_lightcurve(aperture_mask=new_aperture)"
   ]
  },
  {
   "cell_type": "code",
   "execution_count": 152,
   "metadata": {},
   "outputs": [
    {
     "data": {
      "text/plain": [
       "<AxesSubplot:xlabel='Time - 2457000 [BTJD days]', ylabel='Flux [$\\\\mathrm{e^{-}\\\\,s^{-1}}$]'>"
      ]
     },
     "execution_count": 152,
     "metadata": {},
     "output_type": "execute_result"
    },
    {
     "data": {
      "image/png": "[encoded data removed]",
      "text/plain": [
       "<Figure size 848.5x400 with 1 Axes>"
      ]
     },
     "metadata": {},
     "output_type": "display_data"
    }
   ],
   "source": [
    "raw_lc.plot()"
   ]
  },
  {
   "cell_type": "code",
   "execution_count": 169,
   "metadata": {},
   "outputs": [],
   "source": [
    "bb = tpf.flux[:,~tpf.pipeline_mask][np.isfinite(raw_lc['flux']*raw_lc['flux_err']),:]"
   ]
  },
  {
   "cell_type": "code",
   "execution_count": 170,
   "metadata": {},
   "outputs": [
    {
     "data": {
      "text/plain": [
       "15427"
      ]
     },
     "execution_count": 170,
     "metadata": {},
     "output_type": "execute_result"
    }
   ],
   "source": [
    "len(bb)"
   ]
  },
  {
   "cell_type": "code",
   "execution_count": 182,
   "metadata": {},
   "outputs": [
    {
     "data": {
      "text/html": [
       "<i>TessLightCurve length=15427 LABEL=&quot;TIC 611402948&quot; SECTOR=17</i>\n",
       "<table id=\"table2989999223136\" class=\"table-striped table-bordered table-condensed\">\n",
       "<thead><tr><th>time</th><th>flux</th><th>flux_err</th><th>centroid_col</th><th>centroid_row</th><th>cadenceno</th><th>quality</th></tr></thead>\n",
       "<thead><tr><th></th><th>electron / s</th><th>electron / s</th><th>pix</th><th>pix</th><th></th><th></th></tr></thead>\n",
       "<thead><tr><th>object</th><th>float32</th><th>float32</th><th>float64</th><th>float64</th><th>int32</th><th>int32</th></tr></thead>\n",
       "<tr><td>1764.6899176380707</td><td>4984.85498046875</td><td>8.391176223754883</td><td>2027.8313255345806</td><td>1422.784705011753</td><td>386805</td><td>0</td></tr>\n",
       "<tr><td>1764.691306558953</td><td>5002.21875</td><td>8.40153980255127</td><td>2027.8315982329227</td><td>1422.7857194339251</td><td>386806</td><td>0</td></tr>\n",
       "<tr><td>1764.6926954798353</td><td>5008.01513671875</td><td>8.41019344329834</td><td>2027.8339388689908</td><td>1422.7862269491825</td><td>386807</td><td>0</td></tr>\n",
       "<tr><td>1764.694084400718</td><td>4987.501953125</td><td>8.393718719482422</td><td>2027.831487745149</td><td>1422.7843232703542</td><td>386808</td><td>0</td></tr>\n",
       "<tr><td>1764.6954733216012</td><td>4988.12841796875</td><td>8.393576622009277</td><td>2027.8317234624064</td><td>1422.78860699114</td><td>386809</td><td>0</td></tr>\n",
       "<tr><td>1764.6968622420177</td><td>4987.9892578125</td><td>8.390730857849121</td><td>2027.8347681214602</td><td>1422.785864869782</td><td>386810</td><td>0</td></tr>\n",
       "<tr><td>1764.6982511628999</td><td>4985.1064453125</td><td>8.391599655151367</td><td>2027.833983824425</td><td>1422.7849243971152</td><td>386811</td><td>0</td></tr>\n",
       "<tr><td>1764.6996400837822</td><td>4995.16357421875</td><td>8.39586353302002</td><td>2027.833548527653</td><td>1422.7852115987193</td><td>386812</td><td>0</td></tr>\n",
       "<tr><td>1764.7010290046644</td><td>4986.6181640625</td><td>8.387063980102539</td><td>2027.8309977673155</td><td>1422.782697587655</td><td>386813</td><td>0</td></tr>\n",
       "<tr><td>...</td><td>...</td><td>...</td><td>...</td><td>...</td><td>...</td><td>...</td></tr>\n",
       "<tr><td>1789.6870432434266</td><td>4451.3525390625</td><td>9.754325866699219</td><td>2027.7777696399444</td><td>1422.6898518749788</td><td>404803</td><td>4096</td></tr>\n",
       "<tr><td>1789.688432110293</td><td>4478.39599609375</td><td>9.721031188964844</td><td>2027.781152615421</td><td>1422.690555689042</td><td>404804</td><td>4096</td></tr>\n",
       "<tr><td>1789.6898209766941</td><td>4448.45458984375</td><td>9.66419792175293</td><td>2027.7805834943667</td><td>1422.6908605420597</td><td>404805</td><td>4096</td></tr>\n",
       "<tr><td>1789.6912098435603</td><td>4470.48876953125</td><td>9.645517349243164</td><td>2027.7810717579184</td><td>1422.6906812837574</td><td>404806</td><td>4096</td></tr>\n",
       "<tr><td>1789.692598710426</td><td>4469.28369140625</td><td>9.605375289916992</td><td>2027.7782581629783</td><td>1422.6904406692088</td><td>404807</td><td>4096</td></tr>\n",
       "<tr><td>1789.6939875772914</td><td>4455.21630859375</td><td>9.547223091125488</td><td>2027.7812551579395</td><td>1422.6923524258016</td><td>404808</td><td>4096</td></tr>\n",
       "<tr><td>1789.6953764441569</td><td>4448.7587890625</td><td>9.499509811401367</td><td>2027.7817058128705</td><td>1422.6916679023445</td><td>404809</td><td>4096</td></tr>\n",
       "<tr><td>1789.6967653110232</td><td>4468.0087890625</td><td>9.471627235412598</td><td>2027.7836032162022</td><td>1422.6905585137483</td><td>404810</td><td>4096</td></tr>\n",
       "<tr><td>1789.6981541778894</td><td>4466.296875</td><td>9.429908752441406</td><td>2027.7792118229838</td><td>1422.6927475026991</td><td>404811</td><td>4096</td></tr>\n",
       "<tr><td>1789.6995430452205</td><td>4484.30615234375</td><td>9.401618003845215</td><td>2027.7830574101529</td><td>1422.6906902540914</td><td>404812</td><td>4096</td></tr>\n",
       "</table>"
      ],
      "text/plain": [
       "<TessLightCurve length=15427 LABEL=\"TIC 611402948\" SECTOR=17>\n",
       "       time              flux            flux_err     ... cadenceno quality\n",
       "                     electron / s      electron / s   ...                  \n",
       "      object           float32           float32      ...   int32    int32 \n",
       "------------------ ---------------- ----------------- ... --------- -------\n",
       "1764.6899176380707 4984.85498046875 8.391176223754883 ...    386805       0\n",
       " 1764.691306558953       5002.21875  8.40153980255127 ...    386806       0\n",
       "1764.6926954798353 5008.01513671875  8.41019344329834 ...    386807       0\n",
       " 1764.694084400718   4987.501953125 8.393718719482422 ...    386808       0\n",
       "1764.6954733216012 4988.12841796875 8.393576622009277 ...    386809       0\n",
       "1764.6968622420177  4987.9892578125 8.390730857849121 ...    386810       0\n",
       "1764.6982511628999  4985.1064453125 8.391599655151367 ...    386811       0\n",
       "1764.6996400837822 4995.16357421875  8.39586353302002 ...    386812       0\n",
       "1764.7010290046644  4986.6181640625 8.387063980102539 ...    386813       0\n",
       "               ...              ...               ... ...       ...     ...\n",
       "1789.6870432434266  4451.3525390625 9.754325866699219 ...    404803    4096\n",
       " 1789.688432110293 4478.39599609375 9.721031188964844 ...    404804    4096\n",
       "1789.6898209766941 4448.45458984375  9.66419792175293 ...    404805    4096\n",
       "1789.6912098435603 4470.48876953125 9.645517349243164 ...    404806    4096\n",
       " 1789.692598710426 4469.28369140625 9.605375289916992 ...    404807    4096\n",
       "1789.6939875772914 4455.21630859375 9.547223091125488 ...    404808    4096\n",
       "1789.6953764441569  4448.7587890625 9.499509811401367 ...    404809    4096\n",
       "1789.6967653110232  4468.0087890625 9.471627235412598 ...    404810    4096\n",
       "1789.6981541778894      4466.296875 9.429908752441406 ...    404811    4096\n",
       "1789.6995430452205 4484.30615234375 9.401618003845215 ...    404812    4096"
      ]
     },
     "execution_count": 182,
     "metadata": {},
     "output_type": "execute_result"
    }
   ],
   "source": [
    "raw_lc[np.isfinite(raw_lc['flux']*raw_lc['flux_err'])]"
   ]
  },
  {
   "cell_type": "code",
   "execution_count": 207,
   "metadata": {},
   "outputs": [],
   "source": [
    "quality_mask = [np.isfinite(raw_lc['flux']*raw_lc['flux_err'])]"
   ]
  },
  {
   "cell_type": "code",
   "execution_count": 223,
   "metadata": {},
   "outputs": [
    {
     "data": {
      "text/plain": [
       "<AxesSubplot:xlabel='Time - 2457000 [BTJD days]', ylabel='Flux [$\\\\mathrm{e^{-}\\\\,s^{-1}}$]'>"
      ]
     },
     "execution_count": 223,
     "metadata": {},
     "output_type": "execute_result"
    },
    {
     "data": {
      "image/png": "[encoded data removed]",
      "text/plain": [
       "<Figure size 848.5x400 with 1 Axes>"
      ]
     },
     "metadata": {},
     "output_type": "display_data"
    }
   ],
   "source": [
    "raw_lc[quality_mask[0]].plot()"
   ]
  },
  {
   "cell_type": "code",
   "execution_count": 225,
   "metadata": {},
   "outputs": [
    {
     "data": {
      "text/plain": [
       "<AxesSubplot:xlabel='Time - 2457000 [BTJD days]', ylabel='Flux [$\\\\mathrm{e^{-}\\\\,s^{-1}}$]'>"
      ]
     },
     "execution_count": 225,
     "metadata": {},
     "output_type": "execute_result"
    },
    {
     "data": {
      "image/png": "[encoded data removed]",
      "text/plain": [
       "<Figure size 848.5x400 with 1 Axes>"
      ]
     },
     "metadata": {},
     "output_type": "display_data"
    }
   ],
   "source": [
    "raw_lc[np.where(raw_lc.quality == 0)].plot()"
   ]
  },
  {
   "cell_type": "code",
   "execution_count": 228,
   "metadata": {},
   "outputs": [
    {
     "ename": "NameError",
     "evalue": "name 'self' is not defined",
     "output_type": "error",
     "traceback": [
      "\u001b[1;31m---------------------------------------------------------------------------\u001b[0m",
      "\u001b[1;31mNameError\u001b[0m                                 Traceback (most recent call last)",
      "\u001b[1;32m<ipython-input-228-00f740dfca71>\u001b[0m in \u001b[0;36m<module>\u001b[1;34m\u001b[0m\n\u001b[1;32m----> 1\u001b[1;33m \u001b[0mtpf\u001b[0m\u001b[1;33m.\u001b[0m\u001b[0mflux\u001b[0m\u001b[1;33m[\u001b[0m\u001b[1;33m:\u001b[0m\u001b[1;33m,\u001b[0m\u001b[1;33m~\u001b[0m\u001b[0mself\u001b[0m\u001b[1;33m.\u001b[0m\u001b[0mtpf\u001b[0m\u001b[1;33m.\u001b[0m\u001b[0mpipeline_mask\u001b[0m\u001b[1;33m]\u001b[0m\u001b[1;33m[\u001b[0m\u001b[0mnp\u001b[0m\u001b[1;33m.\u001b[0m\u001b[0misfinite\u001b[0m\u001b[1;33m(\u001b[0m\u001b[0mself\u001b[0m\u001b[1;33m.\u001b[0m\u001b[0mraw_lc1\u001b[0m\u001b[1;33m[\u001b[0m\u001b[1;34m'flux'\u001b[0m\u001b[1;33m]\u001b[0m\u001b[1;33m*\u001b[0m\u001b[0mself\u001b[0m\u001b[1;33m.\u001b[0m\u001b[0mraw_lc1\u001b[0m\u001b[1;33m[\u001b[0m\u001b[1;34m'flux_err'\u001b[0m\u001b[1;33m]\u001b[0m\u001b[1;33m)\u001b[0m\u001b[1;33m,\u001b[0m\u001b[1;33m:\u001b[0m\u001b[1;33m]\u001b[0m\u001b[1;33m[\u001b[0m\u001b[0mnp\u001b[0m\u001b[1;33m.\u001b[0m\u001b[0mwhere\u001b[0m\u001b[1;33m(\u001b[0m\u001b[0mself\u001b[0m\u001b[1;33m.\u001b[0m\u001b[0mraw_lc1\u001b[0m\u001b[1;33m[\u001b[0m\u001b[0mself\u001b[0m\u001b[1;33m.\u001b[0m\u001b[0mquality_mask\u001b[0m\u001b[1;33m[\u001b[0m\u001b[1;36m0\u001b[0m\u001b[1;33m]\u001b[0m\u001b[1;33m]\u001b[0m\u001b[1;33m[\u001b[0m\u001b[1;36m0\u001b[0m\u001b[1;33m]\u001b[0m\u001b[1;33m.\u001b[0m\u001b[0mquality\u001b[0m \u001b[1;33m==\u001b[0m\u001b[1;36m0\u001b[0m\u001b[1;33m)\u001b[0m\u001b[1;33m,\u001b[0m\u001b[1;33m:\u001b[0m\u001b[1;33m]\u001b[0m\u001b[1;33m\u001b[0m\u001b[1;33m\u001b[0m\u001b[0m\n\u001b[0m",
      "\u001b[1;31mNameError\u001b[0m: name 'self' is not defined"
     ]
    }
   ],
   "source": [
    "tpf.flux[:,~self.tpf.pipeline_mask][np.isfinite(self.raw_lc1['flux']*self.raw_lc1['flux_err']),:][np.where(self.raw_lc1[self.quality_mask[0]][0].quality ==0),:]"
   ]
  },
  {
   "cell_type": "code",
   "execution_count": 108,
   "metadata": {},
   "outputs": [
    {
     "data": {
      "text/latex": [
       "$[5.2655105,~5.2770557,~5.2631403,~\\dots,~5.2332906,~5.2276025,~5.2288532] \\; \\mathrm{\\frac{e^{-}}{s}}$"
      ],
      "text/plain": [
       "<Quantity [5.26551054, 5.27705569, 5.26314026, ..., 5.23329065, 5.22760246,\n",
       "           5.22885323] electron / s>"
      ]
     },
     "execution_count": 108,
     "metadata": {},
     "output_type": "execute_result"
    }
   ],
   "source": [
    "low.corrected_lc.flux_err"
   ]
  },
  {
   "cell_type": "code",
   "execution_count": 7,
   "metadata": {},
   "outputs": [],
   "source": [
    "data = pd.read_parquet('binaries.parquet')"
   ]
  },
  {
   "cell_type": "code",
   "execution_count": 8,
   "metadata": {},
   "outputs": [
    {
     "ename": "ValueError",
     "evalue": "Need to specify at least one of 'labels', 'index' or 'columns'",
     "output_type": "error",
     "traceback": [
      "\u001b[1;31m---------------------------------------------------------------------------\u001b[0m",
      "\u001b[1;31mValueError\u001b[0m                                Traceback (most recent call last)",
      "\u001b[1;32m<ipython-input-8-82fbb8be3d2d>\u001b[0m in \u001b[0;36m<module>\u001b[1;34m\u001b[0m\n\u001b[0;32m      1\u001b[0m \u001b[0mdata\u001b[0m \u001b[1;33m=\u001b[0m \u001b[0mdata\u001b[0m\u001b[1;33m.\u001b[0m\u001b[0mdropna\u001b[0m\u001b[1;33m(\u001b[0m\u001b[0msubset\u001b[0m\u001b[1;33m=\u001b[0m\u001b[1;33m[\u001b[0m\u001b[1;34m'source_location'\u001b[0m\u001b[1;33m]\u001b[0m\u001b[1;33m)\u001b[0m\u001b[1;33m\u001b[0m\u001b[1;33m\u001b[0m\u001b[0m\n\u001b[1;32m----> 2\u001b[1;33m \u001b[0mdata\u001b[0m \u001b[1;33m=\u001b[0m \u001b[0mdata\u001b[0m\u001b[1;33m.\u001b[0m\u001b[0mdrop\u001b[0m\u001b[1;33m(\u001b[0m\u001b[1;33m)\u001b[0m\u001b[1;33m\u001b[0m\u001b[1;33m\u001b[0m\u001b[0m\n\u001b[0m",
      "\u001b[1;32m~\\anaconda3\\lib\\site-packages\\pandas\\core\\frame.py\u001b[0m in \u001b[0;36mdrop\u001b[1;34m(self, labels, axis, index, columns, level, inplace, errors)\u001b[0m\n\u001b[0;32m   4306\u001b[0m                 \u001b[0mweight\u001b[0m  \u001b[1;36m1.0\u001b[0m     \u001b[1;36m0.8\u001b[0m\u001b[1;33m\u001b[0m\u001b[1;33m\u001b[0m\u001b[0m\n\u001b[0;32m   4307\u001b[0m         \"\"\"\n\u001b[1;32m-> 4308\u001b[1;33m         return super().drop(\n\u001b[0m\u001b[0;32m   4309\u001b[0m             \u001b[0mlabels\u001b[0m\u001b[1;33m=\u001b[0m\u001b[0mlabels\u001b[0m\u001b[1;33m,\u001b[0m\u001b[1;33m\u001b[0m\u001b[1;33m\u001b[0m\u001b[0m\n\u001b[0;32m   4310\u001b[0m             \u001b[0maxis\u001b[0m\u001b[1;33m=\u001b[0m\u001b[0maxis\u001b[0m\u001b[1;33m,\u001b[0m\u001b[1;33m\u001b[0m\u001b[1;33m\u001b[0m\u001b[0m\n",
      "\u001b[1;32m~\\anaconda3\\lib\\site-packages\\pandas\\core\\generic.py\u001b[0m in \u001b[0;36mdrop\u001b[1;34m(self, labels, axis, index, columns, level, inplace, errors)\u001b[0m\n\u001b[0;32m   4143\u001b[0m             \u001b[0maxes\u001b[0m\u001b[1;33m,\u001b[0m \u001b[0m_\u001b[0m \u001b[1;33m=\u001b[0m \u001b[0mself\u001b[0m\u001b[1;33m.\u001b[0m\u001b[0m_construct_axes_from_arguments\u001b[0m\u001b[1;33m(\u001b[0m\u001b[1;33m(\u001b[0m\u001b[0mindex\u001b[0m\u001b[1;33m,\u001b[0m \u001b[0mcolumns\u001b[0m\u001b[1;33m)\u001b[0m\u001b[1;33m,\u001b[0m \u001b[1;33m{\u001b[0m\u001b[1;33m}\u001b[0m\u001b[1;33m)\u001b[0m\u001b[1;33m\u001b[0m\u001b[1;33m\u001b[0m\u001b[0m\n\u001b[0;32m   4144\u001b[0m         \u001b[1;32melse\u001b[0m\u001b[1;33m:\u001b[0m\u001b[1;33m\u001b[0m\u001b[1;33m\u001b[0m\u001b[0m\n\u001b[1;32m-> 4145\u001b[1;33m             raise ValueError(\n\u001b[0m\u001b[0;32m   4146\u001b[0m                 \u001b[1;34m\"Need to specify at least one of 'labels', 'index' or 'columns'\"\u001b[0m\u001b[1;33m\u001b[0m\u001b[1;33m\u001b[0m\u001b[0m\n\u001b[0;32m   4147\u001b[0m             )\n",
      "\u001b[1;31mValueError\u001b[0m: Need to specify at least one of 'labels', 'index' or 'columns'"
     ]
    }
   ],
   "source": [
    "data = data.dropna(subset=['source_location'])\n",
    "data = data.drop()"
   ]
  },
  {
   "cell_type": "code",
   "execution_count": 9,
   "metadata": {},
   "outputs": [],
   "source": [
    "x=np.asarray([i[0] for i in data['source_location']]) - data['x_fit'].values\n",
    "y=np.asarray([i[1] for i in data['source_location']]) - data['y_fit'].values\n",
    "xe=data['x_err'].values\n",
    "ye=data['y_err'].values\n"
   ]
  },
  {
   "cell_type": "code",
   "execution_count": 10,
   "metadata": {},
   "outputs": [
    {
     "data": {
      "text/plain": [
       "<ErrorbarContainer object of 3 artists>"
      ]
     },
     "execution_count": 10,
     "metadata": {},
     "output_type": "execute_result"
    },
    {
     "data": {
      "image/png": "[encoded data removed]",
      "text/plain": [
       "<Figure size 720x720 with 1 Axes>"
      ]
     },
     "metadata": {
      "needs_background": "light"
     },
     "output_type": "display_data"
    }
   ],
   "source": [
    "plt.figure(figsize=(10,10))\n",
    "plt.errorbar(x=x,y=y,xerr=xe,yerr=ye,fmt='.')"
   ]
  },
  {
   "cell_type": "code",
   "execution_count": 65,
   "metadata": {},
   "outputs": [],
   "source": [
    "data2 = data[(data['y_fit']%1<.88)&(data['y_fit']%1>.8)&(data['x_fit']%1<.88)&(data['x_fit']%1>.8)&(data['redchi']<1.5)]"
   ]
  },
  {
   "cell_type": "code",
   "execution_count": 66,
   "metadata": {},
   "outputs": [],
   "source": [
    "x2=np.asarray([i[0] for i in data2['source_location']]) - data2['x_fit'].values\n",
    "y2=np.asarray([i[1] for i in data2['source_location']]) - data2['y_fit'].values\n",
    "xe2=data2['x_err'].values\n",
    "ye2=data2['y_err'].values"
   ]
  },
  {
   "cell_type": "code",
   "execution_count": 67,
   "metadata": {},
   "outputs": [
    {
     "data": {
      "text/plain": [
       "<ErrorbarContainer object of 3 artists>"
      ]
     },
     "execution_count": 67,
     "metadata": {},
     "output_type": "execute_result"
    },
    {
     "data": {
      "image/png": "[encoded data removed]",
      "text/plain": [
       "<Figure size 720x720 with 1 Axes>"
      ]
     },
     "metadata": {
      "needs_background": "light"
     },
     "output_type": "display_data"
    }
   ],
   "source": [
    "plt.figure(figsize=(10,10))\n",
    "plt.xlim(-2,2)\n",
    "plt.ylim(-2,2)\n",
    "plt.errorbar(x=x2,y=y2,xerr=xe2,yerr=ye2,fmt='.')"
   ]
  },
  {
   "cell_type": "code",
   "execution_count": 68,
   "metadata": {},
   "outputs": [
    {
     "data": {
      "text/html": [
       "<div>\n",
       "<style scoped>\n",
       "    .dataframe tbody tr th:only-of-type {\n",
       "        vertical-align: middle;\n",
       "    }\n",
       "\n",
       "    .dataframe tbody tr th {\n",
       "        vertical-align: top;\n",
       "    }\n",
       "\n",
       "    .dataframe thead th {\n",
       "        text-align: right;\n",
       "    }\n",
       "</style>\n",
       "<table border=\"1\" class=\"dataframe\">\n",
       "  <thead>\n",
       "    <tr style=\"text-align: right;\">\n",
       "      <th></th>\n",
       "      <th>sector</th>\n",
       "      <th>TIC</th>\n",
       "      <th>per</th>\n",
       "      <th>harms</th>\n",
       "      <th>source_location</th>\n",
       "      <th>x_fit</th>\n",
       "      <th>y_fit</th>\n",
       "      <th>x_err</th>\n",
       "      <th>y_err</th>\n",
       "      <th>redchi</th>\n",
       "      <th>status</th>\n",
       "    </tr>\n",
       "  </thead>\n",
       "  <tbody>\n",
       "    <tr>\n",
       "      <th>1276</th>\n",
       "      <td>16.0</td>\n",
       "      <td>198457457.0</td>\n",
       "      <td>0.403471</td>\n",
       "      <td>[2.0, 4.0, 3.0, 6.0, 1.0, 8.0, 5.0, 7.0, 12.0,...</td>\n",
       "      <td>[3.960885005280364, 4.860626476264845]</td>\n",
       "      <td>3.874373</td>\n",
       "      <td>4.815925</td>\n",
       "      <td>0.024717</td>\n",
       "      <td>0.022507</td>\n",
       "      <td>1.145616</td>\n",
       "      <td>None</td>\n",
       "    </tr>\n",
       "    <tr>\n",
       "      <th>2355</th>\n",
       "      <td>22.0</td>\n",
       "      <td>392536812.0</td>\n",
       "      <td>0.590996</td>\n",
       "      <td>[2.0, 4.0, 3.0, 8.0, 10.0, 6.0, 1.0, 7.0, 18.0...</td>\n",
       "      <td>[5.923543374789066, 5.841478678635557]</td>\n",
       "      <td>5.846180</td>\n",
       "      <td>5.823539</td>\n",
       "      <td>0.027316</td>\n",
       "      <td>0.032921</td>\n",
       "      <td>1.227708</td>\n",
       "      <td>None</td>\n",
       "    </tr>\n",
       "    <tr>\n",
       "      <th>3282</th>\n",
       "      <td>35.0</td>\n",
       "      <td>1190662.0</td>\n",
       "      <td>0.888174</td>\n",
       "      <td>[2.0, 7.0, 1.0, 9.0, 5.0, 4.0, 12.0, 14.0, 16....</td>\n",
       "      <td>[5.7381278633572, 5.775260426918609]</td>\n",
       "      <td>5.876919</td>\n",
       "      <td>5.811572</td>\n",
       "      <td>0.018246</td>\n",
       "      <td>0.017913</td>\n",
       "      <td>1.326924</td>\n",
       "      <td>None</td>\n",
       "    </tr>\n",
       "    <tr>\n",
       "      <th>3870</th>\n",
       "      <td>6.0</td>\n",
       "      <td>290044434.0</td>\n",
       "      <td>1.085628</td>\n",
       "      <td>[1.0, 391.0, 2.0, 5.0, 3.0, 4.0, 6.0]</td>\n",
       "      <td>[5.477477188441905, 5.5391522369737745]</td>\n",
       "      <td>6.876661</td>\n",
       "      <td>4.835163</td>\n",
       "      <td>0.041275</td>\n",
       "      <td>0.017767</td>\n",
       "      <td>1.276919</td>\n",
       "      <td>None</td>\n",
       "    </tr>\n",
       "  </tbody>\n",
       "</table>\n",
       "</div>"
      ],
      "text/plain": [
       "      sector          TIC       per  \\\n",
       "1276    16.0  198457457.0  0.403471   \n",
       "2355    22.0  392536812.0  0.590996   \n",
       "3282    35.0    1190662.0  0.888174   \n",
       "3870     6.0  290044434.0  1.085628   \n",
       "\n",
       "                                                  harms  \\\n",
       "1276  [2.0, 4.0, 3.0, 6.0, 1.0, 8.0, 5.0, 7.0, 12.0,...   \n",
       "2355  [2.0, 4.0, 3.0, 8.0, 10.0, 6.0, 1.0, 7.0, 18.0...   \n",
       "3282  [2.0, 7.0, 1.0, 9.0, 5.0, 4.0, 12.0, 14.0, 16....   \n",
       "3870              [1.0, 391.0, 2.0, 5.0, 3.0, 4.0, 6.0]   \n",
       "\n",
       "                              source_location     x_fit     y_fit     x_err  \\\n",
       "1276   [3.960885005280364, 4.860626476264845]  3.874373  4.815925  0.024717   \n",
       "2355   [5.923543374789066, 5.841478678635557]  5.846180  5.823539  0.027316   \n",
       "3282     [5.7381278633572, 5.775260426918609]  5.876919  5.811572  0.018246   \n",
       "3870  [5.477477188441905, 5.5391522369737745]  6.876661  4.835163  0.041275   \n",
       "\n",
       "         y_err    redchi status  \n",
       "1276  0.022507  1.145616   None  \n",
       "2355  0.032921  1.227708   None  \n",
       "3282  0.017913  1.326924   None  \n",
       "3870  0.017767  1.276919   None  "
      ]
     },
     "execution_count": 68,
     "metadata": {},
     "output_type": "execute_result"
    }
   ],
   "source": [
    "data2"
   ]
  },
  {
   "cell_type": "code",
   "execution_count": null,
   "metadata": {},
   "outputs": [],
   "source": []
  },
  {
   "cell_type": "code",
   "execution_count": 11,
   "metadata": {},
   "outputs": [
    {
     "data": {
      "text/plain": [
       "(array([   1,    2,    3, ..., 9194, 9195, 9196], dtype=int64),)"
      ]
     },
     "execution_count": 11,
     "metadata": {},
     "output_type": "execute_result"
    }
   ],
   "source": [
    "np.where((abs(x) > 3*abs(xe))&(abs(y) > 3*abs(ye)))"
   ]
  },
  {
   "cell_type": "code",
   "execution_count": 82,
   "metadata": {},
   "outputs": [
    {
     "name": "stderr",
     "output_type": "stream",
     "text": [
      "Warning: 20% (3663/17997) of the cadences will be ignored due to the quality mask (quality_bitmask=175).\n"
     ]
    }
   ],
   "source": [
    "search_result = lk.search_targetpixelfile('TIC{0:d}'.format(int(data['TIC'][3282])),sector = int(data['sector'][3282]))\n",
    "\n",
    "tpf = search_result.download(quality_bitmask='default')"
   ]
  },
  {
   "cell_type": "code",
   "execution_count": 83,
   "metadata": {},
   "outputs": [],
   "source": [
    "freq = (1/data['per'][3282])*data['harms'][3282]"
   ]
  },
  {
   "cell_type": "code",
   "execution_count": 99,
   "metadata": {},
   "outputs": [],
   "source": [
    "freq = [2*(1/data['per'][3282])]"
   ]
  },
  {
   "cell_type": "code",
   "execution_count": 100,
   "metadata": {},
   "outputs": [],
   "source": [
    "test = PixelMapFit(targetpixelfile=tpf, gaia=True,aperture = None, magnitude_limit=18, frequencies=freq, frequnit=1/u.d, principal_components = 3)"
   ]
  },
  {
   "cell_type": "code",
   "execution_count": 101,
   "metadata": {
    "scrolled": false
   },
   "outputs": [
    {
     "name": "stdout",
     "output_type": "stream",
     "text": [
      "    index          ra        dec               source          x          y  \\\n",
      "0      36  136.039852 -16.493865  5729639381075390464   5.734325   5.824128   \n",
      "1      35  136.037487 -16.495490  5729639342419788800   5.965644   6.263133   \n",
      "2      34  136.038927 -16.489141  5729639381075429376   6.264816   5.102679   \n",
      "3      14  136.045067 -16.503837  5729636391778152448   4.111414   7.115005   \n",
      "4      19  136.035319 -16.509630  5729636387482269696   5.139010   8.773715   \n",
      "5      32  136.026335 -16.506093  5729639243636439040   6.814879   8.823395   \n",
      "6      13  136.040532 -16.511378  5729636391778153472   4.191614   8.694241   \n",
      "7      18  136.051533 -16.508163  5729636387482270720   2.759047   7.376124   \n",
      "8      45  136.044563 -16.474197  5729640922967774208   6.622591   2.211213   \n",
      "9      17  136.055088 -16.507680  5729636421842010112   2.250477   7.042788   \n",
      "10     33  136.018389 -16.505175  5729639243636441088   8.115496   9.235681   \n",
      "11      5  136.033954 -16.517128  5729636288698940416   4.733865  10.120347   \n",
      "12     44  136.055242 -16.472883  5729640854248298496   5.083346   1.232702   \n",
      "13     42  136.043658 -16.466988  5729640922967783424   7.354077   1.074196   \n",
      "14     15  136.064554 -16.510381  5729636357418412032   0.568928   6.819759   \n",
      "15     43  136.058850 -16.468164  5729640888608043008   4.914210   0.189500   \n",
      "16     16  136.049008 -16.523433  5729636318762778624   1.894829  10.100435   \n",
      "17     20  136.073542 -16.488870  5729637903606635520   0.948458   2.595534   \n",
      "18     12  136.072672 -16.506727  5729636353122534400  -0.383077   5.633603   \n",
      "19     11  136.067457 -16.514724  5729636357418412032  -0.235321   7.337153   \n",
      "20     39  136.002624 -16.481792  5729639621593406464  12.467077   6.460873   \n",
      "21     52  136.045538 -16.457616  5729641163485964288   7.833655  -0.621447   \n",
      "22      8  136.023588 -16.529407  5729636250043294720   5.323885  12.903964   \n",
      "23     10  136.031167 -16.531500  5729636185619726336   3.983393  12.713795   \n",
      "24     37  135.996896 -16.502511  5729639484154454016  11.648567  10.321081   \n",
      "25      3  136.071641 -16.518575  5729636151259981824  -1.196614   7.681504   \n",
      "26     46  136.072241 -16.466334  5729640991686989824   2.998908  -1.067881   \n",
      "27     31  136.001165 -16.515892  5729639273700285440   9.891196  12.247123   \n",
      "28      4  136.069925 -16.522440  5729636146964087808  -1.249282   8.447656   \n",
      "29     21  136.084547 -16.499143  5729637834887157760  -1.592125   3.525208   \n",
      "30     22  136.085969 -16.496597  5729637864951033856  -1.602538   2.999827   \n",
      "31     28  135.996871 -16.517520  5729638895744080896  10.419533  12.823898   \n",
      "32     27  135.995999 -16.516665  5729638900039093248  10.624222  12.743499   \n",
      "33      6  136.044483 -16.538269  5729636215683547136   1.374502  12.894719   \n",
      "34     24  136.082112 -16.469726  5729638041045584896   1.197869  -1.204489   \n",
      "35     50  136.058919 -16.450940  5729641064702413824   6.317518  -2.685856   \n",
      "36     51  136.030000 -16.448428  5729641236501106688  10.984821  -1.047126   \n",
      "37     25  136.083092 -16.466898  5729638041045584896   1.278777  -1.745538   \n",
      "38     49  136.063572 -16.449706  5729641064702412800   5.700998  -3.222599   \n",
      "39     47  136.074640 -16.455948  5729640995983083520   3.481284  -2.969489   \n",
      "40      0  136.022485 -16.541044  5729635807662606336   4.538220  14.921766   \n",
      "41     38  135.985414 -16.505763  5729639484154455040  13.151869  11.680181   \n",
      "42      9  136.030417 -16.543459  5729636185619727360   3.116978  14.760064   \n",
      "43      7  136.033950 -16.543846  5729636181323802624   2.540615  14.573226   \n",
      "44     26  135.987902 -16.517346  5729638895743161344  11.816660  13.433267   \n",
      "45     40  135.987653 -16.469877  5729640338852227072  15.754607   5.541053   \n",
      "46     54  136.011501 -16.445973  5729641953759961088  14.039895  -0.139731   \n",
      "47     29  135.991931 -16.531434  5729638831319583744  10.038310  15.494054   \n",
      "48     30  135.981360 -16.516127  5729639106197335040  12.925532  13.695723   \n",
      "49     56  136.025900 -16.437586  5729641992415350784  12.507425  -2.562075   \n",
      "50     48  136.089316 -16.456891  5729641026047012864   1.139871  -3.855860   \n",
      "51     53  136.043374 -16.434900  5729641339580320768  10.032429  -4.253174   \n",
      "52     55  136.025862 -16.435560  5729641988119711744  12.679722  -2.896956   \n",
      "53     23  136.094016 -16.459339  5729638071109509120   0.213930  -3.782134   \n",
      "54      2  136.044696 -16.554669  5729635979461296128  -0.004871  15.612681   \n",
      "55      1  136.069080 -16.549040  5729635940805628928  -3.302425  12.941005   \n",
      "56     41  135.999524 -16.443109  5729640480586863616  16.122511   0.235517   \n",
      "\n",
      "      distance  \n",
      "0     0.028224  \n",
      "1     0.195222  \n",
      "2     0.654391  \n",
      "3     4.869231  \n",
      "4     9.272507  \n",
      "5     9.818015  \n",
      "6    11.154131  \n",
      "7    12.283462  \n",
      "8    13.584442  \n",
      "9    14.816841  \n",
      "10   16.525073  \n",
      "11   19.807932  \n",
      "12   21.767775  \n",
      "13   24.685879  \n",
      "14   29.432857  \n",
      "15   32.744863  \n",
      "16   34.331974  \n",
      "17   34.975680  \n",
      "18   39.543111  \n",
      "19   39.954592  \n",
      "20   43.499353  \n",
      "21   45.297784  \n",
      "22   50.434203  \n",
      "23   51.125967  \n",
      "24   53.226464  \n",
      "25   53.838227  \n",
      "26   55.953376  \n",
      "27   57.143846  \n",
      "28   58.019175  \n",
      "29   61.459613  \n",
      "30   64.309252  \n",
      "31   69.377850  \n",
      "32   70.150198  \n",
      "33   70.469920  \n",
      "34   71.557556  \n",
      "35   72.621628  \n",
      "36   73.069745  \n",
      "37   78.703115  \n",
      "38   81.915062  \n",
      "39   83.219475  \n",
      "40   84.596332  \n",
      "41   86.829156  \n",
      "42   87.578172  \n",
      "43   87.817515  \n",
      "44   92.852184  \n",
      "45   97.148773  \n",
      "46  101.808432  \n",
      "47  110.580502  \n",
      "48  111.260393  \n",
      "49  113.984870  \n",
      "50  116.416491  \n",
      "51  118.644678  \n",
      "52  122.020703  \n",
      "53  124.671185  \n",
      "54  130.676795  \n",
      "55  135.352575  \n",
      "56  135.704297  \n",
      "[[Fit Statistics]]\n",
      "    # fitting method   = leastsq\n",
      "    # function evals   = 47\n",
      "    # data points      = 121\n",
      "    # variables        = 4\n",
      "    chi-square         = 180.383782\n",
      "    reduced chi-square = 1.54174173\n",
      "    Akaike info crit   = 56.3148352\n",
      "    Bayesian info crit = 67.4979973\n",
      "[[Variables]]\n",
      "    height0:  1.47866899 +/- 0.09606285 (6.50%) (init = 0.5095477)\n",
      "    x:        5.90231490 +/- 0.04755148 (0.81%) (init = 6)\n",
      "    y:        5.82585579 +/- 0.04429945 (0.76%) (init = 6)\n",
      "    sigma:    0.58915362 +/- 0.03175165 (5.39%) (init = 1)\n",
      "[[Correlations]] (unreported correlations are < 0.100)\n",
      "    C(height0, sigma) =  0.260\n"
     ]
    },
    {
     "data": {
      "image/png": "[encoded data removed]",
      "text/plain": [
       "<Figure size 432x288 with 1 Axes>"
      ]
     },
     "metadata": {
      "needs_background": "light"
     },
     "output_type": "display_data"
    }
   ],
   "source": [
    "test.info()"
   ]
  },
  {
   "cell_type": "code",
   "execution_count": 86,
   "metadata": {},
   "outputs": [
    {
     "data": {
      "text/plain": [
       "<AxesSubplot:title={'center':'Target ID: 1190662, Cadence: 739825'}, xlabel='Pixel Column Number', ylabel='Pixel Row Number'>"
      ]
     },
     "execution_count": 86,
     "metadata": {},
     "output_type": "execute_result"
    },
    {
     "data": {
      "image/png": "[encoded data removed]",
      "text/plain": [
       "<Figure size 848.5x400 with 2 Axes>"
      ]
     },
     "metadata": {},
     "output_type": "display_data"
    }
   ],
   "source": [
    "tpf.plot()"
   ]
  },
  {
   "cell_type": "code",
   "execution_count": 98,
   "metadata": {},
   "outputs": [
    {
     "data": {
      "text/plain": [
       "<matplotlib.image.AxesImage at 0x21446a7b8b0>"
      ]
     },
     "execution_count": 98,
     "metadata": {},
     "output_type": "execute_result"
    },
    {
     "data": {
      "image/png": "[encoded data removed]",
      "text/plain": [
       "<Figure size 432x288 with 1 Axes>"
      ]
     },
     "metadata": {
      "needs_background": "light"
     },
     "output_type": "display_data"
    }
   ],
   "source": [
    "m=9\n",
    "plt.imshow((test.heats[m].reshape(tpf.pipeline_mask.shape))/test.heats_error[m].reshape(tpf.pipeline_mask.shape),origin='lower')\n",
    "#plt.scatter(coords[0][0],coords[0][1])"
   ]
  },
  {
   "cell_type": "code",
   "execution_count": 329,
   "metadata": {},
   "outputs": [
    {
     "data": {
      "text/plain": [
       "array([6.10164541, 7.46083594])"
      ]
     },
     "execution_count": 329,
     "metadata": {},
     "output_type": "execute_result"
    }
   ],
   "source": [
    "header = tpf.get_header()\n",
    "year = ((tpf.time[0].jd - 2457206.375) * u.day).to(u.year)\n",
    "pmra = ((np.nan_to_num(header['PMRA']) * u.milliarcsecond/u.year) * year).to(u.deg).value\n",
    "pmdec = ((np.nan_to_num(header['PMDEC']) * u.milliarcsecond/u.year) * year).to(u.deg).value    \n",
    "radecs = np.vstack([tpf.ra+pmra, tpf.dec+pmdec]).T\n",
    "coords = tpf.wcs.all_world2pix(radecs, 0) \n",
    "coords[0]"
   ]
  },
  {
   "cell_type": "code",
   "execution_count": 54,
   "metadata": {
    "scrolled": false
   },
   "outputs": [
    {
     "data": {
      "image/png": "[encoded data removed]",
      "text/plain": [
       "<Figure size 432x288 with 1 Axes>"
      ]
     },
     "metadata": {
      "needs_background": "light"
     },
     "output_type": "display_data"
    }
   ],
   "source": [
    "plt.hist(data['x_fit']%1,bins=np.linspace(0,1,81));"
   ]
  }
 ],
 "metadata": {
  "kernelspec": {
   "display_name": "Python 3",
   "language": "python",
   "name": "python3"
  },
  "language_info": {
   "codemirror_mode": {
    "name": "ipython",
    "version": 3
   },
   "file_extension": ".py",
   "mimetype": "text/x-python",
   "name": "python",
   "nbconvert_exporter": "python",
   "pygments_lexer": "ipython3",
   "version": "3.8.5"
  }
 },
 "nbformat": 4,
 "nbformat_minor": 4
}
