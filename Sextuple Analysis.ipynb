{
 "cells": [
  {
   "cell_type": "code",
   "execution_count": 120,
   "metadata": {},
   "outputs": [],
   "source": [
    "import Disentangler_Draft as dd\n",
    "import lightkurve as lk\n",
    "import astropy.units as u\n",
    "import matplotlib.pyplot as plt\n",
    "from scipy import stats\n",
    "import numpy as np"
   ]
  },
  {
   "cell_type": "code",
   "execution_count": 2,
   "metadata": {},
   "outputs": [],
   "source": [
    "frequency_list_1 = [0.6369, 1.2738748 , 4.45856181, 6.36937401, 7.00631141]"
   ]
  },
  {
   "cell_type": "code",
   "execution_count": 3,
   "metadata": {},
   "outputs": [],
   "source": [
    "frequency_list_2 = [0.1217, 0.24339455, 0.97357818, 1.21697273,1.46036728, 0.48678909, 1.70376182, 2.19055091]"
   ]
  },
  {
   "cell_type": "code",
   "execution_count": 4,
   "metadata": {},
   "outputs": [],
   "source": [
    "frequency_list_3 = [0.7658, 1.53153077, 6.12612309, 6.89188848]"
   ]
  },
  {
   "cell_type": "code",
   "execution_count": 94,
   "metadata": {},
   "outputs": [],
   "source": [
    "search_result = lk.search_targetpixelfile('TIC168789840',sector = 31)\n",
    "tpf = search_result.download(quality_bitmask='default')"
   ]
  },
  {
   "cell_type": "code",
   "execution_count": 74,
   "metadata": {
    "scrolled": true
   },
   "outputs": [],
   "source": [
    "test1 = dd.PixelMapFit(targetpixelfile=tpf, gaia=True, magnitude_limit=18, frequencies=frequency_list_1, frequnit=1/u.day, principle_components = 4)"
   ]
  },
  {
   "cell_type": "code",
   "execution_count": 75,
   "metadata": {},
   "outputs": [],
   "source": [
    "test2 = dd.PixelMapFit(targetpixelfile=tpf, gaia=True, magnitude_limit=18, frequencies=frequency_list_2, frequnit=1/u.day, principle_components = 4)"
   ]
  },
  {
   "cell_type": "code",
   "execution_count": 76,
   "metadata": {},
   "outputs": [],
   "source": [
    "test3 = dd.PixelMapFit(targetpixelfile=tpf, gaia=True, magnitude_limit=18, frequencies=frequency_list_3, frequnit=1/u.day, principle_components = 4)"
   ]
  },
  {
   "cell_type": "markdown",
   "metadata": {},
   "source": [
    "## First set of frequencies:"
   ]
  },
  {
   "cell_type": "code",
   "execution_count": 77,
   "metadata": {},
   "outputs": [
    {
     "name": "stdout",
     "output_type": "stream",
     "text": [
      "    index         ra        dec               source          x          y  \\\n",
      "0       5  63.520278 -31.922877  4882954370431549824   3.390177   3.331794   \n",
      "1       6  63.531046 -31.922942  4882954370433202432   5.130468   3.328449   \n",
      "2       7  63.501002 -31.912103  4882954645311111424   0.466061   5.371229   \n",
      "3      10  63.539797 -31.905226  4882954782750061952   6.865060   6.716724   \n",
      "4       8  63.504079 -31.898122  4882954645311109888   1.214921   8.041997   \n",
      "5       2  63.551764 -31.923042  4882953648878696064   8.479297   3.326287   \n",
      "6       1  63.538407 -31.948241  4882953545799483520   5.865126  -1.493637   \n",
      "7       9  63.492912 -31.896146  4882954714030587648  -0.556296   8.409255   \n",
      "8       0  63.557434 -31.946734  4882953374000789632   8.968694  -1.190590   \n",
      "9      11  63.536848 -31.883303  4882954885829275904   6.782903  10.898089   \n",
      "10      4  63.573764 -31.913668  4882953992476077824  12.206665   5.132685   \n",
      "11     14  63.458284 -31.901152  4883001511994247040  -6.247891   7.422056   \n",
      "12     15  63.462122 -31.883579  4883001615073460864  -5.312807  10.779256   \n",
      "13      3  63.585752 -31.954152  4882953678941898752  13.412921  -2.584224   \n",
      "14     12  63.550298 -31.869628  4882954988908489344   9.205793  13.518903   \n",
      "15     13  63.511437 -31.860984  4882955126347444864   3.072529  15.135985   \n",
      "\n",
      "      distance  probability  \n",
      "0     0.028422       0.3986  \n",
      "1     3.597294       0.0000  \n",
      "2    12.096846       0.0000  \n",
      "3    25.084002       0.0000  \n",
      "4    26.887375       0.0000  \n",
      "5    27.507996       0.0000  \n",
      "6    29.575395       0.0000  \n",
      "7    40.822700       0.0000  \n",
      "8    52.740985       0.0000  \n",
      "9    70.833076       0.0000  \n",
      "10   83.977165       0.0000  \n",
      "11  107.192416       0.0000  \n",
      "12  129.506729       0.0000  \n",
      "13  137.822035       0.0000  \n",
      "14  140.768307       0.0000  \n",
      "15  140.915872       0.0000  \n",
      "[[Fit Statistics]]\n",
      "    # fitting method   = leastsq\n",
      "    # function evals   = 82\n",
      "    # data points      = 605\n",
      "    # variables        = 8\n",
      "    chi-square         = 7272.77463\n",
      "    reduced chi-square = 12.1822021\n",
      "    Akaike info crit   = 1520.43214\n",
      "    Bayesian info crit = 1555.67397\n",
      "[[Variables]]\n",
      "    height0:  6.12488305 +/- 0.45290880 (7.39%) (init = 8.242484)\n",
      "    height1:  8.87965865 +/- 0.51736352 (5.83%) (init = 10.33846)\n",
      "    height2:  4.06311092 +/- 0.41610745 (10.24%) (init = 4.41208)\n",
      "    height3:  3.05337646 +/- 0.40305635 (13.20%) (init = 3.496958)\n",
      "    height4:  2.32738053 +/- 0.39589446 (17.01%) (init = 2.589082)\n",
      "    x:        3.23483358 +/- 0.02651644 (0.82%) (init = 3)\n",
      "    y:        3.26629542 +/- 0.02074970 (0.64%) (init = 3)\n",
      "    sigma:    0.82890495 +/- 0.01112445 (1.34%) (init = 1)\n",
      "[[Correlations]] (unreported correlations are < 0.100)\n",
      "    C(height1, sigma)   = -0.655\n",
      "    C(height0, sigma)   = -0.516\n",
      "    C(height2, sigma)   = -0.372\n",
      "    C(height0, height1) =  0.350\n",
      "    C(height3, sigma)   = -0.289\n",
      "    C(height1, height2) =  0.253\n",
      "    C(height4, sigma)   = -0.224\n",
      "    C(x, y)             =  0.213\n",
      "    C(height0, height2) =  0.199\n",
      "    C(height1, height3) =  0.196\n",
      "    C(height1, y)       = -0.167\n",
      "    C(height0, height3) =  0.155\n",
      "    C(height1, height4) =  0.152\n",
      "    C(height0, y)       = -0.131\n",
      "    C(height0, height4) =  0.120\n",
      "    C(x, sigma)         =  0.114\n",
      "    C(height2, height3) =  0.112\n"
     ]
    },
    {
     "data": {
      "image/png": "[encoded data removed]",
      "text/plain": [
       "<Figure size 432x288 with 1 Axes>"
      ]
     },
     "metadata": {
      "needs_background": "light"
     },
     "output_type": "display_data"
    }
   ],
   "source": [
    "test1.info()"
   ]
  },
  {
   "cell_type": "markdown",
   "metadata": {},
   "source": [
    "## Second set of frequencies:"
   ]
  },
  {
   "cell_type": "code",
   "execution_count": 78,
   "metadata": {
    "scrolled": false
   },
   "outputs": [
    {
     "name": "stdout",
     "output_type": "stream",
     "text": [
      "    index         ra        dec               source          x          y  \\\n",
      "0       5  63.520278 -31.922877  4882954370431549824   3.390177   3.331794   \n",
      "1       6  63.531046 -31.922942  4882954370433202432   5.130468   3.328449   \n",
      "2       7  63.501002 -31.912103  4882954645311111424   0.466061   5.371229   \n",
      "3      10  63.539797 -31.905226  4882954782750061952   6.865060   6.716724   \n",
      "4       8  63.504079 -31.898122  4882954645311109888   1.214921   8.041997   \n",
      "5       1  63.538407 -31.948241  4882953545799483520   5.865126  -1.493637   \n",
      "6       2  63.551764 -31.923042  4882953648878696064   8.479297   3.326287   \n",
      "7       9  63.492912 -31.896146  4882954714030587648  -0.556296   8.409255   \n",
      "8       0  63.557434 -31.946734  4882953374000789632   8.968694  -1.190590   \n",
      "9      11  63.536848 -31.883303  4882954885829275904   6.782903  10.898089   \n",
      "10      4  63.573764 -31.913668  4882953992476077824  12.206665   5.132685   \n",
      "11     14  63.458284 -31.901152  4883001511994247040  -6.247891   7.422056   \n",
      "12     15  63.462122 -31.883579  4883001615073460864  -5.312807  10.779256   \n",
      "13      3  63.585752 -31.954152  4882953678941898752  13.412921  -2.584224   \n",
      "14     13  63.511437 -31.860984  4882955126347444864   3.072529  15.135985   \n",
      "15     12  63.550298 -31.869628  4882954988908489344   9.205793  13.518903   \n",
      "\n",
      "      distance  probability  \n",
      "0     0.167423     0.000096  \n",
      "1     4.410940     0.000000  \n",
      "2    11.701629     0.000000  \n",
      "3    27.569562     0.000000  \n",
      "4    27.569940     0.000000  \n",
      "5    29.253226     0.000000  \n",
      "6    29.621114     0.000000  \n",
      "7    40.925857     0.000000  \n",
      "8    53.713014     0.000000  \n",
      "9    74.518955     0.000000  \n",
      "10   88.069683     0.000000  \n",
      "11  104.795016     0.000000  \n",
      "12  128.461694     0.000000  \n",
      "13  140.108745     0.000000  \n",
      "14  144.410153     0.000000  \n",
      "15  146.167152     0.000000  \n",
      "[[Fit Statistics]]\n",
      "    # fitting method   = leastsq\n",
      "    # function evals   = 253\n",
      "    # data points      = 968\n",
      "    # variables        = 11\n",
      "    chi-square         = 16381.1574\n",
      "    reduced chi-square = 17.1171968\n",
      "    Akaike info crit   = 2760.13797\n",
      "    Bayesian info crit = 2813.76552\n",
      "[[Variables]]\n",
      "    height0:  2.43838957 +/- 0.57155509 (23.44%) (init = 6.349506)\n",
      "    height1:  6.76117868 +/- 0.64910055 (9.60%) (init = 9.640373)\n",
      "    height2:  4.04328934 +/- 0.59624233 (14.75%) (init = 4.643976)\n",
      "    height3:  6.41273536 +/- 0.63242893 (9.86%) (init = 6.059334)\n",
      "    height4:  4.63553641 +/- 0.60296327 (13.01%) (init = 4.462964)\n",
      "    height5:  4.78030477 +/- 0.60731146 (12.70%) (init = 4.884312)\n",
      "    height6:  4.16007597 +/- 0.59587786 (14.32%) (init = 4.237326)\n",
      "    height7:  3.71297107 +/- 0.59073370 (15.91%) (init = 3.97321)\n",
      "    x:        3.04071955 +/- 0.03312283 (1.09%) (init = 3)\n",
      "    y:        3.11894949 +/- 0.02729056 (0.87%) (init = 3)\n",
      "    sigma:    0.76305959 +/- 0.01313815 (1.72%) (init = 1)\n",
      "[[Correlations]] (unreported correlations are < 0.100)\n",
      "    C(height1, sigma)   = -0.435\n",
      "    C(height3, sigma)   = -0.423\n",
      "    C(height5, sigma)   = -0.328\n",
      "    C(height4, sigma)   = -0.321\n",
      "    C(height6, sigma)   = -0.291\n",
      "    C(height2, sigma)   = -0.283\n",
      "    C(x, sigma)         =  0.271\n",
      "    C(height7, sigma)   = -0.262\n",
      "    C(height1, height3) =  0.190\n",
      "    C(height0, sigma)   = -0.178\n",
      "    C(y, sigma)         =  0.173\n",
      "    C(x, y)             =  0.165\n",
      "    C(height1, height5) =  0.147\n",
      "    C(height1, height4) =  0.144\n",
      "    C(height3, height5) =  0.143\n",
      "    C(height3, height4) =  0.140\n",
      "    C(height1, height6) =  0.130\n",
      "    C(height3, height6) =  0.127\n",
      "    C(height1, height2) =  0.127\n",
      "    C(height2, height3) =  0.123\n",
      "    C(height1, height7) =  0.117\n",
      "    C(height3, height7) =  0.114\n",
      "    C(height4, height5) =  0.109\n"
     ]
    },
    {
     "data": {
      "image/png": "[encoded data removed]",
      "text/plain": [
       "<Figure size 432x288 with 1 Axes>"
      ]
     },
     "metadata": {
      "needs_background": "light"
     },
     "output_type": "display_data"
    }
   ],
   "source": [
    "test2.info()"
   ]
  },
  {
   "cell_type": "markdown",
   "metadata": {},
   "source": [
    "## Third set of frequencies:"
   ]
  },
  {
   "cell_type": "code",
   "execution_count": 79,
   "metadata": {},
   "outputs": [
    {
     "name": "stdout",
     "output_type": "stream",
     "text": [
      "    index         ra        dec               source          x          y  \\\n",
      "0       5  63.520278 -31.922877  4882954370431549824   3.390177   3.331794   \n",
      "1       6  63.531046 -31.922942  4882954370433202432   5.130468   3.328449   \n",
      "2       7  63.501002 -31.912103  4882954645311111424   0.466061   5.371229   \n",
      "3      10  63.539797 -31.905226  4882954782750061952   6.865060   6.716724   \n",
      "4       2  63.551764 -31.923042  4882953648878696064   8.479297   3.326287   \n",
      "5       8  63.504079 -31.898122  4882954645311109888   1.214921   8.041997   \n",
      "6       1  63.538407 -31.948241  4882953545799483520   5.865126  -1.493637   \n",
      "7       9  63.492912 -31.896146  4882954714030587648  -0.556296   8.409255   \n",
      "8       0  63.557434 -31.946734  4882953374000789632   8.968694  -1.190590   \n",
      "9      11  63.536848 -31.883303  4882954885829275904   6.782903  10.898089   \n",
      "10      4  63.573764 -31.913668  4882953992476077824  12.206665   5.132685   \n",
      "11     14  63.458284 -31.901152  4883001511994247040  -6.247891   7.422056   \n",
      "12     15  63.462122 -31.883579  4883001615073460864  -5.312807  10.779256   \n",
      "13      3  63.585752 -31.954152  4882953678941898752  13.412921  -2.584224   \n",
      "14     12  63.550298 -31.869628  4882954988908489344   9.205793  13.518903   \n",
      "15     13  63.511437 -31.860984  4882955126347444864   3.072529  15.135985   \n",
      "\n",
      "      distance  probability  \n",
      "0     0.006212     0.860113  \n",
      "1     3.303988     0.000000  \n",
      "2    12.325107     0.000000  \n",
      "3    24.178562     0.000000  \n",
      "4    26.692589     0.000000  \n",
      "5    26.729582     0.000000  \n",
      "6    29.653643     0.000000  \n",
      "7    40.904139     0.000000  \n",
      "8    52.304616     0.000000  \n",
      "9    69.518906     0.000000  \n",
      "10   82.398288     0.000000  \n",
      "11  108.261100     0.000000  \n",
      "12  130.091111     0.000000  \n",
      "13  136.832997     0.000000  \n",
      "14  138.812020     0.000000  \n",
      "15  139.753167     0.000000  \n",
      "[[Fit Statistics]]\n",
      "    # fitting method   = leastsq\n",
      "    # function evals   = 57\n",
      "    # data points      = 484\n",
      "    # variables        = 7\n",
      "    chi-square         = 1666.32413\n",
      "    reduced chi-square = 3.49334199\n",
      "    Akaike info crit   = 612.364579\n",
      "    Bayesian info crit = 641.639174\n",
      "[[Variables]]\n",
      "    height0:  3.47255727 +/- 0.25081841 (7.22%) (init = 4.151884)\n",
      "    height1:  5.10674031 +/- 0.29489199 (5.77%) (init = 6.193622)\n",
      "    height2:  0.84885891 +/- 0.20705918 (24.39%) (init = 1.242119)\n",
      "    height3:  0.68486938 +/- 0.20591217 (30.07%) (init = 0.7811525)\n",
      "    x:        3.31281877 +/- 0.02767811 (0.84%) (init = 3)\n",
      "    y:        3.31670293 +/- 0.02182772 (0.66%) (init = 3)\n",
      "    sigma:    0.83363482 +/- 0.01188908 (1.43%) (init = 1)\n",
      "[[Correlations]] (unreported correlations are < 0.100)\n",
      "    C(height1, sigma)   = -0.702\n",
      "    C(height0, sigma)   = -0.561\n",
      "    C(height0, height1) =  0.419\n",
      "    C(x, y)             =  0.251\n",
      "    C(height1, y)       = -0.198\n",
      "    C(height2, sigma)   = -0.166\n",
      "    C(height0, y)       = -0.159\n",
      "    C(height3, sigma)   = -0.135\n",
      "    C(height1, height2) =  0.124\n",
      "    C(height1, height3) =  0.101\n"
     ]
    },
    {
     "data": {
      "image/png": "[encoded data removed]",
      "text/plain": [
       "<Figure size 432x288 with 1 Axes>"
      ]
     },
     "metadata": {
      "needs_background": "light"
     },
     "output_type": "display_data"
    }
   ],
   "source": [
    "test3.info()"
   ]
  },
  {
   "cell_type": "code",
   "execution_count": 80,
   "metadata": {},
   "outputs": [],
   "source": [
    "c1 = test1.centroid"
   ]
  },
  {
   "cell_type": "code",
   "execution_count": 81,
   "metadata": {},
   "outputs": [],
   "source": [
    "c2 = test2.centroid"
   ]
  },
  {
   "cell_type": "code",
   "execution_count": 82,
   "metadata": {},
   "outputs": [],
   "source": [
    "c3 = test3.centroid"
   ]
  },
  {
   "cell_type": "code",
   "execution_count": 118,
   "metadata": {},
   "outputs": [
    {
     "data": {
      "text/plain": [
       "0.055537590886618034"
      ]
     },
     "execution_count": 118,
     "metadata": {},
     "output_type": "execute_result"
    }
   ],
   "source": [
    "np.sqrt(test2.result.params['x'].stderr**2 + test2.result.params['y'].stderr**2 + test3.result.params['x'].stderr**2 + test3.result.params['y'].stderr**2)"
   ]
  },
  {
   "cell_type": "code",
   "execution_count": 113,
   "metadata": {},
   "outputs": [
    {
     "data": {
      "text/plain": [
       "0.09285798589286717"
      ]
     },
     "execution_count": 113,
     "metadata": {},
     "output_type": "execute_result"
    }
   ],
   "source": [
    "np.sqrt((c3[0] - c1[0])**2 + (c3[1]-c1[1])**2) "
   ]
  },
  {
   "cell_type": "code",
   "execution_count": 119,
   "metadata": {},
   "outputs": [
    {
     "data": {
      "text/plain": [
       "0.33636944993240847"
      ]
     },
     "execution_count": 119,
     "metadata": {},
     "output_type": "execute_result"
    }
   ],
   "source": [
    "np.sqrt((c2[0] - c3[0])**2 + (c2[1]-c3[1])**2)"
   ]
  },
  {
   "cell_type": "code",
   "execution_count": 84,
   "metadata": {},
   "outputs": [
    {
     "data": {
      "text/plain": [
       "36.0085140562288"
      ]
     },
     "execution_count": 84,
     "metadata": {},
     "output_type": "execute_result"
    }
   ],
   "source": [
    "np.arctan((c2[1]-c3[1])/(c2[0] - c3[0]))*180/np.pi"
   ]
  },
  {
   "cell_type": "code",
   "execution_count": 91,
   "metadata": {},
   "outputs": [
    {
     "data": {
      "text/plain": [
       "<matplotlib.collections.PathCollection at 0x1440e4c2ee0>"
      ]
     },
     "execution_count": 91,
     "metadata": {},
     "output_type": "execute_result"
    },
    {
     "data": {
      "image/png": "[encoded data removed]",
      "text/plain": [
       "<Figure size 432x288 with 1 Axes>"
      ]
     },
     "metadata": {
      "needs_background": "light"
     },
     "output_type": "display_data"
    }
   ],
   "source": [
    "plt.scatter(x=c1[0],y=c1[1],c='black')\n",
    "plt.scatter(x=c2[0],y=c2[1],c='red')\n",
    "plt.scatter(x=c3[0],y=c3[1],c='black')\n",
    "plt.scatter(x=3.390177 , y= 3.331794)"
   ]
  },
  {
   "cell_type": "code",
   "execution_count": 97,
   "metadata": {},
   "outputs": [
    {
     "data": {
      "application/javascript": [
       "\n",
       "(function(root) {\n",
       "  function now() {\n",
       "    return new Date();\n",
       "  }\n",
       "\n",
       "  var force = true;\n",
       "\n",
       "  if (typeof root._bokeh_onload_callbacks === \"undefined\" || force === true) {\n",
       "    root._bokeh_onload_callbacks = [];\n",
       "    root._bokeh_is_loading = undefined;\n",
       "  }\n",
       "\n",
       "  var JS_MIME_TYPE = 'application/javascript';\n",
       "  var HTML_MIME_TYPE = 'text/html';\n",
       "  var EXEC_MIME_TYPE = 'application/vnd.bokehjs_exec.v0+json';\n",
       "  var CLASS_NAME = 'output_bokeh rendered_html';\n",
       "\n",
       "  /**\n",
       "   * Render data to the DOM node\n",
       "   */\n",
       "  function render(props, node) {\n",
       "    var script = document.createElement(\"script\");\n",
       "    node.appendChild(script);\n",
       "  }\n",
       "\n",
       "  /**\n",
       "   * Handle when an output is cleared or removed\n",
       "   */\n",
       "  function handleClearOutput(event, handle) {\n",
       "    var cell = handle.cell;\n",
       "\n",
       "    var id = cell.output_area._bokeh_element_id;\n",
       "    var server_id = cell.output_area._bokeh_server_id;\n",
       "    // Clean up Bokeh references\n",
       "    if (id != null && id in Bokeh.index) {\n",
       "      Bokeh.index[id].model.document.clear();\n",
       "      delete Bokeh.index[id];\n",
       "    }\n",
       "\n",
       "    if (server_id !== undefined) {\n",
       "      // Clean up Bokeh references\n",
       "      var cmd = \"from bokeh.io.state import curstate; print(curstate().uuid_to_server['\" + server_id + \"'].get_sessions()[0].document.roots[0]._id)\";\n",
       "      cell.notebook.kernel.execute(cmd, {\n",
       "        iopub: {\n",
       "          output: function(msg) {\n",
       "            var id = msg.content.text.trim();\n",
       "            if (id in Bokeh.index) {\n",
       "              Bokeh.index[id].model.document.clear();\n",
       "              delete Bokeh.index[id];\n",
       "            }\n",
       "          }\n",
       "        }\n",
       "      });\n",
       "      // Destroy server and session\n",
       "      var cmd = \"import bokeh.io.notebook as ion; ion.destroy_server('\" + server_id + \"')\";\n",
       "      cell.notebook.kernel.execute(cmd);\n",
       "    }\n",
       "  }\n",
       "\n",
       "  /**\n",
       "   * Handle when a new output is added\n",
       "   */\n",
       "  function handleAddOutput(event, handle) {\n",
       "    var output_area = handle.output_area;\n",
       "    var output = handle.output;\n",
       "\n",
       "    // limit handleAddOutput to display_data with EXEC_MIME_TYPE content only\n",
       "    if ((output.output_type != \"display_data\") || (!output.data.hasOwnProperty(EXEC_MIME_TYPE))) {\n",
       "      return\n",
       "    }\n",
       "\n",
       "    var toinsert = output_area.element.find(\".\" + CLASS_NAME.split(' ')[0]);\n",
       "\n",
       "    if (output.metadata[EXEC_MIME_TYPE][\"id\"] !== undefined) {\n",
       "      toinsert[toinsert.length - 1].firstChild.textContent = output.data[JS_MIME_TYPE];\n",
       "      // store reference to embed id on output_area\n",
       "      output_area._bokeh_element_id = output.metadata[EXEC_MIME_TYPE][\"id\"];\n",
       "    }\n",
       "    if (output.metadata[EXEC_MIME_TYPE][\"server_id\"] !== undefined) {\n",
       "      var bk_div = document.createElement(\"div\");\n",
       "      bk_div.innerHTML = output.data[HTML_MIME_TYPE];\n",
       "      var script_attrs = bk_div.children[0].attributes;\n",
       "      for (var i = 0; i < script_attrs.length; i++) {\n",
       "        toinsert[toinsert.length - 1].firstChild.setAttribute(script_attrs[i].name, script_attrs[i].value);\n",
       "        toinsert[toinsert.length - 1].firstChild.textContent = bk_div.children[0].textContent\n",
       "      }\n",
       "      // store reference to server id on output_area\n",
       "      output_area._bokeh_server_id = output.metadata[EXEC_MIME_TYPE][\"server_id\"];\n",
       "    }\n",
       "  }\n",
       "\n",
       "  function register_renderer(events, OutputArea) {\n",
       "\n",
       "    function append_mime(data, metadata, element) {\n",
       "      // create a DOM node to render to\n",
       "      var toinsert = this.create_output_subarea(\n",
       "        metadata,\n",
       "        CLASS_NAME,\n",
       "        EXEC_MIME_TYPE\n",
       "      );\n",
       "      this.keyboard_manager.register_events(toinsert);\n",
       "      // Render to node\n",
       "      var props = {data: data, metadata: metadata[EXEC_MIME_TYPE]};\n",
       "      render(props, toinsert[toinsert.length - 1]);\n",
       "      element.append(toinsert);\n",
       "      return toinsert\n",
       "    }\n",
       "\n",
       "    /* Handle when an output is cleared or removed */\n",
       "    events.on('clear_output.CodeCell', handleClearOutput);\n",
       "    events.on('delete.Cell', handleClearOutput);\n",
       "\n",
       "    /* Handle when a new output is added */\n",
       "    events.on('output_added.OutputArea', handleAddOutput);\n",
       "\n",
       "    /**\n",
       "     * Register the mime type and append_mime function with output_area\n",
       "     */\n",
       "    OutputArea.prototype.register_mime_type(EXEC_MIME_TYPE, append_mime, {\n",
       "      /* Is output safe? */\n",
       "      safe: true,\n",
       "      /* Index of renderer in `output_area.display_order` */\n",
       "      index: 0\n",
       "    });\n",
       "  }\n",
       "\n",
       "  // register the mime type if in Jupyter Notebook environment and previously unregistered\n",
       "  if (root.Jupyter !== undefined) {\n",
       "    var events = require('base/js/events');\n",
       "    var OutputArea = require('notebook/js/outputarea').OutputArea;\n",
       "\n",
       "    if (OutputArea.prototype.mime_types().indexOf(EXEC_MIME_TYPE) == -1) {\n",
       "      register_renderer(events, OutputArea);\n",
       "    }\n",
       "  }\n",
       "\n",
       "  \n",
       "  if (typeof (root._bokeh_timeout) === \"undefined\" || force === true) {\n",
       "    root._bokeh_timeout = Date.now() + 5000;\n",
       "    root._bokeh_failed_load = false;\n",
       "  }\n",
       "\n",
       "  var NB_LOAD_WARNING = {'data': {'text/html':\n",
       "     \"<div style='background-color: #fdd'>\\n\"+\n",
       "     \"<p>\\n\"+\n",
       "     \"BokehJS does not appear to have successfully loaded. If loading BokehJS from CDN, this \\n\"+\n",
       "     \"may be due to a slow or bad network connection. Possible fixes:\\n\"+\n",
       "     \"</p>\\n\"+\n",
       "     \"<ul>\\n\"+\n",
       "     \"<li>re-rerun `output_notebook()` to attempt to load from CDN again, or</li>\\n\"+\n",
       "     \"<li>use INLINE resources instead, as so:</li>\\n\"+\n",
       "     \"</ul>\\n\"+\n",
       "     \"<code>\\n\"+\n",
       "     \"from bokeh.resources import INLINE\\n\"+\n",
       "     \"output_notebook(resources=INLINE)\\n\"+\n",
       "     \"</code>\\n\"+\n",
       "     \"</div>\"}};\n",
       "\n",
       "  function display_loaded() {\n",
       "    var el = document.getElementById(null);\n",
       "    if (el != null) {\n",
       "      el.textContent = \"BokehJS is loading...\";\n",
       "    }\n",
       "    if (root.Bokeh !== undefined) {\n",
       "      if (el != null) {\n",
       "        el.textContent = \"BokehJS \" + root.Bokeh.version + \" successfully loaded.\";\n",
       "      }\n",
       "    } else if (Date.now() < root._bokeh_timeout) {\n",
       "      setTimeout(display_loaded, 100)\n",
       "    }\n",
       "  }\n",
       "\n",
       "\n",
       "  function run_callbacks() {\n",
       "    try {\n",
       "      root._bokeh_onload_callbacks.forEach(function(callback) {\n",
       "        if (callback != null)\n",
       "          callback();\n",
       "      });\n",
       "    } finally {\n",
       "      delete root._bokeh_onload_callbacks\n",
       "    }\n",
       "    console.debug(\"Bokeh: all callbacks have finished\");\n",
       "  }\n",
       "\n",
       "  function load_libs(css_urls, js_urls, callback) {\n",
       "    if (css_urls == null) css_urls = [];\n",
       "    if (js_urls == null) js_urls = [];\n",
       "\n",
       "    root._bokeh_onload_callbacks.push(callback);\n",
       "    if (root._bokeh_is_loading > 0) {\n",
       "      console.debug(\"Bokeh: BokehJS is being loaded, scheduling callback at\", now());\n",
       "      return null;\n",
       "    }\n",
       "    if (js_urls == null || js_urls.length === 0) {\n",
       "      run_callbacks();\n",
       "      return null;\n",
       "    }\n",
       "    console.debug(\"Bokeh: BokehJS not loaded, scheduling load and callback at\", now());\n",
       "    root._bokeh_is_loading = css_urls.length + js_urls.length;\n",
       "\n",
       "    function on_load() {\n",
       "      root._bokeh_is_loading--;\n",
       "      if (root._bokeh_is_loading === 0) {\n",
       "        console.debug(\"Bokeh: all BokehJS libraries/stylesheets loaded\");\n",
       "        run_callbacks()\n",
       "      }\n",
       "    }\n",
       "\n",
       "    function on_error() {\n",
       "      console.error(\"failed to load \" + url);\n",
       "    }\n",
       "\n",
       "    for (var i = 0; i < css_urls.length; i++) {\n",
       "      var url = css_urls[i];\n",
       "      const element = document.createElement(\"link\");\n",
       "      element.onload = on_load;\n",
       "      element.onerror = on_error;\n",
       "      element.rel = \"stylesheet\";\n",
       "      element.type = \"text/css\";\n",
       "      element.href = url;\n",
       "      console.debug(\"Bokeh: injecting link tag for BokehJS stylesheet: \", url);\n",
       "      document.body.appendChild(element);\n",
       "    }\n",
       "\n",
       "    const hashes = {\"https://cdn.bokeh.org/bokeh/release/bokeh-2.2.3.min.js\": \"T2yuo9Oe71Cz/I4X9Ac5+gpEa5a8PpJCDlqKYO0CfAuEszu1JrXLl8YugMqYe3sM\", \"https://cdn.bokeh.org/bokeh/release/bokeh-widgets-2.2.3.min.js\": \"98GDGJ0kOMCUMUePhksaQ/GYgB3+NH9h996V88sh3aOiUNX3N+fLXAtry6xctSZ6\", \"https://cdn.bokeh.org/bokeh/release/bokeh-tables-2.2.3.min.js\": \"89bArO+nlbP3sgakeHjCo1JYxYR5wufVgA3IbUvDY+K7w4zyxJqssu7wVnfeKCq8\"};\n",
       "\n",
       "    for (var i = 0; i < js_urls.length; i++) {\n",
       "      var url = js_urls[i];\n",
       "      var element = document.createElement('script');\n",
       "      element.onload = on_load;\n",
       "      element.onerror = on_error;\n",
       "      element.async = false;\n",
       "      element.src = url;\n",
       "      if (url in hashes) {\n",
       "        element.crossOrigin = \"anonymous\";\n",
       "        element.integrity = \"sha384-\" + hashes[url];\n",
       "      }\n",
       "      console.debug(\"Bokeh: injecting script tag for BokehJS library: \", url);\n",
       "      document.head.appendChild(element);\n",
       "    }\n",
       "  };\n",
       "\n",
       "  function inject_raw_css(css) {\n",
       "    const element = document.createElement(\"style\");\n",
       "    element.appendChild(document.createTextNode(css));\n",
       "    document.body.appendChild(element);\n",
       "  }\n",
       "\n",
       "  \n",
       "  var js_urls = [\"https://cdn.bokeh.org/bokeh/release/bokeh-2.2.3.min.js\", \"https://cdn.bokeh.org/bokeh/release/bokeh-widgets-2.2.3.min.js\", \"https://cdn.bokeh.org/bokeh/release/bokeh-tables-2.2.3.min.js\"];\n",
       "  var css_urls = [];\n",
       "  \n",
       "\n",
       "  var inline_js = [\n",
       "    function(Bokeh) {\n",
       "      Bokeh.set_log_level(\"info\");\n",
       "    },\n",
       "    function(Bokeh) {\n",
       "    \n",
       "    \n",
       "    }\n",
       "  ];\n",
       "\n",
       "  function run_inline_js() {\n",
       "    \n",
       "    if (root.Bokeh !== undefined || force === true) {\n",
       "      \n",
       "    for (var i = 0; i < inline_js.length; i++) {\n",
       "      inline_js[i].call(root, root.Bokeh);\n",
       "    }\n",
       "    } else if (Date.now() < root._bokeh_timeout) {\n",
       "      setTimeout(run_inline_js, 100);\n",
       "    } else if (!root._bokeh_failed_load) {\n",
       "      console.log(\"Bokeh: BokehJS failed to load within specified timeout.\");\n",
       "      root._bokeh_failed_load = true;\n",
       "    } else if (force !== true) {\n",
       "      var cell = $(document.getElementById(null)).parents('.cell').data().cell;\n",
       "      cell.output_area.append_execute_result(NB_LOAD_WARNING)\n",
       "    }\n",
       "\n",
       "  }\n",
       "\n",
       "  if (root._bokeh_is_loading === 0) {\n",
       "    console.debug(\"Bokeh: BokehJS loaded, going straight to plotting\");\n",
       "    run_inline_js();\n",
       "  } else {\n",
       "    load_libs(css_urls, js_urls, function() {\n",
       "      console.debug(\"Bokeh: BokehJS plotting callback run at\", now());\n",
       "      run_inline_js();\n",
       "    });\n",
       "  }\n",
       "}(window));"
      ],
      "application/vnd.bokehjs_load.v0+json": "\n(function(root) {\n  function now() {\n    return new Date();\n  }\n\n  var force = true;\n\n  if (typeof root._bokeh_onload_callbacks === \"undefined\" || force === true) {\n    root._bokeh_onload_callbacks = [];\n    root._bokeh_is_loading = undefined;\n  }\n\n  \n\n  \n  if (typeof (root._bokeh_timeout) === \"undefined\" || force === true) {\n    root._bokeh_timeout = Date.now() + 5000;\n    root._bokeh_failed_load = false;\n  }\n\n  var NB_LOAD_WARNING = {'data': {'text/html':\n     \"<div style='background-color: #fdd'>\\n\"+\n     \"<p>\\n\"+\n     \"BokehJS does not appear to have successfully loaded. If loading BokehJS from CDN, this \\n\"+\n     \"may be due to a slow or bad network connection. Possible fixes:\\n\"+\n     \"</p>\\n\"+\n     \"<ul>\\n\"+\n     \"<li>re-rerun `output_notebook()` to attempt to load from CDN again, or</li>\\n\"+\n     \"<li>use INLINE resources instead, as so:</li>\\n\"+\n     \"</ul>\\n\"+\n     \"<code>\\n\"+\n     \"from bokeh.resources import INLINE\\n\"+\n     \"output_notebook(resources=INLINE)\\n\"+\n     \"</code>\\n\"+\n     \"</div>\"}};\n\n  function display_loaded() {\n    var el = document.getElementById(null);\n    if (el != null) {\n      el.textContent = \"BokehJS is loading...\";\n    }\n    if (root.Bokeh !== undefined) {\n      if (el != null) {\n        el.textContent = \"BokehJS \" + root.Bokeh.version + \" successfully loaded.\";\n      }\n    } else if (Date.now() < root._bokeh_timeout) {\n      setTimeout(display_loaded, 100)\n    }\n  }\n\n\n  function run_callbacks() {\n    try {\n      root._bokeh_onload_callbacks.forEach(function(callback) {\n        if (callback != null)\n          callback();\n      });\n    } finally {\n      delete root._bokeh_onload_callbacks\n    }\n    console.debug(\"Bokeh: all callbacks have finished\");\n  }\n\n  function load_libs(css_urls, js_urls, callback) {\n    if (css_urls == null) css_urls = [];\n    if (js_urls == null) js_urls = [];\n\n    root._bokeh_onload_callbacks.push(callback);\n    if (root._bokeh_is_loading > 0) {\n      console.debug(\"Bokeh: BokehJS is being loaded, scheduling callback at\", now());\n      return null;\n    }\n    if (js_urls == null || js_urls.length === 0) {\n      run_callbacks();\n      return null;\n    }\n    console.debug(\"Bokeh: BokehJS not loaded, scheduling load and callback at\", now());\n    root._bokeh_is_loading = css_urls.length + js_urls.length;\n\n    function on_load() {\n      root._bokeh_is_loading--;\n      if (root._bokeh_is_loading === 0) {\n        console.debug(\"Bokeh: all BokehJS libraries/stylesheets loaded\");\n        run_callbacks()\n      }\n    }\n\n    function on_error() {\n      console.error(\"failed to load \" + url);\n    }\n\n    for (var i = 0; i < css_urls.length; i++) {\n      var url = css_urls[i];\n      const element = document.createElement(\"link\");\n      element.onload = on_load;\n      element.onerror = on_error;\n      element.rel = \"stylesheet\";\n      element.type = \"text/css\";\n      element.href = url;\n      console.debug(\"Bokeh: injecting link tag for BokehJS stylesheet: \", url);\n      document.body.appendChild(element);\n    }\n\n    const hashes = {\"https://cdn.bokeh.org/bokeh/release/bokeh-2.2.3.min.js\": \"T2yuo9Oe71Cz/I4X9Ac5+gpEa5a8PpJCDlqKYO0CfAuEszu1JrXLl8YugMqYe3sM\", \"https://cdn.bokeh.org/bokeh/release/bokeh-widgets-2.2.3.min.js\": \"98GDGJ0kOMCUMUePhksaQ/GYgB3+NH9h996V88sh3aOiUNX3N+fLXAtry6xctSZ6\", \"https://cdn.bokeh.org/bokeh/release/bokeh-tables-2.2.3.min.js\": \"89bArO+nlbP3sgakeHjCo1JYxYR5wufVgA3IbUvDY+K7w4zyxJqssu7wVnfeKCq8\"};\n\n    for (var i = 0; i < js_urls.length; i++) {\n      var url = js_urls[i];\n      var element = document.createElement('script');\n      element.onload = on_load;\n      element.onerror = on_error;\n      element.async = false;\n      element.src = url;\n      if (url in hashes) {\n        element.crossOrigin = \"anonymous\";\n        element.integrity = \"sha384-\" + hashes[url];\n      }\n      console.debug(\"Bokeh: injecting script tag for BokehJS library: \", url);\n      document.head.appendChild(element);\n    }\n  };\n\n  function inject_raw_css(css) {\n    const element = document.createElement(\"style\");\n    element.appendChild(document.createTextNode(css));\n    document.body.appendChild(element);\n  }\n\n  \n  var js_urls = [\"https://cdn.bokeh.org/bokeh/release/bokeh-2.2.3.min.js\", \"https://cdn.bokeh.org/bokeh/release/bokeh-widgets-2.2.3.min.js\", \"https://cdn.bokeh.org/bokeh/release/bokeh-tables-2.2.3.min.js\"];\n  var css_urls = [];\n  \n\n  var inline_js = [\n    function(Bokeh) {\n      Bokeh.set_log_level(\"info\");\n    },\n    function(Bokeh) {\n    \n    \n    }\n  ];\n\n  function run_inline_js() {\n    \n    if (root.Bokeh !== undefined || force === true) {\n      \n    for (var i = 0; i < inline_js.length; i++) {\n      inline_js[i].call(root, root.Bokeh);\n    }\n    } else if (Date.now() < root._bokeh_timeout) {\n      setTimeout(run_inline_js, 100);\n    } else if (!root._bokeh_failed_load) {\n      console.log(\"Bokeh: BokehJS failed to load within specified timeout.\");\n      root._bokeh_failed_load = true;\n    } else if (force !== true) {\n      var cell = $(document.getElementById(null)).parents('.cell').data().cell;\n      cell.output_area.append_execute_result(NB_LOAD_WARNING)\n    }\n\n  }\n\n  if (root._bokeh_is_loading === 0) {\n    console.debug(\"Bokeh: BokehJS loaded, going straight to plotting\");\n    run_inline_js();\n  } else {\n    load_libs(css_urls, js_urls, function() {\n      console.debug(\"Bokeh: BokehJS plotting callback run at\", now());\n      run_inline_js();\n    });\n  }\n}(window));"
     },
     "metadata": {},
     "output_type": "display_data"
    },
    {
     "data": {
      "application/vnd.bokehjs_exec.v0+json": "",
      "text/html": [
       "\n",
       "<script id=\"1353\">\n",
       "  var xhr = new XMLHttpRequest()\n",
       "  xhr.responseType = 'blob';\n",
       "  xhr.open('GET', \"http://localhost:62103/autoload.js?bokeh-autoload-element=1353&bokeh-absolute-url=http://localhost:62103&resources=none\", true);\n",
       "  \n",
       "  xhr.onload = function (event) {\n",
       "    var script = document.createElement('script'),\n",
       "    src = URL.createObjectURL(event.target.response);\n",
       "    script.src = src;\n",
       "    document.body.appendChild(script);\n",
       "  };\n",
       "xhr.send();\n",
       "</script>"
      ]
     },
     "metadata": {
      "application/vnd.bokehjs_exec.v0+json": {
       "server_id": "8d5c21eb1b774352af4506a40e807027"
      }
     },
     "output_type": "display_data"
    }
   ],
   "source": [
    "tpf.interact()"
   ]
  },
  {
   "cell_type": "code",
   "execution_count": 98,
   "metadata": {},
   "outputs": [],
   "source": [
    "from astropy.io import fits"
   ]
  },
  {
   "cell_type": "code",
   "execution_count": 100,
   "metadata": {},
   "outputs": [],
   "source": [
    "hdul = fits.open('tess2019107181901-prf-2-1-row0513-col1069.fits')"
   ]
  },
  {
   "cell_type": "code",
   "execution_count": 112,
   "metadata": {},
   "outputs": [
    {
     "data": {
      "text/plain": [
       "<matplotlib.image.AxesImage at 0x144189f7130>"
      ]
     },
     "execution_count": 112,
     "metadata": {},
     "output_type": "execute_result"
    },
    {
     "data": {
      "image/png": "[encoded data removed]",
      "text/plain": [
       "<Figure size 432x288 with 1 Axes>"
      ]
     },
     "metadata": {
      "needs_background": "light"
     },
     "output_type": "display_data"
    }
   ],
   "source": [
    "plt.imshow(hdul[0].data,origin='lower')"
   ]
  },
  {
   "cell_type": "code",
   "execution_count": 127,
   "metadata": {},
   "outputs": [],
   "source": [
    "search_result = lk.search_targetpixelfile('TIC65144290',sector=7)\n",
    "tpf = search_result.download(quality_bitmask='default')"
   ]
  },
  {
   "cell_type": "code",
   "execution_count": 129,
   "metadata": {},
   "outputs": [],
   "source": [
    "fl = [9.40357461, 18.80714921, 28.21072382, 37.61429843, 47.01787303,56.42144764, 65.82502225]"
   ]
  },
  {
   "cell_type": "code",
   "execution_count": 130,
   "metadata": {},
   "outputs": [],
   "source": [
    "lookat = dd.PixelMapFit(targetpixelfile=tpf, gaia=True, magnitude_limit=18, frequencies=fl, frequnit=u.microhertz, principle_components = 4)"
   ]
  },
  {
   "cell_type": "code",
   "execution_count": 131,
   "metadata": {},
   "outputs": [
    {
     "name": "stdout",
     "output_type": "stream",
     "text": [
      "     index          ra        dec               source         x          y  \\\n",
      "0       80  107.828133 -25.317701  5617205108735832576  8.363533   2.983834   \n",
      "1       99  107.827279 -25.316975  5617205108735832320  8.203991   3.071185   \n",
      "2       97  107.824608 -25.312528  5617205177455073536  7.613644   3.708704   \n",
      "3       90  107.823605 -25.321951  5617205108735602816  7.857291   2.091107   \n",
      "4       94  107.821069 -25.314546  5617205177455078144  7.163223   3.229239   \n",
      "..     ...         ...        ...                  ...       ...        ...   \n",
      "225    229  107.789434 -25.245282  5617209369343152128 -0.527147  13.556602   \n",
      "226    228  107.785936 -25.246770  5617209369343156608 -0.993711  13.167174   \n",
      "227    222  107.761647 -25.262495  5617209231904231296 -4.006465   9.560765   \n",
      "228    227  107.776643 -25.249333  5617209334983427840 -2.291613  12.365458   \n",
      "229    221  107.753058 -25.267601  5617209197544502400 -5.090727   8.361586   \n",
      "\n",
      "       distance    probability  \n",
      "0      0.011440   7.203093e-01  \n",
      "1      0.054547   8.779438e-02  \n",
      "2      1.097652  1.260696e-258  \n",
      "3      1.277635   0.000000e+00  \n",
      "4      1.651575   0.000000e+00  \n",
      "..          ...            ...  \n",
      "225  190.514211   0.000000e+00  \n",
      "226  191.074177   0.000000e+00  \n",
      "227  197.091740   0.000000e+00  \n",
      "228  201.678466   0.000000e+00  \n",
      "229  211.101901   0.000000e+00  \n",
      "\n",
      "[230 rows x 8 columns]\n",
      "[[Fit Statistics]]\n",
      "    # fitting method   = leastsq\n",
      "    # function evals   = 67\n",
      "    # data points      = 847\n",
      "    # variables        = 10\n",
      "    chi-square         = 2052.72320\n",
      "    reduced chi-square = 2.45247694\n",
      "    Akaike info crit   = 769.782936\n",
      "    Bayesian info crit = 817.199943\n",
      "[[Variables]]\n",
      "    height0: -0.06617777 +/- 0.02620844 (39.60%) (init = 0.08361623)\n",
      "    height1: -0.15964001 +/- 0.02651206 (16.61%) (init = 0.06485554)\n",
      "    height2:  0.41000772 +/- 0.02859385 (6.97%) (init = 0.3437731)\n",
      "    height3: -0.58077745 +/- 0.03097618 (5.33%) (init = 0.08431352)\n",
      "    height4:  0.50087131 +/- 0.02977862 (5.95%) (init = 0.4058885)\n",
      "    height5:  0.37430491 +/- 0.02823703 (7.54%) (init = 0.3253495)\n",
      "    height6: -0.25228804 +/- 0.02710097 (10.74%) (init = 0.04648039)\n",
      "    x:        8.43733241 +/- 0.02027503 (0.24%) (init = 8)\n",
      "    y:        3.06125458 +/- 0.02469515 (0.81%) (init = 3)\n",
      "    sigma:    0.62711547 +/- 0.01600909 (2.55%) (init = 1)\n",
      "[[Correlations]] (unreported correlations are < 0.100)\n",
      "    C(height3, sigma)   =  0.537\n",
      "    C(height4, sigma)   = -0.482\n",
      "    C(height2, sigma)   = -0.411\n",
      "    C(height5, sigma)   = -0.380\n",
      "    C(height6, sigma)   =  0.267\n",
      "    C(height3, height4) = -0.259\n",
      "    C(height2, height3) = -0.221\n",
      "    C(height3, height5) = -0.204\n",
      "    C(height2, height4) =  0.198\n",
      "    C(y, sigma)         = -0.195\n",
      "    C(height4, height5) =  0.183\n",
      "    C(height1, sigma)   =  0.173\n",
      "    C(height2, height5) =  0.156\n",
      "    C(height3, height6) =  0.143\n",
      "    C(height4, height6) = -0.129\n",
      "    C(height2, height6) = -0.110\n",
      "    C(x, sigma)         = -0.102\n",
      "    C(height5, height6) = -0.101\n"
     ]
    },
    {
     "data": {
      "image/png": "[encoded data removed]",
      "text/plain": [
       "<Figure size 432x288 with 1 Axes>"
      ]
     },
     "metadata": {
      "needs_background": "light"
     },
     "output_type": "display_data"
    }
   ],
   "source": [
    "lookat.info()"
   ]
  }
 ],
 "metadata": {
  "kernelspec": {
   "display_name": "Python 3",
   "language": "python",
   "name": "python3"
  },
  "language_info": {
   "codemirror_mode": {
    "name": "ipython",
    "version": 3
   },
   "file_extension": ".py",
   "mimetype": "text/x-python",
   "name": "python",
   "nbconvert_exporter": "python",
   "pygments_lexer": "ipython3",
   "version": "3.8.5"
  }
 },
 "nbformat": 4,
 "nbformat_minor": 4
}
