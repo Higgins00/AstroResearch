{
 "cells": [
  {
   "cell_type": "code",
   "execution_count": 116,
   "metadata": {},
   "outputs": [],
   "source": [
    "import Disentangler_Draft as dd\n",
    "import lightkurve as lk\n",
    "import astropy.units as u\n",
    "import matplotlib.pyplot as plt\n",
    "from scipy import stats"
   ]
  },
  {
   "cell_type": "code",
   "execution_count": 109,
   "metadata": {},
   "outputs": [],
   "source": [
    "frequency_list_1 = [0.6369, 1.2738748 , 4.45856181, 6.36937401, 7.00631141]"
   ]
  },
  {
   "cell_type": "code",
   "execution_count": 108,
   "metadata": {},
   "outputs": [],
   "source": [
    "frequency_list_2 = [0.1217, 0.24339455, 0.97357818, 1.21697273,1.46036728, 0.48678909, 1.70376182, 2.19055091]"
   ]
  },
  {
   "cell_type": "code",
   "execution_count": 110,
   "metadata": {},
   "outputs": [],
   "source": [
    "frequency_list_3 = [0.7658, 1.53153077, 6.12612309, 6.89188848]"
   ]
  },
  {
   "cell_type": "code",
   "execution_count": 113,
   "metadata": {},
   "outputs": [],
   "source": [
    "search_result = lk.search_targetpixelfile('TIC168789840',sector = 32)\n",
    "tpf = search_result.download(quality_bitmask='default')"
   ]
  },
  {
   "cell_type": "code",
   "execution_count": 171,
   "metadata": {
    "scrolled": true
   },
   "outputs": [],
   "source": [
    "test = dd.PixelMapFit(targetpixelfile=tpf, gaia=True, magnitude_limit=18, frequencies=frequency_list_2, frequnit=1/u.day, principle_components = 4)"
   ]
  },
  {
   "cell_type": "markdown",
   "metadata": {},
   "source": [
    "## First set of frequencies:"
   ]
  },
  {
   "cell_type": "code",
   "execution_count": 58,
   "metadata": {},
   "outputs": [
    {
     "name": "stdout",
     "output_type": "stream",
     "text": [
      "    index         ra        dec               source          x          y  \\\n",
      "0       5  63.520278 -31.922877  4882954370431549824   3.390177   3.331794   \n",
      "1       6  63.531046 -31.922942  4882954370433202432   5.130468   3.328449   \n",
      "2       7  63.501002 -31.912103  4882954645311111424   0.466061   5.371229   \n",
      "3      10  63.539797 -31.905226  4882954782750061952   6.865060   6.716724   \n",
      "4       2  63.551764 -31.923042  4882953648878696064   8.479297   3.326287   \n",
      "5       8  63.504079 -31.898122  4882954645311109888   1.214921   8.041997   \n",
      "6       1  63.538407 -31.948241  4882953545799483520   5.865126  -1.493637   \n",
      "7       9  63.492912 -31.896146  4882954714030587648  -0.556296   8.409255   \n",
      "8       0  63.557434 -31.946734  4882953374000789632   8.968694  -1.190590   \n",
      "9      11  63.536848 -31.883303  4882954885829275904   6.782903  10.898089   \n",
      "10      4  63.573764 -31.913668  4882953992476077824  12.206665   5.132685   \n",
      "11     14  63.458284 -31.901152  4883001511994247040  -6.247891   7.422056   \n",
      "12     15  63.462122 -31.883579  4883001615073460864  -5.312807  10.779256   \n",
      "13      3  63.585752 -31.954152  4882953678941898752  13.412921  -2.584224   \n",
      "14     12  63.550298 -31.869628  4882954988908489344   9.205793  13.518903   \n",
      "15     13  63.511437 -31.860984  4882955126347444864   3.072529  15.135985   \n",
      "\n",
      "      distance  \n",
      "0     0.006212  \n",
      "1     3.303987  \n",
      "2    12.325107  \n",
      "3    24.178561  \n",
      "4    26.692588  \n",
      "5    26.729582  \n",
      "6    29.653643  \n",
      "7    40.904140  \n",
      "8    52.304615  \n",
      "9    69.518905  \n",
      "10   82.398285  \n",
      "11  108.261102  \n",
      "12  130.091113  \n",
      "13  136.832995  \n",
      "14  138.812018  \n",
      "15  139.753166  \n",
      "[[Fit Statistics]]\n",
      "    # fitting method   = leastsq\n",
      "    # function evals   = 57\n",
      "    # data points      = 484\n",
      "    # variables        = 7\n",
      "    chi-square         = 1666.32411\n",
      "    reduced chi-square = 3.49334196\n",
      "    Akaike info crit   = 612.364575\n",
      "    Bayesian info crit = 641.639169\n",
      "[[Variables]]\n",
      "    height0:  3.47255663 +/- 0.25081839 (7.22%) (init = 4.151884)\n",
      "    height1:  5.10674091 +/- 0.29489199 (5.77%) (init = 6.193621)\n",
      "    height2:  0.84886282 +/- 0.20705925 (24.39%) (init = 1.242124)\n",
      "    height3:  0.68488147 +/- 0.20591231 (30.07%) (init = 0.7811558)\n",
      "    x:        3.31281891 +/- 0.02767811 (0.84%) (init = 3)\n",
      "    y:        3.31670296 +/- 0.02182771 (0.66%) (init = 3)\n",
      "    sigma:    0.83363478 +/- 0.01188907 (1.43%) (init = 1)\n",
      "[[Correlations]] (unreported correlations are < 0.100)\n",
      "    C(height1, sigma)   = -0.702\n",
      "    C(height0, sigma)   = -0.561\n",
      "    C(height0, height1) =  0.419\n",
      "    C(x, y)             =  0.251\n",
      "    C(height1, y)       = -0.198\n",
      "    C(height2, sigma)   = -0.166\n",
      "    C(height0, y)       = -0.159\n",
      "    C(height3, sigma)   = -0.135\n",
      "    C(height1, height2) =  0.124\n",
      "    C(height1, height3) =  0.101\n"
     ]
    },
    {
     "data": {
      "image/png": "[encoded data removed]",
      "text/plain": [
       "<Figure size 432x288 with 1 Axes>"
      ]
     },
     "metadata": {
      "needs_background": "light"
     },
     "output_type": "display_data"
    }
   ],
   "source": [
    "test.info()"
   ]
  },
  {
   "cell_type": "markdown",
   "metadata": {},
   "source": [
    "## Second set of frequencies:"
   ]
  },
  {
   "cell_type": "code",
   "execution_count": 172,
   "metadata": {
    "scrolled": false
   },
   "outputs": [
    {
     "name": "stdout",
     "output_type": "stream",
     "text": [
      "    index         ra        dec               source          x          y  \\\n",
      "0       5  63.520278 -31.922877  4882954370431549824   4.989527   4.129572   \n",
      "1       6  63.531045 -31.922942  4882954370433202432   6.485178   3.418882   \n",
      "2       7  63.501002 -31.912103  4882954645311111424   3.039327   7.159800   \n",
      "3      10  63.539797 -31.905226  4882954782750061952   8.914579   5.772317   \n",
      "4       8  63.504079 -31.898122  4882954645311109888   4.422503   9.266358   \n",
      "5       2  63.551764 -31.923042  4882953648878696064   9.364490   2.055162   \n",
      "6       1  63.538407 -31.948241  4882953545799483520   5.782384  -1.233081   \n",
      "7       9  63.492912 -31.896146  4882954714030587648   3.000958  10.318150   \n",
      "8       0  63.557434 -31.946734  4882953374000789632   8.535196  -2.221567   \n",
      "9      11  63.536848 -31.883303  4882954885829275904  10.001202   9.580442   \n",
      "10      4  63.573763 -31.913668  4882953992476077824  13.069768   2.170121   \n",
      "11     14  63.458284 -31.901152  4883001511994247040  -2.166857  11.741356   \n",
      "12     12  63.550298 -31.869628  4882954988908489344  12.810147  10.961159   \n",
      "13     13  63.511437 -31.860984  4882955126347444864   7.983347  14.915062   \n",
      "14     15  63.462122 -31.883579  4883001615073460864  -0.433553  14.391909   \n",
      "15      3  63.585753 -31.954149  4882953678941898752  11.971624  -5.286525   \n",
      "\n",
      "      distance  \n",
      "0     0.240476  \n",
      "1     4.552224  \n",
      "2    10.801639  \n",
      "3    21.834713  \n",
      "4    25.479626  \n",
      "5    28.274697  \n",
      "6    31.354381  \n",
      "7    39.464956  \n",
      "8    57.708170  \n",
      "9    58.922979  \n",
      "10   77.512945  \n",
      "11  101.126844  \n",
      "12  114.387277  \n",
      "13  126.480509  \n",
      "14  127.894498  \n",
      "15  146.075654  \n",
      "[[Fit Statistics]]\n",
      "    # fitting method   = leastsq\n",
      "    # function evals   = 205\n",
      "    # data points      = 968\n",
      "    # variables        = 11\n",
      "    chi-square         = 9869.81114\n",
      "    reduced chi-square = 10.3132823\n",
      "    Akaike info crit   = 2269.69979\n",
      "    Bayesian info crit = 2323.32734\n",
      "[[Variables]]\n",
      "    height0:  1.88481061 +/- 0.12457578 (6.61%) (init = 2.246118)\n",
      "    height1:  1.49815823 +/- 0.11679726 (7.80%) (init = 3.674167)\n",
      "    height2:  2.40681297 +/- 0.12896529 (5.36%) (init = 4.757872)\n",
      "    height3:  1.62500862 +/- 0.11794541 (7.26%) (init = 3.178531)\n",
      "    height4:  1.46287500 +/- 0.11577994 (7.91%) (init = 3.2892)\n",
      "    height5:  2.71658098 +/- 0.13425681 (4.94%) (init = 4.088542)\n",
      "    height6:  2.43141149 +/- 0.12910342 (5.31%) (init = 4.30783)\n",
      "    height7:  1.81691917 +/- 0.11985602 (6.60%) (init = 3.132435)\n",
      "    x:        4.50742872 +/- 0.01807738 (0.40%) (init = 5)\n",
      "    y:        4.21933810 +/- 0.01992090 (0.47%) (init = 4)\n",
      "    sigma:    1.07805215 +/- 0.01143890 (1.06%) (init = 1)\n",
      "[[Correlations]] (unreported correlations are < 0.100)\n",
      "    C(height5, sigma)   = -0.579\n",
      "    C(height6, sigma)   = -0.539\n",
      "    C(height2, sigma)   = -0.534\n",
      "    C(height7, sigma)   = -0.434\n",
      "    C(height0, sigma)   = -0.433\n",
      "    C(height3, sigma)   = -0.395\n",
      "    C(height1, sigma)   = -0.367\n",
      "    C(height4, sigma)   = -0.362\n",
      "    C(height5, height6) =  0.327\n",
      "    C(height2, height5) =  0.324\n",
      "    C(height2, height6) =  0.302\n",
      "    C(height5, height7) =  0.263\n",
      "    C(height0, height5) =  0.263\n",
      "    C(height5, x)       =  0.246\n",
      "    C(height6, height7) =  0.245\n",
      "    C(height0, height6) =  0.245\n",
      "    C(height2, height7) =  0.243\n",
      "    C(height0, height2) =  0.242\n",
      "    C(height3, height5) =  0.239\n",
      "    C(height6, x)       =  0.229\n",
      "    C(height2, x)       =  0.227\n",
      "    C(x, sigma)         = -0.227\n",
      "    C(height1, height5) =  0.223\n",
      "    C(height3, height6) =  0.223\n",
      "    C(height2, height3) =  0.221\n",
      "    C(height4, height5) =  0.220\n",
      "    C(height1, height6) =  0.207\n",
      "    C(height1, height2) =  0.206\n",
      "    C(height4, height6) =  0.204\n",
      "    C(height2, height4) =  0.202\n",
      "    C(height0, height7) =  0.197\n",
      "    C(height7, x)       =  0.184\n",
      "    C(height0, x)       =  0.184\n",
      "    C(height3, height7) =  0.179\n",
      "    C(height0, height3) =  0.179\n",
      "    C(height3, x)       =  0.167\n",
      "    C(height1, height7) =  0.167\n",
      "    C(height0, height1) =  0.167\n",
      "    C(height4, height7) =  0.164\n",
      "    C(height0, height4) =  0.164\n",
      "    C(height1, x)       =  0.156\n",
      "    C(y, sigma)         =  0.154\n",
      "    C(height4, x)       =  0.154\n",
      "    C(height1, height3) =  0.152\n",
      "    C(height3, height4) =  0.149\n",
      "    C(height1, height4) =  0.139\n",
      "    C(height5, y)       = -0.136\n",
      "    C(height6, y)       = -0.127\n",
      "    C(height2, y)       = -0.125\n",
      "    C(height7, y)       = -0.102\n",
      "    C(height0, y)       = -0.102\n"
     ]
    },
    {
     "data": {
      "image/png": "[encoded data removed]",
      "text/plain": [
       "<Figure size 432x288 with 1 Axes>"
      ]
     },
     "metadata": {
      "needs_background": "light"
     },
     "output_type": "display_data"
    }
   ],
   "source": [
    "test.info()"
   ]
  },
  {
   "cell_type": "markdown",
   "metadata": {},
   "source": [
    "## Third set of frequencies:"
   ]
  },
  {
   "cell_type": "code",
   "execution_count": 107,
   "metadata": {},
   "outputs": [
    {
     "name": "stdout",
     "output_type": "stream",
     "text": [
      "    index         ra        dec               source          x          y  \\\n",
      "0       5  63.520278 -31.922877  4882954370431549824   3.390177   3.331794   \n",
      "1       6  63.531046 -31.922942  4882954370433202432   5.130468   3.328449   \n",
      "2       7  63.501002 -31.912103  4882954645311111424   0.466061   5.371229   \n",
      "3      10  63.539797 -31.905226  4882954782750061952   6.865060   6.716724   \n",
      "4       8  63.504079 -31.898122  4882954645311109888   1.214921   8.041997   \n",
      "5       2  63.551764 -31.923042  4882953648878696064   8.479297   3.326287   \n",
      "6       1  63.538407 -31.948241  4882953545799483520   5.865126  -1.493637   \n",
      "7       9  63.492912 -31.896146  4882954714030587648  -0.556296   8.409255   \n",
      "8       0  63.557434 -31.946734  4882953374000789632   8.968694  -1.190590   \n",
      "9      11  63.536848 -31.883303  4882954885829275904   6.782903  10.898089   \n",
      "10      4  63.573764 -31.913668  4882953992476077824  12.206665   5.132685   \n",
      "11     14  63.458284 -31.901152  4883001511994247040  -6.247891   7.422056   \n",
      "12     15  63.462122 -31.883579  4883001615073460864  -5.312807  10.779256   \n",
      "13      3  63.585752 -31.954152  4882953678941898752  13.412921  -2.584224   \n",
      "14     12  63.550298 -31.869628  4882954988908489344   9.205793  13.518903   \n",
      "15     13  63.511437 -31.860984  4882955126347444864   3.072529  15.135985   \n",
      "\n",
      "      distance  \n",
      "0     0.028422  \n",
      "1     3.597294  \n",
      "2    12.096846  \n",
      "3    25.084003  \n",
      "4    26.887375  \n",
      "5    27.507996  \n",
      "6    29.575396  \n",
      "7    40.822700  \n",
      "8    52.740986  \n",
      "9    70.833077  \n",
      "10   83.977166  \n",
      "11  107.192415  \n",
      "12  129.506728  \n",
      "13  137.822036  \n",
      "14  140.768307  \n",
      "15  140.915872  \n",
      "[[Fit Statistics]]\n",
      "    # fitting method   = leastsq\n",
      "    # function evals   = 82\n",
      "    # data points      = 605\n",
      "    # variables        = 8\n",
      "    chi-square         = 7272.77211\n",
      "    reduced chi-square = 12.1821978\n",
      "    Akaike info crit   = 1520.43193\n",
      "    Bayesian info crit = 1555.67376\n",
      "[[Variables]]\n",
      "    height0:  6.12488394 +/- 0.45290875 (7.39%) (init = 8.242485)\n",
      "    height1:  8.87965892 +/- 0.51736343 (5.83%) (init = 10.33846)\n",
      "    height2:  4.06311103 +/- 0.41610738 (10.24%) (init = 4.412079)\n",
      "    height3:  3.05337695 +/- 0.40305630 (13.20%) (init = 3.496958)\n",
      "    height4:  2.32738208 +/- 0.39589441 (17.01%) (init = 2.589085)\n",
      "    x:        3.23483354 +/- 0.02651644 (0.82%) (init = 3)\n",
      "    y:        3.26629543 +/- 0.02074969 (0.64%) (init = 3)\n",
      "    sigma:    0.82890494 +/- 0.01112445 (1.34%) (init = 1)\n",
      "[[Correlations]] (unreported correlations are < 0.100)\n",
      "    C(height1, sigma)   = -0.655\n",
      "    C(height0, sigma)   = -0.516\n",
      "    C(height2, sigma)   = -0.372\n",
      "    C(height0, height1) =  0.350\n",
      "    C(height3, sigma)   = -0.289\n",
      "    C(height1, height2) =  0.253\n",
      "    C(height4, sigma)   = -0.224\n",
      "    C(x, y)             =  0.213\n",
      "    C(height0, height2) =  0.199\n",
      "    C(height1, height3) =  0.196\n",
      "    C(height1, y)       = -0.167\n",
      "    C(height0, height3) =  0.155\n",
      "    C(height1, height4) =  0.152\n",
      "    C(height0, y)       = -0.131\n",
      "    C(height0, height4) =  0.120\n",
      "    C(x, sigma)         =  0.114\n",
      "    C(height2, height3) =  0.112\n"
     ]
    },
    {
     "data": {
      "image/png": "[encoded data removed]",
      "text/plain": [
       "<Figure size 432x288 with 1 Axes>"
      ]
     },
     "metadata": {
      "needs_background": "light"
     },
     "output_type": "display_data"
    }
   ],
   "source": [
    "test.info()"
   ]
  },
  {
   "cell_type": "code",
   "execution_count": 176,
   "metadata": {},
   "outputs": [
    {
     "data": {
      "text/plain": [
       "0.018077384219741113"
      ]
     },
     "execution_count": 176,
     "metadata": {},
     "output_type": "execute_result"
    }
   ],
   "source": [
    "test.result.params['x'].stderr"
   ]
  }
 ],
 "metadata": {
  "kernelspec": {
   "display_name": "Python 3",
   "language": "python",
   "name": "python3"
  },
  "language_info": {
   "codemirror_mode": {
    "name": "ipython",
    "version": 3
   },
   "file_extension": ".py",
   "mimetype": "text/x-python",
   "name": "python",
   "nbconvert_exporter": "python",
   "pygments_lexer": "ipython3",
   "version": "3.8.5"
  }
 },
 "nbformat": 4,
 "nbformat_minor": 4
}
