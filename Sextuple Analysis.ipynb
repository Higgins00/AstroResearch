{
 "cells": [
  {
   "cell_type": "code",
   "execution_count": 1,
   "metadata": {},
   "outputs": [],
   "source": [
    "import Disentangler_Draft as dd\n",
    "import lightkurve as lk\n",
    "import astropy.units as u\n",
    "import matplotlib.pyplot as plt\n",
    "from scipy import stats"
   ]
  },
  {
   "cell_type": "code",
   "execution_count": 2,
   "metadata": {},
   "outputs": [],
   "source": [
    "frequency_list_1 = [0.6369, 1.2738748 , 4.45856181, 6.36937401, 7.00631141]"
   ]
  },
  {
   "cell_type": "code",
   "execution_count": 3,
   "metadata": {},
   "outputs": [],
   "source": [
    "frequency_list_2 = [0.1217, 0.24339455, 0.97357818, 1.21697273,1.46036728, 0.48678909, 1.70376182, 2.19055091]"
   ]
  },
  {
   "cell_type": "code",
   "execution_count": 4,
   "metadata": {},
   "outputs": [],
   "source": [
    "frequency_list_3 = [0.7658, 1.53153077, 6.12612309, 6.89188848]"
   ]
  },
  {
   "cell_type": "code",
   "execution_count": 5,
   "metadata": {},
   "outputs": [],
   "source": [
    "search_result = lk.search_targetpixelfile('TIC168789840',sector = 32)\n",
    "tpf = search_result.download(quality_bitmask='default')"
   ]
  },
  {
   "cell_type": "code",
   "execution_count": 6,
   "metadata": {
    "scrolled": true
   },
   "outputs": [
    {
     "ename": "NameError",
     "evalue": "name 'distance' is not defined",
     "output_type": "error",
     "traceback": [
      "\u001b[1;31m---------------------------------------------------------------------------\u001b[0m",
      "\u001b[1;31mNameError\u001b[0m                                 Traceback (most recent call last)",
      "\u001b[1;32m<ipython-input-6-568ce2832c54>\u001b[0m in \u001b[0;36m<module>\u001b[1;34m\u001b[0m\n\u001b[1;32m----> 1\u001b[1;33m \u001b[0mtest\u001b[0m \u001b[1;33m=\u001b[0m \u001b[0mdd\u001b[0m\u001b[1;33m.\u001b[0m\u001b[0mPixelMapFit\u001b[0m\u001b[1;33m(\u001b[0m\u001b[0mtargetpixelfile\u001b[0m\u001b[1;33m=\u001b[0m\u001b[0mtpf\u001b[0m\u001b[1;33m,\u001b[0m \u001b[0mgaia\u001b[0m\u001b[1;33m=\u001b[0m\u001b[1;32mTrue\u001b[0m\u001b[1;33m,\u001b[0m \u001b[0mmagnitude_limit\u001b[0m\u001b[1;33m=\u001b[0m\u001b[1;36m18\u001b[0m\u001b[1;33m,\u001b[0m \u001b[0mfrequencies\u001b[0m\u001b[1;33m=\u001b[0m\u001b[0mfrequency_list_2\u001b[0m\u001b[1;33m,\u001b[0m \u001b[0mfrequnit\u001b[0m\u001b[1;33m=\u001b[0m\u001b[1;36m1\u001b[0m\u001b[1;33m/\u001b[0m\u001b[0mu\u001b[0m\u001b[1;33m.\u001b[0m\u001b[0mday\u001b[0m\u001b[1;33m,\u001b[0m \u001b[0mprinciple_components\u001b[0m \u001b[1;33m=\u001b[0m \u001b[1;36m4\u001b[0m\u001b[1;33m)\u001b[0m\u001b[1;33m\u001b[0m\u001b[1;33m\u001b[0m\u001b[0m\n\u001b[0m",
      "\u001b[1;32m~\\AstroResearch\\Disentangler_Draft\\Near_FinalDraft.py\u001b[0m in \u001b[0;36m__init__\u001b[1;34m(self, targetpixelfile, gaia, magnitude_limit, frequencies, frequnit, principle_components, **kwargs)\u001b[0m\n\u001b[0;32m    339\u001b[0m         \u001b[0mfh\u001b[0m \u001b[1;33m=\u001b[0m \u001b[0mfrequency_heatmap\u001b[0m\u001b[1;33m(\u001b[0m\u001b[0mself\u001b[0m\u001b[1;33m.\u001b[0m\u001b[0mtpf\u001b[0m\u001b[1;33m,\u001b[0m\u001b[0mself\u001b[0m\u001b[1;33m.\u001b[0m\u001b[0mheatmap\u001b[0m\u001b[1;33m,\u001b[0m\u001b[0mself\u001b[0m\u001b[1;33m.\u001b[0m\u001b[0mheatmap_error\u001b[0m\u001b[1;33m,\u001b[0m\u001b[0mself\u001b[0m\u001b[1;33m.\u001b[0m\u001b[0mfrequency_list\u001b[0m\u001b[1;33m,\u001b[0m\u001b[0mself\u001b[0m\u001b[1;33m.\u001b[0m\u001b[0mgaiadata\u001b[0m\u001b[1;33m)\u001b[0m\u001b[1;33m\u001b[0m\u001b[1;33m\u001b[0m\u001b[0m\n\u001b[0;32m    340\u001b[0m         \u001b[0mfh\u001b[0m\u001b[1;33m.\u001b[0m\u001b[0mcentroid\u001b[0m\u001b[1;33m(\u001b[0m\u001b[1;33m)\u001b[0m\u001b[1;33m\u001b[0m\u001b[1;33m\u001b[0m\u001b[0m\n\u001b[1;32m--> 341\u001b[1;33m         \u001b[0mfh\u001b[0m\u001b[1;33m.\u001b[0m\u001b[0mstar_list\u001b[0m\u001b[1;33m(\u001b[0m\u001b[1;33m)\u001b[0m\u001b[1;33m\u001b[0m\u001b[1;33m\u001b[0m\u001b[0m\n\u001b[0m\u001b[0;32m    342\u001b[0m         \u001b[0mself\u001b[0m\u001b[1;33m.\u001b[0m\u001b[0mcentroid\u001b[0m \u001b[1;33m=\u001b[0m \u001b[1;33m[\u001b[0m\u001b[0mfh\u001b[0m\u001b[1;33m.\u001b[0m\u001b[0mx\u001b[0m\u001b[1;33m,\u001b[0m\u001b[0mfh\u001b[0m\u001b[1;33m.\u001b[0m\u001b[0my\u001b[0m\u001b[1;33m]\u001b[0m\u001b[1;33m\u001b[0m\u001b[1;33m\u001b[0m\u001b[0m\n\u001b[0;32m    343\u001b[0m         \u001b[0mself\u001b[0m\u001b[1;33m.\u001b[0m\u001b[0mheatmap\u001b[0m \u001b[1;33m=\u001b[0m \u001b[0mself\u001b[0m\u001b[1;33m.\u001b[0m\u001b[0mheatmap\u001b[0m\u001b[1;33m.\u001b[0m\u001b[0msum\u001b[0m\u001b[1;33m(\u001b[0m\u001b[0maxis\u001b[0m\u001b[1;33m=\u001b[0m\u001b[1;36m0\u001b[0m\u001b[1;33m)\u001b[0m\u001b[1;33m.\u001b[0m\u001b[0mreshape\u001b[0m\u001b[1;33m(\u001b[0m\u001b[0mself\u001b[0m\u001b[1;33m.\u001b[0m\u001b[0maperture\u001b[0m\u001b[1;33m.\u001b[0m\u001b[0mshape\u001b[0m\u001b[1;33m[\u001b[0m\u001b[1;36m0\u001b[0m\u001b[1;33m]\u001b[0m\u001b[1;33m,\u001b[0m\u001b[0mself\u001b[0m\u001b[1;33m.\u001b[0m\u001b[0maperture\u001b[0m\u001b[1;33m.\u001b[0m\u001b[0mshape\u001b[0m\u001b[1;33m[\u001b[0m\u001b[1;36m1\u001b[0m\u001b[1;33m]\u001b[0m\u001b[1;33m)\u001b[0m \u001b[1;33m/\u001b[0m \u001b[0mnp\u001b[0m\u001b[1;33m.\u001b[0m\u001b[0msqrt\u001b[0m\u001b[1;33m(\u001b[0m\u001b[1;33m(\u001b[0m\u001b[0mself\u001b[0m\u001b[1;33m.\u001b[0m\u001b[0mheatmap_error\u001b[0m\u001b[1;33m**\u001b[0m\u001b[1;36m2\u001b[0m\u001b[1;33m)\u001b[0m\u001b[1;33m.\u001b[0m\u001b[0msum\u001b[0m\u001b[1;33m(\u001b[0m\u001b[0maxis\u001b[0m\u001b[1;33m=\u001b[0m\u001b[1;36m0\u001b[0m\u001b[1;33m)\u001b[0m\u001b[1;33m)\u001b[0m\u001b[1;33m.\u001b[0m\u001b[0mreshape\u001b[0m\u001b[1;33m(\u001b[0m\u001b[0mself\u001b[0m\u001b[1;33m.\u001b[0m\u001b[0maperture\u001b[0m\u001b[1;33m.\u001b[0m\u001b[0mshape\u001b[0m\u001b[1;33m[\u001b[0m\u001b[1;36m0\u001b[0m\u001b[1;33m]\u001b[0m\u001b[1;33m,\u001b[0m\u001b[0mself\u001b[0m\u001b[1;33m.\u001b[0m\u001b[0maperture\u001b[0m\u001b[1;33m.\u001b[0m\u001b[0mshape\u001b[0m\u001b[1;33m[\u001b[0m\u001b[1;36m1\u001b[0m\u001b[1;33m]\u001b[0m\u001b[1;33m)\u001b[0m\u001b[1;33m\u001b[0m\u001b[1;33m\u001b[0m\u001b[0m\n",
      "\u001b[1;32m~\\AstroResearch\\Disentangler_Draft\\Near_FinalDraft.py\u001b[0m in \u001b[0;36mstar_list\u001b[1;34m(self)\u001b[0m\n\u001b[0;32m    333\u001b[0m                                  \u001b[0my\u001b[0m \u001b[1;33m=\u001b[0m \u001b[0mnp\u001b[0m\u001b[1;33m.\u001b[0m\u001b[0masarray\u001b[0m\u001b[1;33m(\u001b[0m\u001b[0mgaia_data\u001b[0m\u001b[1;33m[\u001b[0m\u001b[1;34m'y'\u001b[0m\u001b[1;33m]\u001b[0m\u001b[1;33m)\u001b[0m\u001b[1;33m,\u001b[0m\u001b[1;33m\u001b[0m\u001b[1;33m\u001b[0m\u001b[0m\n\u001b[0;32m    334\u001b[0m                                  \u001b[0mdistance\u001b[0m \u001b[1;33m=\u001b[0m \u001b[0mnp\u001b[0m\u001b[1;33m.\u001b[0m\u001b[0msquare\u001b[0m\u001b[1;33m(\u001b[0m\u001b[0mself\u001b[0m\u001b[1;33m.\u001b[0m\u001b[0mx\u001b[0m\u001b[1;33m-\u001b[0m\u001b[0mgaia_data\u001b[0m\u001b[1;33m[\u001b[0m\u001b[1;34m'x'\u001b[0m\u001b[1;33m]\u001b[0m\u001b[1;33m)\u001b[0m\u001b[1;33m+\u001b[0m\u001b[0mnp\u001b[0m\u001b[1;33m.\u001b[0m\u001b[0msquare\u001b[0m\u001b[1;33m(\u001b[0m\u001b[0mself\u001b[0m\u001b[1;33m.\u001b[0m\u001b[0my\u001b[0m\u001b[1;33m-\u001b[0m\u001b[0mgaia_data\u001b[0m\u001b[1;33m[\u001b[0m\u001b[1;34m'y'\u001b[0m\u001b[1;33m]\u001b[0m\u001b[1;33m)\u001b[0m\u001b[1;33m,\u001b[0m\u001b[1;33m\u001b[0m\u001b[1;33m\u001b[0m\u001b[0m\n\u001b[1;32m--> 335\u001b[1;33m                                  probability = stats.norm.sf(distance,scale=np.sqrt(self.result.params['x'].stderr**2 +self.result.params['y'].stderr**2 )))\n\u001b[0m\u001b[0;32m    336\u001b[0m                     \u001b[0mstarlist\u001b[0m \u001b[1;33m=\u001b[0m \u001b[0mpd\u001b[0m\u001b[1;33m.\u001b[0m\u001b[0mDataFrame\u001b[0m\u001b[1;33m.\u001b[0m\u001b[0mfrom_dict\u001b[0m\u001b[1;33m(\u001b[0m\u001b[0mstars\u001b[0m\u001b[1;33m)\u001b[0m\u001b[1;33m\u001b[0m\u001b[1;33m\u001b[0m\u001b[0m\n\u001b[0;32m    337\u001b[0m                     \u001b[0mself\u001b[0m\u001b[1;33m.\u001b[0m\u001b[0mstars\u001b[0m \u001b[1;33m=\u001b[0m \u001b[0mstarlist\u001b[0m\u001b[1;33m.\u001b[0m\u001b[0msort_values\u001b[0m\u001b[1;33m(\u001b[0m\u001b[0mby\u001b[0m\u001b[1;33m=\u001b[0m\u001b[1;33m[\u001b[0m\u001b[1;34mr'distance'\u001b[0m\u001b[1;33m]\u001b[0m\u001b[1;33m)\u001b[0m\u001b[1;33m\u001b[0m\u001b[1;33m\u001b[0m\u001b[0m\n",
      "\u001b[1;31mNameError\u001b[0m: name 'distance' is not defined"
     ]
    }
   ],
   "source": [
    "test = dd.PixelMapFit(targetpixelfile=tpf, gaia=True, magnitude_limit=18, frequencies=frequency_list_2, frequnit=1/u.day, principle_components = 4)"
   ]
  },
  {
   "cell_type": "markdown",
   "metadata": {},
   "source": [
    "## First set of frequencies:"
   ]
  },
  {
   "cell_type": "code",
   "execution_count": 58,
   "metadata": {},
   "outputs": [
    {
     "name": "stdout",
     "output_type": "stream",
     "text": [
      "    index         ra        dec               source          x          y  \\\n",
      "0       5  63.520278 -31.922877  4882954370431549824   3.390177   3.331794   \n",
      "1       6  63.531046 -31.922942  4882954370433202432   5.130468   3.328449   \n",
      "2       7  63.501002 -31.912103  4882954645311111424   0.466061   5.371229   \n",
      "3      10  63.539797 -31.905226  4882954782750061952   6.865060   6.716724   \n",
      "4       2  63.551764 -31.923042  4882953648878696064   8.479297   3.326287   \n",
      "5       8  63.504079 -31.898122  4882954645311109888   1.214921   8.041997   \n",
      "6       1  63.538407 -31.948241  4882953545799483520   5.865126  -1.493637   \n",
      "7       9  63.492912 -31.896146  4882954714030587648  -0.556296   8.409255   \n",
      "8       0  63.557434 -31.946734  4882953374000789632   8.968694  -1.190590   \n",
      "9      11  63.536848 -31.883303  4882954885829275904   6.782903  10.898089   \n",
      "10      4  63.573764 -31.913668  4882953992476077824  12.206665   5.132685   \n",
      "11     14  63.458284 -31.901152  4883001511994247040  -6.247891   7.422056   \n",
      "12     15  63.462122 -31.883579  4883001615073460864  -5.312807  10.779256   \n",
      "13      3  63.585752 -31.954152  4882953678941898752  13.412921  -2.584224   \n",
      "14     12  63.550298 -31.869628  4882954988908489344   9.205793  13.518903   \n",
      "15     13  63.511437 -31.860984  4882955126347444864   3.072529  15.135985   \n",
      "\n",
      "      distance  \n",
      "0     0.006212  \n",
      "1     3.303987  \n",
      "2    12.325107  \n",
      "3    24.178561  \n",
      "4    26.692588  \n",
      "5    26.729582  \n",
      "6    29.653643  \n",
      "7    40.904140  \n",
      "8    52.304615  \n",
      "9    69.518905  \n",
      "10   82.398285  \n",
      "11  108.261102  \n",
      "12  130.091113  \n",
      "13  136.832995  \n",
      "14  138.812018  \n",
      "15  139.753166  \n",
      "[[Fit Statistics]]\n",
      "    # fitting method   = leastsq\n",
      "    # function evals   = 57\n",
      "    # data points      = 484\n",
      "    # variables        = 7\n",
      "    chi-square         = 1666.32411\n",
      "    reduced chi-square = 3.49334196\n",
      "    Akaike info crit   = 612.364575\n",
      "    Bayesian info crit = 641.639169\n",
      "[[Variables]]\n",
      "    height0:  3.47255663 +/- 0.25081839 (7.22%) (init = 4.151884)\n",
      "    height1:  5.10674091 +/- 0.29489199 (5.77%) (init = 6.193621)\n",
      "    height2:  0.84886282 +/- 0.20705925 (24.39%) (init = 1.242124)\n",
      "    height3:  0.68488147 +/- 0.20591231 (30.07%) (init = 0.7811558)\n",
      "    x:        3.31281891 +/- 0.02767811 (0.84%) (init = 3)\n",
      "    y:        3.31670296 +/- 0.02182771 (0.66%) (init = 3)\n",
      "    sigma:    0.83363478 +/- 0.01188907 (1.43%) (init = 1)\n",
      "[[Correlations]] (unreported correlations are < 0.100)\n",
      "    C(height1, sigma)   = -0.702\n",
      "    C(height0, sigma)   = -0.561\n",
      "    C(height0, height1) =  0.419\n",
      "    C(x, y)             =  0.251\n",
      "    C(height1, y)       = -0.198\n",
      "    C(height2, sigma)   = -0.166\n",
      "    C(height0, y)       = -0.159\n",
      "    C(height3, sigma)   = -0.135\n",
      "    C(height1, height2) =  0.124\n",
      "    C(height1, height3) =  0.101\n"
     ]
    },
    {
     "data": {
      "image/png": "[encoded data removed]",
      "text/plain": [
       "<Figure size 432x288 with 1 Axes>"
      ]
     },
     "metadata": {
      "needs_background": "light"
     },
     "output_type": "display_data"
    }
   ],
   "source": [
    "test.info()"
   ]
  },
  {
   "cell_type": "markdown",
   "metadata": {},
   "source": [
    "## Second set of frequencies:"
   ]
  },
  {
   "cell_type": "code",
   "execution_count": 7,
   "metadata": {
    "scrolled": false
   },
   "outputs": [
    {
     "ename": "NameError",
     "evalue": "name 'test' is not defined",
     "output_type": "error",
     "traceback": [
      "\u001b[1;31m---------------------------------------------------------------------------\u001b[0m",
      "\u001b[1;31mNameError\u001b[0m                                 Traceback (most recent call last)",
      "\u001b[1;32m<ipython-input-7-a72a0779be47>\u001b[0m in \u001b[0;36m<module>\u001b[1;34m\u001b[0m\n\u001b[1;32m----> 1\u001b[1;33m \u001b[0mtest\u001b[0m\u001b[1;33m.\u001b[0m\u001b[0minfo\u001b[0m\u001b[1;33m(\u001b[0m\u001b[1;33m)\u001b[0m\u001b[1;33m\u001b[0m\u001b[1;33m\u001b[0m\u001b[0m\n\u001b[0m",
      "\u001b[1;31mNameError\u001b[0m: name 'test' is not defined"
     ]
    }
   ],
   "source": [
    "test.info()"
   ]
  },
  {
   "cell_type": "markdown",
   "metadata": {},
   "source": [
    "## Third set of frequencies:"
   ]
  },
  {
   "cell_type": "code",
   "execution_count": 107,
   "metadata": {},
   "outputs": [
    {
     "name": "stdout",
     "output_type": "stream",
     "text": [
      "    index         ra        dec               source          x          y  \\\n",
      "0       5  63.520278 -31.922877  4882954370431549824   3.390177   3.331794   \n",
      "1       6  63.531046 -31.922942  4882954370433202432   5.130468   3.328449   \n",
      "2       7  63.501002 -31.912103  4882954645311111424   0.466061   5.371229   \n",
      "3      10  63.539797 -31.905226  4882954782750061952   6.865060   6.716724   \n",
      "4       8  63.504079 -31.898122  4882954645311109888   1.214921   8.041997   \n",
      "5       2  63.551764 -31.923042  4882953648878696064   8.479297   3.326287   \n",
      "6       1  63.538407 -31.948241  4882953545799483520   5.865126  -1.493637   \n",
      "7       9  63.492912 -31.896146  4882954714030587648  -0.556296   8.409255   \n",
      "8       0  63.557434 -31.946734  4882953374000789632   8.968694  -1.190590   \n",
      "9      11  63.536848 -31.883303  4882954885829275904   6.782903  10.898089   \n",
      "10      4  63.573764 -31.913668  4882953992476077824  12.206665   5.132685   \n",
      "11     14  63.458284 -31.901152  4883001511994247040  -6.247891   7.422056   \n",
      "12     15  63.462122 -31.883579  4883001615073460864  -5.312807  10.779256   \n",
      "13      3  63.585752 -31.954152  4882953678941898752  13.412921  -2.584224   \n",
      "14     12  63.550298 -31.869628  4882954988908489344   9.205793  13.518903   \n",
      "15     13  63.511437 -31.860984  4882955126347444864   3.072529  15.135985   \n",
      "\n",
      "      distance  \n",
      "0     0.028422  \n",
      "1     3.597294  \n",
      "2    12.096846  \n",
      "3    25.084003  \n",
      "4    26.887375  \n",
      "5    27.507996  \n",
      "6    29.575396  \n",
      "7    40.822700  \n",
      "8    52.740986  \n",
      "9    70.833077  \n",
      "10   83.977166  \n",
      "11  107.192415  \n",
      "12  129.506728  \n",
      "13  137.822036  \n",
      "14  140.768307  \n",
      "15  140.915872  \n",
      "[[Fit Statistics]]\n",
      "    # fitting method   = leastsq\n",
      "    # function evals   = 82\n",
      "    # data points      = 605\n",
      "    # variables        = 8\n",
      "    chi-square         = 7272.77211\n",
      "    reduced chi-square = 12.1821978\n",
      "    Akaike info crit   = 1520.43193\n",
      "    Bayesian info crit = 1555.67376\n",
      "[[Variables]]\n",
      "    height0:  6.12488394 +/- 0.45290875 (7.39%) (init = 8.242485)\n",
      "    height1:  8.87965892 +/- 0.51736343 (5.83%) (init = 10.33846)\n",
      "    height2:  4.06311103 +/- 0.41610738 (10.24%) (init = 4.412079)\n",
      "    height3:  3.05337695 +/- 0.40305630 (13.20%) (init = 3.496958)\n",
      "    height4:  2.32738208 +/- 0.39589441 (17.01%) (init = 2.589085)\n",
      "    x:        3.23483354 +/- 0.02651644 (0.82%) (init = 3)\n",
      "    y:        3.26629543 +/- 0.02074969 (0.64%) (init = 3)\n",
      "    sigma:    0.82890494 +/- 0.01112445 (1.34%) (init = 1)\n",
      "[[Correlations]] (unreported correlations are < 0.100)\n",
      "    C(height1, sigma)   = -0.655\n",
      "    C(height0, sigma)   = -0.516\n",
      "    C(height2, sigma)   = -0.372\n",
      "    C(height0, height1) =  0.350\n",
      "    C(height3, sigma)   = -0.289\n",
      "    C(height1, height2) =  0.253\n",
      "    C(height4, sigma)   = -0.224\n",
      "    C(x, y)             =  0.213\n",
      "    C(height0, height2) =  0.199\n",
      "    C(height1, height3) =  0.196\n",
      "    C(height1, y)       = -0.167\n",
      "    C(height0, height3) =  0.155\n",
      "    C(height1, height4) =  0.152\n",
      "    C(height0, y)       = -0.131\n",
      "    C(height0, height4) =  0.120\n",
      "    C(x, sigma)         =  0.114\n",
      "    C(height2, height3) =  0.112\n"
     ]
    },
    {
     "data": {
      "image/png": "[encoded data removed]",
      "text/plain": [
       "<Figure size 432x288 with 1 Axes>"
      ]
     },
     "metadata": {
      "needs_background": "light"
     },
     "output_type": "display_data"
    }
   ],
   "source": [
    "test.info()"
   ]
  },
  {
   "cell_type": "code",
   "execution_count": 176,
   "metadata": {},
   "outputs": [
    {
     "data": {
      "text/plain": [
       "0.018077384219741113"
      ]
     },
     "execution_count": 176,
     "metadata": {},
     "output_type": "execute_result"
    }
   ],
   "source": [
    "test.result.params['x'].stderr"
   ]
  }
 ],
 "metadata": {
  "kernelspec": {
   "display_name": "Python 3",
   "language": "python",
   "name": "python3"
  },
  "language_info": {
   "codemirror_mode": {
    "name": "ipython",
    "version": 3
   },
   "file_extension": ".py",
   "mimetype": "text/x-python",
   "name": "python",
   "nbconvert_exporter": "python",
   "pygments_lexer": "ipython3",
   "version": "3.8.5"
  }
 },
 "nbformat": 4,
 "nbformat_minor": 4
}
