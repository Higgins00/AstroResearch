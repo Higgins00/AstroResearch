{
 "cells": [
  {
   "cell_type": "code",
   "execution_count": 1,
   "metadata": {},
   "outputs": [],
   "source": [
    "import Disentangler_Draft as dd\n",
    "import lightkurve as lk\n",
    "import astropy.units as u\n",
    "import matplotlib.pyplot as plt\n",
    "from scipy import stats"
   ]
  },
  {
   "cell_type": "code",
   "execution_count": 2,
   "metadata": {},
   "outputs": [],
   "source": [
    "frequency_list_1 = [0.6369, 1.2738748 , 4.45856181, 6.36937401, 7.00631141]"
   ]
  },
  {
   "cell_type": "code",
   "execution_count": 3,
   "metadata": {},
   "outputs": [],
   "source": [
    "frequency_list_2 = [0.1217, 0.24339455, 0.97357818, 1.21697273,1.46036728, 0.48678909, 1.70376182, 2.19055091]"
   ]
  },
  {
   "cell_type": "code",
   "execution_count": 4,
   "metadata": {},
   "outputs": [],
   "source": [
    "frequency_list_3 = [0.7658, 1.53153077, 6.12612309, 6.89188848]"
   ]
  },
  {
   "cell_type": "code",
   "execution_count": 5,
   "metadata": {},
   "outputs": [],
   "source": [
    "search_result = lk.search_targetpixelfile('TIC168789840',sector = 32)\n",
    "tpf = search_result.download(quality_bitmask='default')"
   ]
  },
  {
   "cell_type": "code",
   "execution_count": 8,
   "metadata": {
    "scrolled": true
   },
   "outputs": [],
   "source": [
    "test = dd.PixelMapFit(targetpixelfile=tpf, gaia=True, magnitude_limit=18, frequencies=frequency_list_1, frequnit=1/u.day, principle_components = 4)"
   ]
  },
  {
   "cell_type": "markdown",
   "metadata": {},
   "source": [
    "## First set of frequencies:"
   ]
  },
  {
   "cell_type": "code",
   "execution_count": 9,
   "metadata": {},
   "outputs": [
    {
     "name": "stdout",
     "output_type": "stream",
     "text": [
      "    index         ra        dec               source          x          y  \\\n",
      "0       5  63.520278 -31.922877  4882954370431549824   3.390177   3.331794   \n",
      "1       6  63.531046 -31.922942  4882954370433202432   5.130468   3.328449   \n",
      "2       7  63.501002 -31.912103  4882954645311111424   0.466061   5.371229   \n",
      "3      10  63.539797 -31.905226  4882954782750061952   6.865060   6.716724   \n",
      "4       8  63.504079 -31.898122  4882954645311109888   1.214921   8.041997   \n",
      "5       2  63.551764 -31.923042  4882953648878696064   8.479297   3.326287   \n",
      "6       1  63.538407 -31.948241  4882953545799483520   5.865126  -1.493637   \n",
      "7       9  63.492912 -31.896146  4882954714030587648  -0.556296   8.409255   \n",
      "8       0  63.557434 -31.946734  4882953374000789632   8.968694  -1.190590   \n",
      "9      11  63.536848 -31.883303  4882954885829275904   6.782903  10.898089   \n",
      "10      4  63.573764 -31.913668  4882953992476077824  12.206665   5.132685   \n",
      "11     14  63.458284 -31.901152  4883001511994247040  -6.247891   7.422056   \n",
      "12     15  63.462122 -31.883579  4883001615073460864  -5.312807  10.779256   \n",
      "13      3  63.585752 -31.954152  4882953678941898752  13.412921  -2.584224   \n",
      "14     12  63.550298 -31.869628  4882954988908489344   9.205793  13.518903   \n",
      "15     13  63.511437 -31.860984  4882955126347444864   3.072529  15.135985   \n",
      "\n",
      "      distance  probability  \n",
      "0     0.028422       0.1993  \n",
      "1     3.597294       0.0000  \n",
      "2    12.096846       0.0000  \n",
      "3    25.084003       0.0000  \n",
      "4    26.887375       0.0000  \n",
      "5    27.507996       0.0000  \n",
      "6    29.575396       0.0000  \n",
      "7    40.822700       0.0000  \n",
      "8    52.740986       0.0000  \n",
      "9    70.833077       0.0000  \n",
      "10   83.977166       0.0000  \n",
      "11  107.192415       0.0000  \n",
      "12  129.506728       0.0000  \n",
      "13  137.822036       0.0000  \n",
      "14  140.768307       0.0000  \n",
      "15  140.915872       0.0000  \n",
      "[[Fit Statistics]]\n",
      "    # fitting method   = leastsq\n",
      "    # function evals   = 82\n",
      "    # data points      = 605\n",
      "    # variables        = 8\n",
      "    chi-square         = 7272.77421\n",
      "    reduced chi-square = 12.1822014\n",
      "    Akaike info crit   = 1520.43211\n",
      "    Bayesian info crit = 1555.67393\n",
      "[[Variables]]\n",
      "    height0:  6.12488333 +/- 0.45290881 (7.39%) (init = 8.242484)\n",
      "    height1:  8.87965911 +/- 0.51736353 (5.83%) (init = 10.33846)\n",
      "    height2:  4.06311127 +/- 0.41610747 (10.24%) (init = 4.412081)\n",
      "    height3:  3.05337659 +/- 0.40305637 (13.20%) (init = 3.496957)\n",
      "    height4:  2.32738179 +/- 0.39589448 (17.01%) (init = 2.589082)\n",
      "    x:        3.23483354 +/- 0.02651644 (0.82%) (init = 3)\n",
      "    y:        3.26629542 +/- 0.02074970 (0.64%) (init = 3)\n",
      "    sigma:    0.82890493 +/- 0.01112445 (1.34%) (init = 1)\n",
      "[[Correlations]] (unreported correlations are < 0.100)\n",
      "    C(height1, sigma)   = -0.655\n",
      "    C(height0, sigma)   = -0.516\n",
      "    C(height2, sigma)   = -0.372\n",
      "    C(height0, height1) =  0.350\n",
      "    C(height3, sigma)   = -0.289\n",
      "    C(height1, height2) =  0.253\n",
      "    C(height4, sigma)   = -0.224\n",
      "    C(x, y)             =  0.213\n",
      "    C(height0, height2) =  0.199\n",
      "    C(height1, height3) =  0.196\n",
      "    C(height1, y)       = -0.167\n",
      "    C(height0, height3) =  0.155\n",
      "    C(height1, height4) =  0.152\n",
      "    C(height0, y)       = -0.131\n",
      "    C(height0, height4) =  0.120\n",
      "    C(x, sigma)         =  0.114\n",
      "    C(height2, height3) =  0.112\n"
     ]
    },
    {
     "data": {
      "image/png": "[encoded data removed]",
      "text/plain": [
       "<Figure size 432x288 with 1 Axes>"
      ]
     },
     "metadata": {
      "needs_background": "light"
     },
     "output_type": "display_data"
    }
   ],
   "source": [
    "test.info()"
   ]
  },
  {
   "cell_type": "markdown",
   "metadata": {},
   "source": [
    "## Second set of frequencies:"
   ]
  },
  {
   "cell_type": "code",
   "execution_count": 7,
   "metadata": {
    "scrolled": false
   },
   "outputs": [
    {
     "name": "stdout",
     "output_type": "stream",
     "text": [
      "    index         ra        dec               source          x          y  \\\n",
      "0       5  63.520278 -31.922877  4882954370431549824   3.390177   3.331794   \n",
      "1       6  63.531046 -31.922942  4882954370433202432   5.130468   3.328449   \n",
      "2       7  63.501002 -31.912103  4882954645311111424   0.466061   5.371229   \n",
      "3      10  63.539797 -31.905226  4882954782750061952   6.865060   6.716724   \n",
      "4       8  63.504079 -31.898122  4882954645311109888   1.214921   8.041997   \n",
      "5       1  63.538407 -31.948241  4882953545799483520   5.865126  -1.493637   \n",
      "6       2  63.551764 -31.923042  4882953648878696064   8.479297   3.326287   \n",
      "7       9  63.492912 -31.896146  4882954714030587648  -0.556296   8.409255   \n",
      "8       0  63.557434 -31.946734  4882953374000789632   8.968694  -1.190590   \n",
      "9      11  63.536848 -31.883303  4882954885829275904   6.782903  10.898089   \n",
      "10      4  63.573764 -31.913668  4882953992476077824  12.206665   5.132685   \n",
      "11     14  63.458284 -31.901152  4883001511994247040  -6.247891   7.422056   \n",
      "12     15  63.462122 -31.883579  4883001615073460864  -5.312807  10.779256   \n",
      "13      3  63.585752 -31.954152  4882953678941898752  13.412921  -2.584224   \n",
      "14     13  63.511437 -31.860984  4882955126347444864   3.072529  15.135985   \n",
      "15     12  63.550298 -31.869628  4882954988908489344   9.205793  13.518903   \n",
      "\n",
      "      distance  probability  \n",
      "0     0.167423     0.000048  \n",
      "1     4.410940     0.000000  \n",
      "2    11.701628     0.000000  \n",
      "3    27.569563     0.000000  \n",
      "4    27.569939     0.000000  \n",
      "5    29.253228     0.000000  \n",
      "6    29.621115     0.000000  \n",
      "7    40.925855     0.000000  \n",
      "8    53.713016     0.000000  \n",
      "9    74.518955     0.000000  \n",
      "10   88.069685     0.000000  \n",
      "11  104.795013     0.000000  \n",
      "12  128.461691     0.000000  \n",
      "13  140.108748     0.000000  \n",
      "14  144.410152     0.000000  \n",
      "15  146.167152     0.000000  \n",
      "[[Fit Statistics]]\n",
      "    # fitting method   = leastsq\n",
      "    # function evals   = 253\n",
      "    # data points      = 968\n",
      "    # variables        = 11\n",
      "    chi-square         = 16381.1586\n",
      "    reduced chi-square = 17.1171981\n",
      "    Akaike info crit   = 2760.13804\n",
      "    Bayesian info crit = 2813.76559\n",
      "[[Variables]]\n",
      "    height0:  2.43838570 +/- 0.57155498 (23.44%) (init = 6.349501)\n",
      "    height1:  6.76117894 +/- 0.64910050 (9.60%) (init = 9.640374)\n",
      "    height2:  4.04329320 +/- 0.59624229 (14.75%) (init = 4.643976)\n",
      "    height3:  6.41273285 +/- 0.63242883 (9.86%) (init = 6.059333)\n",
      "    height4:  4.63553594 +/- 0.60296322 (13.01%) (init = 4.462964)\n",
      "    height5:  4.78030477 +/- 0.60731140 (12.70%) (init = 4.884311)\n",
      "    height6:  4.16007446 +/- 0.59587779 (14.32%) (init = 4.237325)\n",
      "    height7:  3.71296914 +/- 0.59073361 (15.91%) (init = 3.973208)\n",
      "    x:        3.04071944 +/- 0.03312283 (1.09%) (init = 3)\n",
      "    y:        3.11894955 +/- 0.02729056 (0.87%) (init = 3)\n",
      "    sigma:    0.76305964 +/- 0.01313815 (1.72%) (init = 1)\n",
      "[[Correlations]] (unreported correlations are < 0.100)\n",
      "    C(height1, sigma)   = -0.435\n",
      "    C(height3, sigma)   = -0.423\n",
      "    C(height5, sigma)   = -0.328\n",
      "    C(height4, sigma)   = -0.321\n",
      "    C(height6, sigma)   = -0.291\n",
      "    C(height2, sigma)   = -0.283\n",
      "    C(x, sigma)         =  0.271\n",
      "    C(height7, sigma)   = -0.262\n",
      "    C(height1, height3) =  0.190\n",
      "    C(height0, sigma)   = -0.178\n",
      "    C(y, sigma)         =  0.173\n",
      "    C(x, y)             =  0.165\n",
      "    C(height1, height5) =  0.147\n",
      "    C(height1, height4) =  0.144\n",
      "    C(height3, height5) =  0.143\n",
      "    C(height3, height4) =  0.140\n",
      "    C(height1, height6) =  0.130\n",
      "    C(height3, height6) =  0.127\n",
      "    C(height1, height2) =  0.127\n",
      "    C(height2, height3) =  0.123\n",
      "    C(height1, height7) =  0.117\n",
      "    C(height3, height7) =  0.114\n",
      "    C(height4, height5) =  0.109\n"
     ]
    },
    {
     "data": {
      "image/png": "[encoded data removed]",
      "text/plain": [
       "<Figure size 432x288 with 1 Axes>"
      ]
     },
     "metadata": {
      "needs_background": "light"
     },
     "output_type": "display_data"
    }
   ],
   "source": [
    "test.info()"
   ]
  },
  {
   "cell_type": "markdown",
   "metadata": {},
   "source": [
    "## Third set of frequencies:"
   ]
  },
  {
   "cell_type": "code",
   "execution_count": 107,
   "metadata": {},
   "outputs": [
    {
     "name": "stdout",
     "output_type": "stream",
     "text": [
      "    index         ra        dec               source          x          y  \\\n",
      "0       5  63.520278 -31.922877  4882954370431549824   3.390177   3.331794   \n",
      "1       6  63.531046 -31.922942  4882954370433202432   5.130468   3.328449   \n",
      "2       7  63.501002 -31.912103  4882954645311111424   0.466061   5.371229   \n",
      "3      10  63.539797 -31.905226  4882954782750061952   6.865060   6.716724   \n",
      "4       8  63.504079 -31.898122  4882954645311109888   1.214921   8.041997   \n",
      "5       2  63.551764 -31.923042  4882953648878696064   8.479297   3.326287   \n",
      "6       1  63.538407 -31.948241  4882953545799483520   5.865126  -1.493637   \n",
      "7       9  63.492912 -31.896146  4882954714030587648  -0.556296   8.409255   \n",
      "8       0  63.557434 -31.946734  4882953374000789632   8.968694  -1.190590   \n",
      "9      11  63.536848 -31.883303  4882954885829275904   6.782903  10.898089   \n",
      "10      4  63.573764 -31.913668  4882953992476077824  12.206665   5.132685   \n",
      "11     14  63.458284 -31.901152  4883001511994247040  -6.247891   7.422056   \n",
      "12     15  63.462122 -31.883579  4883001615073460864  -5.312807  10.779256   \n",
      "13      3  63.585752 -31.954152  4882953678941898752  13.412921  -2.584224   \n",
      "14     12  63.550298 -31.869628  4882954988908489344   9.205793  13.518903   \n",
      "15     13  63.511437 -31.860984  4882955126347444864   3.072529  15.135985   \n",
      "\n",
      "      distance  \n",
      "0     0.028422  \n",
      "1     3.597294  \n",
      "2    12.096846  \n",
      "3    25.084003  \n",
      "4    26.887375  \n",
      "5    27.507996  \n",
      "6    29.575396  \n",
      "7    40.822700  \n",
      "8    52.740986  \n",
      "9    70.833077  \n",
      "10   83.977166  \n",
      "11  107.192415  \n",
      "12  129.506728  \n",
      "13  137.822036  \n",
      "14  140.768307  \n",
      "15  140.915872  \n",
      "[[Fit Statistics]]\n",
      "    # fitting method   = leastsq\n",
      "    # function evals   = 82\n",
      "    # data points      = 605\n",
      "    # variables        = 8\n",
      "    chi-square         = 7272.77211\n",
      "    reduced chi-square = 12.1821978\n",
      "    Akaike info crit   = 1520.43193\n",
      "    Bayesian info crit = 1555.67376\n",
      "[[Variables]]\n",
      "    height0:  6.12488394 +/- 0.45290875 (7.39%) (init = 8.242485)\n",
      "    height1:  8.87965892 +/- 0.51736343 (5.83%) (init = 10.33846)\n",
      "    height2:  4.06311103 +/- 0.41610738 (10.24%) (init = 4.412079)\n",
      "    height3:  3.05337695 +/- 0.40305630 (13.20%) (init = 3.496958)\n",
      "    height4:  2.32738208 +/- 0.39589441 (17.01%) (init = 2.589085)\n",
      "    x:        3.23483354 +/- 0.02651644 (0.82%) (init = 3)\n",
      "    y:        3.26629543 +/- 0.02074969 (0.64%) (init = 3)\n",
      "    sigma:    0.82890494 +/- 0.01112445 (1.34%) (init = 1)\n",
      "[[Correlations]] (unreported correlations are < 0.100)\n",
      "    C(height1, sigma)   = -0.655\n",
      "    C(height0, sigma)   = -0.516\n",
      "    C(height2, sigma)   = -0.372\n",
      "    C(height0, height1) =  0.350\n",
      "    C(height3, sigma)   = -0.289\n",
      "    C(height1, height2) =  0.253\n",
      "    C(height4, sigma)   = -0.224\n",
      "    C(x, y)             =  0.213\n",
      "    C(height0, height2) =  0.199\n",
      "    C(height1, height3) =  0.196\n",
      "    C(height1, y)       = -0.167\n",
      "    C(height0, height3) =  0.155\n",
      "    C(height1, height4) =  0.152\n",
      "    C(height0, y)       = -0.131\n",
      "    C(height0, height4) =  0.120\n",
      "    C(x, sigma)         =  0.114\n",
      "    C(height2, height3) =  0.112\n"
     ]
    },
    {
     "data": {
      "image/png": "[encoded data removed]",
      "text/plain": [
       "<Figure size 432x288 with 1 Axes>"
      ]
     },
     "metadata": {
      "needs_background": "light"
     },
     "output_type": "display_data"
    }
   ],
   "source": [
    "test.info()"
   ]
  },
  {
   "cell_type": "code",
   "execution_count": 176,
   "metadata": {},
   "outputs": [
    {
     "data": {
      "text/plain": [
       "0.018077384219741113"
      ]
     },
     "execution_count": 176,
     "metadata": {},
     "output_type": "execute_result"
    }
   ],
   "source": [
    "test.result.params['x'].stderr"
   ]
  }
 ],
 "metadata": {
  "kernelspec": {
   "display_name": "Python 3",
   "language": "python",
   "name": "python3"
  },
  "language_info": {
   "codemirror_mode": {
    "name": "ipython",
    "version": 3
   },
   "file_extension": ".py",
   "mimetype": "text/x-python",
   "name": "python",
   "nbconvert_exporter": "python",
   "pygments_lexer": "ipython3",
   "version": "3.8.5"
  }
 },
 "nbformat": 4,
 "nbformat_minor": 4
}
