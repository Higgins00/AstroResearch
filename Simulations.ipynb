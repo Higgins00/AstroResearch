{
 "cells": [
  {
   "cell_type": "code",
   "execution_count": 43,
   "metadata": {},
   "outputs": [],
   "source": [
    "import numpy as np\n",
    "import matplotlib.pyplot as plt\n",
    "import pandas as pd\n",
    "import scipy as sp\n",
    "import lightkurve as lk\n",
    "from scipy import stats\n",
    "from photutils import centroids as cent\n",
    "import scipy.optimize as opt\n",
    "from tqdm import tqdm_notebook\n",
    "import pandas as pd"
   ]
  },
  {
   "cell_type": "code",
   "execution_count": 2,
   "metadata": {},
   "outputs": [],
   "source": [
    "def Simulate_Image(imageshape=(11,11),star1pos = [5,5],star1flux = 1000 , freq=10):\n",
    "\n",
    "    time = np.arange(1000)*1./48.\n",
    "    relamp = 1\n",
    "    signal = relamp * np.sin(time*freq*2*np.pi)\n",
    "\n",
    "    #Images\n",
    "    seeingsigma = 1.\n",
    "\n",
    "    imagestack = np.zeros((imageshape[0],imageshape[1],len(time)))\n",
    "    xcoord,ycoord = np.meshgrid(np.arange(imageshape[1]),np.arange(imageshape[0])) #strange order\n",
    "\n",
    "\n",
    "\n",
    "    backgroundnoise = 10.\n",
    "\n",
    "    #add starlight\n",
    "    distance1 = np.sqrt((xcoord-star1pos[0])**2 + (ycoord-star1pos[1])**2)\n",
    "\n",
    "    for i in range(len(time)):\n",
    "        #star 1\n",
    "        imagestack[:,:,i] += stats.norm.pdf(distance1,scale=seeingsigma) * star1flux * (1. + signal[i])\n",
    "\n",
    "\n",
    "        #add measurement noise\n",
    "        #should probably be Poisson\n",
    "        imagestack[:,:,i] += stats.norm.rvs(size=imagestack[:,:,i].size).reshape(imageshape) * np.sqrt(imagestack[:,:,i])\n",
    "\n",
    "        #background\n",
    "        #imagestack[:,:,i] += backgroundnoise\n",
    "        imagestack[:,:,i] += stats.norm.rvs(size=imagestack[:,:,i].size).reshape(imageshape) * np.sqrt(backgroundnoise)\n",
    "    stars = imagestack[:,:,:].T\n",
    "    diction = {\n",
    "        'stars':stars,\n",
    "        'frequency':freq,\n",
    "        'starposition':star1pos,\n",
    "        'starflux':star1flux,\n",
    "        'time':time,\n",
    "        'imageshape':imageshape\n",
    "    }\n",
    "    return diction"
   ]
  },
  {
   "cell_type": "code",
   "execution_count": 3,
   "metadata": {},
   "outputs": [],
   "source": [
    "def frequency_heatmap(pg,timeserieslength,frequency):\n",
    "    heat_stamp = []\n",
    "        \n",
    "    for i in np.arange(0,len(pg)):\n",
    "        for j in np.arange(0,len(pg[0])):\n",
    "            mask = np.zeros((len(pg),len(pg[0])), dtype=bool)\n",
    "            mask[i][j] = True\n",
    "                \n",
    "            period = pg[mask][0]\n",
    "            normperiod = np.asarray(period.power)/np.nanmedian(np.asarray(period.power))\n",
    "            freq = np.asarray(period.frequency)\n",
    "            sums = 0 \n",
    "            background = 0\n",
    "            for k in np.arange(len(frequency)):\n",
    "                sums += np.asarray(normperiod[np.where((freq < frequency[k]+(1/timeserieslength) ) & (freq > frequency[k]-(1/timeserieslength)))]).sum()\n",
    "                background += len(np.where((freq < frequency[k]+(1/timeserieslength) ) & (freq > frequency[k]-(1/timeserieslength)))[0])\n",
    "            heat_stamp.extend([sums-background])\n",
    "        \n",
    "    heat_stamp = np.reshape(np.asarray(heat_stamp),(len(pg),len(pg[0])))\n",
    "    return heat_stamp"
   ]
  },
  {
   "cell_type": "code",
   "execution_count": 5,
   "metadata": {},
   "outputs": [],
   "source": [
    "def tdg_fit(heatmap_data):\n",
    "    \n",
    "    def two_dGaussian( shape , amplitude, xo, yo, sigma, offset):\n",
    "        x,y = np.meshgrid(shape[0],shape[1])\n",
    "        xo = float(xo)\n",
    "        yo = float(yo)    \n",
    "        b = 1/(2*sigma**2)\n",
    "        g = offset + amplitude*np.exp( - (b*((x-xo)**2) + b*((y-yo)**2)))\n",
    "        return g.flatten()\n",
    "    \n",
    "    c = cent.centroid_2dg(heatmap_data)\n",
    "    x = np.arange(0,np.shape(heatmap_data)[0])\n",
    "    y = np.arange(0,np.shape(heatmap_data)[1])\n",
    "\n",
    "    initial_guess = (heatmap_data.max(),c[0],c[1],1,np.nanmedian(heatmap_data))\n",
    "    popt, pcov = opt.curve_fit(two_dGaussian, (x,y),heatmap_data.flatten(), p0=initial_guess)\n",
    "    \n",
    "    return popt,np.sqrt(np.diagonal(pcov))"
   ]
  },
  {
   "cell_type": "code",
   "execution_count": 6,
   "metadata": {},
   "outputs": [],
   "source": [
    "def Create_LightCurve(*simulatedimage):\n",
    "    imageshape = simulatedimage[0]['imageshape']\n",
    "    time = simulatedimage[0]['time']\n",
    "    lc_array = np.zeros(imageshape,dtype=object)\n",
    "    fluxtype = simulatedimage[0]['stars']\n",
    "    for i in np.arange(0,imageshape[0]):\n",
    "        for j in np.arange(0,imageshape[1]):\n",
    "            lc_array[j][i] = lk.LightCurve(time = time, flux = fluxtype.T[i,j,:])\n",
    "    return lc_array"
   ]
  },
  {
   "cell_type": "code",
   "execution_count": 9,
   "metadata": {},
   "outputs": [],
   "source": [
    "def Create_Periodogram(lc):\n",
    "    pg = np.zeros(shape = (len(lc[0]),len(lc[1])),dtype=object)\n",
    "    for i in np.arange(0,len(lc[0])):\n",
    "        for j in np.arange(0,len(lc[1])):\n",
    "            pg[i][j] = lc[i][j].to_periodogram()\n",
    "    return pg"
   ]
  },
  {
   "cell_type": "code",
   "execution_count": 12,
   "metadata": {},
   "outputs": [
    {
     "data": {
      "application/vnd.jupyter.widget-view+json": {
       "model_id": "94abdcf3276547ad8087eb588f81e93a",
       "version_major": 2,
       "version_minor": 0
      },
      "text/plain": [
       "HBox(children=(IntProgress(value=0, max=1000), HTML(value='')))"
      ]
     },
     "metadata": {},
     "output_type": "display_data"
    },
    {
     "name": "stderr",
     "output_type": "stream",
     "text": [
      "WARNING: The fit may be unsuccessful; check fit_info['message'] for more information. [astropy.modeling.fitting]\n"
     ]
    },
    {
     "name": "stdout",
     "output_type": "stream",
     "text": [
      "\n"
     ]
    }
   ],
   "source": [
    "fits = []\n",
    "covariance = []\n",
    "for i in tqdm_notebook(np.arange(0,1000)):\n",
    "    image = Simulate_Image(imageshape=(11,11),star1pos=[5,5])\n",
    "    lc = Create_LightCurve(image)\n",
    "    pg = Create_Periodogram(lc)\n",
    "    fhp = frequency_heatmap(pg,48/999,[10])\n",
    "    loc = tdg_fit(fhp)\n",
    "    fits.extend([loc[0]])\n",
    "    covariance.extend([loc[1]])"
   ]
  },
  {
   "cell_type": "code",
   "execution_count": 24,
   "metadata": {},
   "outputs": [],
   "source": [
    "\n",
    "x_values = np.asarray(fits)[:,1]"
   ]
  },
  {
   "cell_type": "code",
   "execution_count": 37,
   "metadata": {},
   "outputs": [],
   "source": [
    "y_values = np.asarray(fits)[:,2]"
   ]
  },
  {
   "cell_type": "code",
   "execution_count": 25,
   "metadata": {},
   "outputs": [],
   "source": [
    "x_err = np.asarray(covariance)[:,1]"
   ]
  },
  {
   "cell_type": "code",
   "execution_count": 26,
   "metadata": {
    "scrolled": true
   },
   "outputs": [],
   "source": [
    "y_err = np.asarray(covariance)[:,2]"
   ]
  },
  {
   "cell_type": "code",
   "execution_count": 33,
   "metadata": {},
   "outputs": [
    {
     "data": {
      "image/png": "[encoded data removed]",
      "text/plain": [
       "<Figure size 432x288 with 1 Axes>"
      ]
     },
     "metadata": {
      "needs_background": "light"
     },
     "output_type": "display_data"
    }
   ],
   "source": [
    "plt.hist(x_values,bins=75);"
   ]
  },
  {
   "cell_type": "code",
   "execution_count": 38,
   "metadata": {},
   "outputs": [
    {
     "data": {
      "image/png": "[encoded data removed]",
      "text/plain": [
       "<Figure size 432x288 with 1 Axes>"
      ]
     },
     "metadata": {
      "needs_background": "light"
     },
     "output_type": "display_data"
    }
   ],
   "source": [
    "plt.hist(y_values,bins=75);"
   ]
  },
  {
   "cell_type": "code",
   "execution_count": 41,
   "metadata": {},
   "outputs": [
    {
     "data": {
      "text/plain": [
       "0.01138664723267301"
      ]
     },
     "execution_count": 41,
     "metadata": {},
     "output_type": "execute_result"
    }
   ],
   "source": [
    "np.std(np.sqrt(np.square(5-x_values)+np.square(5-y_values)))"
   ]
  },
  {
   "cell_type": "code",
   "execution_count": 42,
   "metadata": {},
   "outputs": [
    {
     "data": {
      "text/plain": [
       "0.022036297366638324"
      ]
     },
     "execution_count": 42,
     "metadata": {},
     "output_type": "execute_result"
    }
   ],
   "source": [
    "np.mean(np.sqrt(np.square(x_err)+np.square(y_err)))"
   ]
  },
  {
   "cell_type": "code",
   "execution_count": 44,
   "metadata": {},
   "outputs": [],
   "source": [
    "data_frame =  pd.DataFrame({'x values': x_values,\n",
    "                            'y values': y_values,\n",
    "                            'x std. from fit': x_err,\n",
    "                            'y std. from fit': y_err})"
   ]
  },
  {
   "cell_type": "code",
   "execution_count": 47,
   "metadata": {},
   "outputs": [],
   "source": [
    "data_frame.to_csv('1000simulatedfits.csv')"
   ]
  },
  {
   "cell_type": "markdown",
   "metadata": {},
   "source": [
    "pixelmapperiodogram <class> takes tpf, and periodogram info\n",
    "    self.pg \n",
    "        \"2d-array of periodograms\"\n",
    "    self.timeserieslength\n",
    "    \n",
    "    \n",
    "    funct plot()\n",
    "        plots frequency power specturm of periodogram for each pixel\n",
    "    funct gaia_data()\n",
    "        sets self.gaiadata\n",
    "        \n",
    "    funct to_heatmap([frequencylist]) returns class\n",
    "        \n",
    "Frequency heatmap <class> takes pixelmapperiodogram, and frequencylist\n",
    "    self.frequencyheatmap \n",
    "        2d array of integrated frequency power spectrums\n",
    "\n",
    "\n",
    "    funct centroid(self)\n",
    "        sets self.x, self.y, self.cov\n",
    "\n",
    "    funct closeststar(self)\n",
    "        sets self.closeststar \n"
   ]
  },
  {
   "cell_type": "markdown",
   "metadata": {},
   "source": [
    "iter tools\n"
   ]
  }
 ],
 "metadata": {
  "kernelspec": {
   "display_name": "Python 3",
   "language": "python",
   "name": "python3"
  },
  "language_info": {
   "codemirror_mode": {
    "name": "ipython",
    "version": 3
   },
   "file_extension": ".py",
   "mimetype": "text/x-python",
   "name": "python",
   "nbconvert_exporter": "python",
   "pygments_lexer": "ipython3",
   "version": "3.6.8"
  }
 },
 "nbformat": 4,
 "nbformat_minor": 2
}
