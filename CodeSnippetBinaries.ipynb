{
 "cells": [
  {
   "cell_type": "code",
   "execution_count": null,
   "metadata": {},
   "outputs": [],
   "source": [
    "import TESS_Localize as tl\n",
    "def xyinfo(tpf, freqlist, frequnit=u.uHz):\n",
    "    \n",
    "    fitinfo = tl.PixelMapFit(targetpixelfile=tpf, gaia=False, frequencies=freqlist, frequnit=frequnit, principal_components = 3)\n",
    "\n",
    "    header = tpf.get_header()\n",
    "    year = ((tpf.time[0].jd - 2457206.375) * u.day).to(u.year)\n",
    "    pmra = ((np.nan_to_num(header['PMRA']) * u.milliarcsecond/u.year) * year).to(u.deg).value\n",
    "    pmdec = ((np.nan_to_num(header['PMDEC']) * u.milliarcsecond/u.year) * year).to(u.deg).value    \n",
    "    radecs = np.vstack([tpf.ra+pmra, tpf.dec+pmdec]).T\n",
    "    coords = tpf.wcs.all_world2pix(radecs, 0) \n",
    "    \n",
    "    info = dict(source_location = coords[0], x_fit = fitinfo.result.params['x'].value, \n",
    "                y_fit = fitinfo.result.params['y'].value,\n",
    "                x_err = fitinfo.result.params['x'].stderr, \n",
    "                y_err = fitinfo.result.params['y'].stderr)\n",
    "    \n",
    "    return info"
   ]
  },
  {
   "cell_type": "code",
   "execution_count": 2,
   "metadata": {},
   "outputs": [
    {
     "name": "stdout",
     "output_type": "stream",
     "text": [
      "hello\n",
      "yum\n"
     ]
    }
   ],
   "source": [
    "a=5\n",
    "\n",
    "if a ==5:\n",
    "    print('hello')\n",
    "    \n",
    "else:\n",
    "    print('Fuck')\n",
    "    \n",
    "print('yum')"
   ]
  }
 ],
 "metadata": {
  "kernelspec": {
   "display_name": "Python 3",
   "language": "python",
   "name": "python3"
  },
  "language_info": {
   "codemirror_mode": {
    "name": "ipython",
    "version": 3
   },
   "file_extension": ".py",
   "mimetype": "text/x-python",
   "name": "python",
   "nbconvert_exporter": "python",
   "pygments_lexer": "ipython3",
   "version": "3.8.5"
  }
 },
 "nbformat": 4,
 "nbformat_minor": 4
}
